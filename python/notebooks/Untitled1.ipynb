{
 "cells": [
  {
   "cell_type": "code",
   "execution_count": 1,
   "metadata": {
    "collapsed": true
   },
   "outputs": [],
   "source": [
    "import karps as ks\n",
    "import karps.functions as f\n",
    "from karps.display import show_phase"
   ]
  },
  {
   "cell_type": "code",
   "execution_count": 2,
   "metadata": {
    "collapsed": true
   },
   "outputs": [],
   "source": [
    "o1 = ks.observable(1, name=\"a\")\n",
    "o2 = ks.observable(2, name=\"b\")"
   ]
  },
  {
   "cell_type": "code",
   "execution_count": 3,
   "metadata": {
    "collapsed": true
   },
   "outputs": [],
   "source": [
    "o = o2 - o1"
   ]
  },
  {
   "cell_type": "code",
   "execution_count": 4,
   "metadata": {
    "collapsed": true
   },
   "outputs": [],
   "source": [
    "s = ks.session(\"test3\")\n",
    "comp = s.compute(o)"
   ]
  },
  {
   "cell_type": "code",
   "execution_count": 5,
   "metadata": {},
   "outputs": [
    {
     "data": {
      "text/html": [
       "\n",
       "        <iframe seamless style=\"width:1000px;height:620px;border:0\" srcdoc=\"\n",
       "        <script src=&quot;//cdnjs.cloudflare.com/ajax/libs/polymer/0.3.3/platform.js&quot;></script>\n",
       "        <script>\n",
       "          function load() {\n",
       "            document.getElementById(&quot;graph0.47021789197628305&quot;).pbtxt = 'node {\\n  name: &quot;a&quot;\\n  op: &quot;org.spark.LocalLiteral&quot;\\n  device: &quot;/spark:0&quot;\\n  attr {\\n    key: &quot;extra&quot;\\n    value {\\n      s: &quot;cell { int_value: 1 } cell_type { basic_type: INT }&quot;\\n    }\\n  }\\n  attr {\\n    key: &quot;type&quot;\\n    value {\\n      s: &quot;int&quot;\\n    }\\n  }\\n}\\nnode {\\n  name: &quot;b&quot;\\n  op: &quot;org.spark.LocalLiteral&quot;\\n  device: &quot;/spark:0&quot;\\n  attr {\\n    key: &quot;extra&quot;\\n    value {\\n      s: &quot;cell { int_value: 2 } cell_type { basic_type: INT }&quot;\\n    }\\n  }\\n  attr {\\n    key: &quot;type&quot;\\n    value {\\n      s: &quot;int&quot;\\n    }\\n  }\\n}\\nnode {\\n  name: &quot;minus_0&quot;\\n  op: &quot;org.spark.LocalStructuredTransform&quot;\\n  input: &quot;b&quot;\\n  input: &quot;a&quot;\\n  device: &quot;/spark:0&quot;\\n  attr {\\n    key: &quot;extra&quot;\\n    value {\\n      s: &quot;col_op {\\\\n  function {\\\\n    function_name: \\\\&quot;minus\\\\&quot;\\\\n    inputs { broadcast { } }\\\\n    inputs { broadcast { observable_index: 1 } }\\\\n    expected_type { basic_type: INT }\\\\n  }\\\\n}&quot;\\n    }\\n  }\\n  attr {\\n    key: &quot;type&quot;\\n    value {\\n      s: &quot;int&quot;\\n    }\\n  }\\n}\\n';\n",
       "          }\n",
       "        </script>\n",
       "        <link rel=&quot;import&quot; href=&quot;https://tensorboard.appspot.com/tf-graph-basic.build.html&quot; onload=load()>\n",
       "        <div style=&quot;height:600px&quot;>\n",
       "          <tf-graph-basic id=&quot;graph0.47021789197628305&quot;></tf-graph-basic>\n",
       "        </div>\n",
       "    \"></iframe>\n",
       "    "
      ],
      "text/plain": [
       "<IPython.core.display.HTML object>"
      ]
     },
     "metadata": {},
     "output_type": "display_data"
    }
   ],
   "source": [
    "show_phase(comp, \"initial\")"
   ]
  },
  {
   "cell_type": "code",
   "execution_count": 6,
   "metadata": {},
   "outputs": [
    {
     "data": {
      "text/html": [
       "\n",
       "        <iframe seamless style=\"width:1000px;height:620px;border:0\" srcdoc=\"\n",
       "        <script src=&quot;//cdnjs.cloudflare.com/ajax/libs/polymer/0.3.3/platform.js&quot;></script>\n",
       "        <script>\n",
       "          function load() {\n",
       "            document.getElementById(&quot;graph0.34664431315175026&quot;).pbtxt = 'node {\\n  name: &quot;a&quot;\\n  op: &quot;org.spark.LocalLiteral&quot;\\n  device: &quot;/spark:0&quot;\\n  attr {\\n    key: &quot;extra&quot;\\n    value {\\n      s: &quot;cell { int_value: 1 } cell_type { basic_type: INT }&quot;\\n    }\\n  }\\n  attr {\\n    key: &quot;type&quot;\\n    value {\\n      s: &quot;int&quot;\\n    }\\n  }\\n}\\nnode {\\n  name: &quot;b&quot;\\n  op: &quot;org.spark.LocalLiteral&quot;\\n  device: &quot;/spark:0&quot;\\n  attr {\\n    key: &quot;extra&quot;\\n    value {\\n      s: &quot;cell { int_value: 2 } cell_type { basic_type: INT }&quot;\\n    }\\n  }\\n  attr {\\n    key: &quot;type&quot;\\n    value {\\n      s: &quot;int&quot;\\n    }\\n  }\\n}\\nnode {\\n  name: &quot;minus_0_karps_localpack&quot;\\n  op: &quot;org.spark.LocalPack&quot;\\n  input: &quot;b&quot;\\n  input: &quot;a&quot;\\n  device: &quot;/spark:0&quot;\\n  attr {\\n    key: &quot;extra&quot;\\n    value {\\n      s: &quot;&quot;\\n    }\\n  }\\n  attr {\\n    key: &quot;type&quot;\\n    value {\\n      s: &quot;{_1:int _2:int}&quot;\\n    }\\n  }\\n}\\nnode {\\n  name: &quot;minus_0&quot;\\n  op: &quot;org.spark.LocalStructuredTransform&quot;\\n  input: &quot;minus_0_karps_localpack&quot;\\n  device: &quot;/spark:0&quot;\\n  attr {\\n    key: &quot;extra&quot;\\n    value {\\n      s: &quot;col_op {\\\\n  function {\\\\n    function_name: \\\\&quot;minus\\\\&quot;\\\\n    inputs { extraction { path: \\\\&quot;_1\\\\&quot; } }\\\\n    inputs { extraction { path: \\\\&quot;_2\\\\&quot; } }\\\\n    expected_type { basic_type: INT }\\\\n  }\\\\n}&quot;\\n    }\\n  }\\n  attr {\\n    key: &quot;type&quot;\\n    value {\\n      s: &quot;int&quot;\\n    }\\n  }\\n}\\n';\n",
       "          }\n",
       "        </script>\n",
       "        <link rel=&quot;import&quot; href=&quot;https://tensorboard.appspot.com/tf-graph-basic.build.html&quot; onload=load()>\n",
       "        <div style=&quot;height:600px&quot;>\n",
       "          <tf-graph-basic id=&quot;graph0.34664431315175026&quot;></tf-graph-basic>\n",
       "        </div>\n",
       "    \"></iframe>\n",
       "    "
      ],
      "text/plain": [
       "<IPython.core.display.HTML object>"
      ]
     },
     "metadata": {},
     "output_type": "display_data"
    }
   ],
   "source": [
    "show_phase(comp, \"REMOVE_OBSERVABLE_BROADCASTS\")"
   ]
  },
  {
   "cell_type": "code",
   "execution_count": 7,
   "metadata": {},
   "outputs": [
    {
     "data": {
      "text/html": [
       "\n",
       "        <iframe seamless style=\"width:1000px;height:620px;border:0\" srcdoc=\"\n",
       "        <script src=&quot;//cdnjs.cloudflare.com/ajax/libs/polymer/0.3.3/platform.js&quot;></script>\n",
       "        <script>\n",
       "          function load() {\n",
       "            document.getElementById(&quot;graph0.24307191910705517&quot;).pbtxt = 'node {\\n  name: &quot;a&quot;\\n  op: &quot;org.spark.LocalLiteral&quot;\\n  device: &quot;/spark:0&quot;\\n  attr {\\n    key: &quot;extra&quot;\\n    value {\\n      s: &quot;cell { int_value: 1 } cell_type { basic_type: INT }&quot;\\n    }\\n  }\\n  attr {\\n    key: &quot;type&quot;\\n    value {\\n      s: &quot;int&quot;\\n    }\\n  }\\n}\\nnode {\\n  name: &quot;b&quot;\\n  op: &quot;org.spark.LocalLiteral&quot;\\n  device: &quot;/spark:0&quot;\\n  attr {\\n    key: &quot;extra&quot;\\n    value {\\n      s: &quot;cell { int_value: 2 } cell_type { basic_type: INT }&quot;\\n    }\\n  }\\n  attr {\\n    key: &quot;type&quot;\\n    value {\\n      s: &quot;int&quot;\\n    }\\n  }\\n}\\nnode {\\n  name: &quot;minus_0_karps_localpack&quot;\\n  op: &quot;org.spark.LocalPack&quot;\\n  input: &quot;b&quot;\\n  input: &quot;a&quot;\\n  device: &quot;/spark:0&quot;\\n  attr {\\n    key: &quot;extra&quot;\\n    value {\\n      s: &quot;&quot;\\n    }\\n  }\\n  attr {\\n    key: &quot;type&quot;\\n    value {\\n      s: &quot;{_1:int _2:int}&quot;\\n    }\\n  }\\n}\\nnode {\\n  name: &quot;minus_0&quot;\\n  op: &quot;org.spark.LocalStructuredTransform&quot;\\n  input: &quot;minus_0_karps_localpack&quot;\\n  device: &quot;/spark:0&quot;\\n  attr {\\n    key: &quot;extra&quot;\\n    value {\\n      s: &quot;col_op {\\\\n  function {\\\\n    function_name: \\\\&quot;minus\\\\&quot;\\\\n    inputs { extraction { path: \\\\&quot;_1\\\\&quot; } }\\\\n    inputs { extraction { path: \\\\&quot;_2\\\\&quot; } }\\\\n    expected_type { basic_type: INT }\\\\n  }\\\\n}&quot;\\n    }\\n  }\\n  attr {\\n    key: &quot;type&quot;\\n    value {\\n      s: &quot;int&quot;\\n    }\\n  }\\n}\\n';\n",
       "          }\n",
       "        </script>\n",
       "        <link rel=&quot;import&quot; href=&quot;https://tensorboard.appspot.com/tf-graph-basic.build.html&quot; onload=load()>\n",
       "        <div style=&quot;height:600px&quot;>\n",
       "          <tf-graph-basic id=&quot;graph0.24307191910705517&quot;></tf-graph-basic>\n",
       "        </div>\n",
       "    \"></iframe>\n",
       "    "
      ],
      "text/plain": [
       "<IPython.core.display.HTML object>"
      ]
     },
     "metadata": {},
     "output_type": "display_data"
    }
   ],
   "source": [
    "show_phase(comp, \"MERGE_AGGREGATIONS\")"
   ]
  },
  {
   "cell_type": "code",
   "execution_count": 8,
   "metadata": {},
   "outputs": [
    {
     "data": {
      "text/html": [
       "\n",
       "        <iframe seamless style=\"width:1000px;height:620px;border:0\" srcdoc=\"\n",
       "        <script src=&quot;//cdnjs.cloudflare.com/ajax/libs/polymer/0.3.3/platform.js&quot;></script>\n",
       "        <script>\n",
       "          function load() {\n",
       "            document.getElementById(&quot;graph0.0968038282718574&quot;).pbtxt = 'node {\\n  name: &quot;a&quot;\\n  op: &quot;org.spark.LocalLiteral&quot;\\n  device: &quot;/spark:0&quot;\\n  attr {\\n    key: &quot;extra&quot;\\n    value {\\n      s: &quot;cell { int_value: 1 } cell_type { basic_type: INT }&quot;\\n    }\\n  }\\n  attr {\\n    key: &quot;type&quot;\\n    value {\\n      s: &quot;int&quot;\\n    }\\n  }\\n}\\nnode {\\n  name: &quot;b&quot;\\n  op: &quot;org.spark.LocalLiteral&quot;\\n  device: &quot;/spark:0&quot;\\n  attr {\\n    key: &quot;extra&quot;\\n    value {\\n      s: &quot;cell { int_value: 2 } cell_type { basic_type: INT }&quot;\\n    }\\n  }\\n  attr {\\n    key: &quot;type&quot;\\n    value {\\n      s: &quot;int&quot;\\n    }\\n  }\\n}\\nnode {\\n  name: &quot;minus_0_karps_localpack&quot;\\n  op: &quot;org.spark.LocalPack&quot;\\n  input: &quot;b&quot;\\n  input: &quot;a&quot;\\n  device: &quot;/spark:0&quot;\\n  attr {\\n    key: &quot;extra&quot;\\n    value {\\n      s: &quot;&quot;\\n    }\\n  }\\n  attr {\\n    key: &quot;type&quot;\\n    value {\\n      s: &quot;{_1:int _2:int}&quot;\\n    }\\n  }\\n}\\nnode {\\n  name: &quot;minus_0&quot;\\n  op: &quot;org.spark.LocalStructuredTransform&quot;\\n  input: &quot;minus_0_karps_localpack&quot;\\n  device: &quot;/spark:0&quot;\\n  attr {\\n    key: &quot;extra&quot;\\n    value {\\n      s: &quot;col_op {\\\\n  function {\\\\n    function_name: \\\\&quot;minus\\\\&quot;\\\\n    inputs { extraction { path: \\\\&quot;_1\\\\&quot; } }\\\\n    inputs { extraction { path: \\\\&quot;_2\\\\&quot; } }\\\\n    expected_type { basic_type: INT }\\\\n  }\\\\n}&quot;\\n    }\\n  }\\n  attr {\\n    key: &quot;type&quot;\\n    value {\\n      s: &quot;int&quot;\\n    }\\n  }\\n}\\n';\n",
       "          }\n",
       "        </script>\n",
       "        <link rel=&quot;import&quot; href=&quot;https://tensorboard.appspot.com/tf-graph-basic.build.html&quot; onload=load()>\n",
       "        <div style=&quot;height:600px&quot;>\n",
       "          <tf-graph-basic id=&quot;graph0.0968038282718574&quot;></tf-graph-basic>\n",
       "        </div>\n",
       "    \"></iframe>\n",
       "    "
      ],
      "text/plain": [
       "<IPython.core.display.HTML object>"
      ]
     },
     "metadata": {},
     "output_type": "display_data"
    }
   ],
   "source": [
    "show_phase(comp, \"final\")"
   ]
  },
  {
   "cell_type": "code",
   "execution_count": 9,
   "metadata": {},
   "outputs": [
    {
     "data": {
      "text/plain": [
       "(int, int_value: 1\n",
       ")"
      ]
     },
     "execution_count": 9,
     "metadata": {},
     "output_type": "execute_result"
    }
   ],
   "source": [
    "comp.values()"
   ]
  },
  {
   "cell_type": "code",
   "execution_count": null,
   "metadata": {
    "collapsed": true
   },
   "outputs": [],
   "source": []
  }
 ],
 "metadata": {
  "kernelspec": {
   "display_name": "Python 3",
   "language": "python",
   "name": "python3"
  },
  "language_info": {
   "codemirror_mode": {
    "name": "ipython",
    "version": 3
   },
   "file_extension": ".py",
   "mimetype": "text/x-python",
   "name": "python",
   "nbconvert_exporter": "python",
   "pygments_lexer": "ipython3",
   "version": "3.5.2"
  }
 },
 "nbformat": 4,
 "nbformat_minor": 2
}
