{
 "cells": [
  {
   "cell_type": "code",
   "execution_count": 1,
   "metadata": {
    "collapsed": true
   },
   "outputs": [],
   "source": [
    "# Combining with structured transforms\n",
    "import karps as ks\n",
    "import karps.functions as f\n",
    "from karps.display import show_phase"
   ]
  },
  {
   "cell_type": "code",
   "execution_count": 2,
   "metadata": {},
   "outputs": [
    {
     "data": {
      "text/plain": [
       "/employees@org.spark.DistributedLiteral:{my_key:string, my_val:int}"
      ]
     },
     "execution_count": 2,
     "metadata": {},
     "output_type": "execute_result"
    }
   ],
   "source": [
    "employees = ks.dataframe([(\"a\", 1), (\"a\", 2), (\"b\", 1)], schema=[\"my_key\", \"my_val\"],\n",
    "name=\"employees\")\n",
    "employees"
   ]
  },
  {
   "cell_type": "code",
   "execution_count": 3,
   "metadata": {},
   "outputs": [
    {
     "data": {
      "text/plain": [
       "KeyedGroup(ref=/employees@org.spark.DistributedLiteral:{my_key:string, my_val:int}, key=string, value={my_key:string, my_val:int})"
      ]
     },
     "execution_count": 3,
     "metadata": {},
     "output_type": "execute_result"
    }
   ],
   "source": [
    "g = employees.groupby(employees.my_key)\n",
    "g"
   ]
  },
  {
   "cell_type": "code",
   "execution_count": 4,
   "metadata": {},
   "outputs": [
    {
     "name": "stdout",
     "output_type": "stream",
     "text": [
      "_col_op_proto: extraction=['my_key'] c=key:string<-/employees@org.spark.DistributedLiteral:{my_key:string, my_val:int}\n",
      "_col_op_proto: extraction=[] c=value:{my_key:string, my_val:int}<-/employees@org.spark.DistributedLiteral:{my_key:string, my_val:int}\n",
      "_as_nodes: x=<class 'karps.column.DataFrame'>:/employees@org.spark.DistributedLiteral:{my_key:string, my_val:int}\n",
      "_col_op_proto: extraction=['my_val'] c=my_val:int<-/placeholder_1@org.spark.Placeholder:{my_key:string, my_val:int}\n",
      "_as_nodes: x=<class 'karps.column.DataFrame'>:/placeholder_1@org.spark.Placeholder:{my_key:string, my_val:int}\n",
      "_as_nodes: x=<class 'karps.column.DataFrame'>:/structured_transform_2@org.spark.StructuredTransform:int\n",
      "_agg_ks: out=[('the_max', /max_3!org.spark.StructuredReduce:int)]\n",
      "_as_nodes: x=<class 'karps.column.DataFrame'>:/structured_transform_0@org.spark.StructuredTransform:{key:string, value:{my_key:string, my_val:int}}\n",
      "_as_nodes: x=<class 'karps.column.DataFrame'>:/placeholder_1@org.spark.Placeholder:{my_key:string, my_val:int}\n",
      "_as_nodes: x=<class 'karps.column.Observable'>:/max_3!org.spark.StructuredReduce:int\n"
     ]
    },
    {
     "data": {
      "text/plain": [
       "/shuffle_4@org.spark.FunctionalShuffle:{key:string, the_max:int}"
      ]
     },
     "execution_count": 4,
     "metadata": {},
     "output_type": "execute_result"
    }
   ],
   "source": [
    "df2 = g.agg({\"the_max\": lambda x: f.max(x.my_val)})\n",
    "df2"
   ]
  },
  {
   "cell_type": "code",
   "execution_count": 5,
   "metadata": {},
   "outputs": [
    {
     "name": "stdout",
     "output_type": "stream",
     "text": [
      "_as_nodes: x=<class 'karps.column.DataFrame'>:/shuffle_4@org.spark.FunctionalShuffle:{key:string, the_max:int}\n"
     ]
    },
    {
     "data": {
      "text/plain": [
       "/collect_list_5!org.spark.StructuredReduce:[{key:string, the_max:int}]"
      ]
     },
     "execution_count": 5,
     "metadata": {},
     "output_type": "execute_result"
    }
   ],
   "source": [
    "o = f.collect(df2)\n",
    "o"
   ]
  },
  {
   "cell_type": "code",
   "execution_count": 6,
   "metadata": {
    "collapsed": true
   },
   "outputs": [],
   "source": [
    "s = ks.session(\"demo2b\")\n",
    "comp = s.compute(o)"
   ]
  },
  {
   "cell_type": "code",
   "execution_count": 7,
   "metadata": {
    "scrolled": true
   },
   "outputs": [
    {
     "data": {
      "text/html": [
       "\n",
       "        <iframe seamless style=\"width:1000px;height:620px;border:0\" srcdoc=\"\n",
       "        <script src=&quot;//cdnjs.cloudflare.com/ajax/libs/polymer/0.3.3/platform.js&quot;></script>\n",
       "        <script>\n",
       "          function load() {\n",
       "            document.getElementById(&quot;graph0.7486984073072984&quot;).pbtxt = 'node {\\n  name: &quot;placeholder_1&quot;\\n  op: &quot;org.spark.Placeholder&quot;\\n  device: &quot;/spark:0&quot;\\n  attr {\\n    key: &quot;locality&quot;\\n    value {\\n      s: &quot;Distributed&quot;\\n    }\\n  }\\n  attr {\\n    key: &quot;type&quot;\\n    value {\\n      s: &quot;{my_key:string my_val:int}&quot;\\n    }\\n  }\\n  attr {\\n    key: &quot;zextra&quot;\\n    value {\\n      s: &quot;locality: DISTRIBUTEDdata_type {  struct_type {    fields { field_name: .my_key. field_type { basic_type: STRING } }    fields { field_name: .my_val. field_type { basic_type: INT } }  }}&quot;\\n    }\\n  }\\n}\\nnode {\\n  name: &quot;structured_transform_2&quot;\\n  op: &quot;org.spark.StructuredTransform&quot;\\n  input: &quot;placeholder_1&quot;\\n  device: &quot;/spark:0&quot;\\n  attr {\\n    key: &quot;locality&quot;\\n    value {\\n      s: &quot;Distributed&quot;\\n    }\\n  }\\n  attr {\\n    key: &quot;type&quot;\\n    value {\\n      s: &quot;int&quot;\\n    }\\n  }\\n  attr {\\n    key: &quot;zextra&quot;\\n    value {\\n      s: &quot;col_op { extraction { path: .my_val. } }&quot;\\n    }\\n  }\\n}\\nnode {\\n  name: &quot;max_3&quot;\\n  op: &quot;org.spark.StructuredReduce&quot;\\n  input: &quot;structured_transform_2&quot;\\n  device: &quot;/spark:0&quot;\\n  attr {\\n    key: &quot;locality&quot;\\n    value {\\n      s: &quot;Local&quot;\\n    }\\n  }\\n  attr {\\n    key: &quot;type&quot;\\n    value {\\n      s: &quot;int&quot;\\n    }\\n  }\\n  attr {\\n    key: &quot;zextra&quot;\\n    value {\\n      s: &quot;agg_op {  op {    function_name: .max. inputs { } expected_type { basic_type: INT }  }}&quot;\\n    }\\n  }\\n}\\nnode {\\n  name: &quot;employees&quot;\\n  op: &quot;org.spark.DistributedLiteral&quot;\\n  device: &quot;/spark:0&quot;\\n  attr {\\n    key: &quot;locality&quot;\\n    value {\\n      s: &quot;Distributed&quot;\\n    }\\n  }\\n  attr {\\n    key: &quot;type&quot;\\n    value {\\n      s: &quot;{my_key:string my_val:int}&quot;\\n    }\\n  }\\n  attr {\\n    key: &quot;zextra&quot;\\n    value {\\n      s: &quot;cell {  array_value {    values {      struct_value {        values { string_value: .a. } values { int_value: 1 }      }    }    values {      struct_value {        values { string_value: .a. } values { int_value: 2 }      }    }    values {      struct_value {        values { string_value: .b. } values { int_value: 1 }      }    }  }}cell_type {  array_type {    struct_type {      fields { field_name: .my_key. field_type { basic_type: STRING } }      fields { field_name: .my_val. field_type { basic_type: INT } }    }  }}&quot;\\n    }\\n  }\\n}\\nnode {\\n  name: &quot;structured_transform_0&quot;\\n  op: &quot;org.spark.StructuredTransform&quot;\\n  input: &quot;employees&quot;\\n  device: &quot;/spark:0&quot;\\n  attr {\\n    key: &quot;locality&quot;\\n    value {\\n      s: &quot;Distributed&quot;\\n    }\\n  }\\n  attr {\\n    key: &quot;type&quot;\\n    value {\\n      s: &quot;{key:string value:{my_key:string my_val:int}}&quot;\\n    }\\n  }\\n  attr {\\n    key: &quot;zextra&quot;\\n    value {\\n      s: &quot;col_op {  struct {    fields { extraction { path: .my_key. } field_name: .key. }    fields { extraction { } field_name: .value. }  }}&quot;\\n    }\\n  }\\n}\\nnode {\\n  name: &quot;shuffle_4&quot;\\n  op: &quot;org.spark.FunctionalShuffle&quot;\\n  input: &quot;structured_transform_0&quot;\\n  input: &quot;placeholder_1&quot;\\n  input: &quot;max_3&quot;\\n  device: &quot;/spark:0&quot;\\n  attr {\\n    key: &quot;locality&quot;\\n    value {\\n      s: &quot;Distributed&quot;\\n    }\\n  }\\n  attr {\\n    key: &quot;type&quot;\\n    value {\\n      s: &quot;{key:string value:int}&quot;\\n    }\\n  }\\n  attr {\\n    key: &quot;zextra&quot;\\n    value {\\n      s: &quot;&quot;\\n    }\\n  }\\n}\\nnode {\\n  name: &quot;collect_list_5&quot;\\n  op: &quot;org.spark.StructuredReduce&quot;\\n  input: &quot;shuffle_4&quot;\\n  device: &quot;/spark:0&quot;\\n  attr {\\n    key: &quot;locality&quot;\\n    value {\\n      s: &quot;Local&quot;\\n    }\\n  }\\n  attr {\\n    key: &quot;type&quot;\\n    value {\\n      s: &quot;[{key:string value:int}]&quot;\\n    }\\n  }\\n  attr {\\n    key: &quot;zextra&quot;\\n    value {\\n      s: &quot;agg_op {  op {    function_name: .collect_list.    inputs { }    expected_type {      array_type {        struct_type {          fields { field_name: .key. field_type { basic_type: STRING } }          fields { field_name: .value. field_type { basic_type: INT } }        }      }    }  }}&quot;\\n    }\\n  }\\n}\\n';\n",
       "          }\n",
       "        </script>\n",
       "        <link rel=&quot;import&quot; href=&quot;https://tensorboard.appspot.com/tf-graph-basic.build.html&quot; onload=load()>\n",
       "        <div style=&quot;height:600px&quot;>\n",
       "          <tf-graph-basic id=&quot;graph0.7486984073072984&quot;></tf-graph-basic>\n",
       "        </div>\n",
       "    \"></iframe>\n",
       "    "
      ],
      "text/plain": [
       "<IPython.core.display.HTML object>"
      ]
     },
     "metadata": {},
     "output_type": "display_data"
    }
   ],
   "source": [
    "show_phase(comp, \"initial\")"
   ]
  },
  {
   "cell_type": "code",
   "execution_count": 8,
   "metadata": {},
   "outputs": [
    {
     "data": {
      "text/html": [
       "\n",
       "        <iframe seamless style=\"width:1000px;height:620px;border:0\" srcdoc=\"\n",
       "        <script src=&quot;//cdnjs.cloudflare.com/ajax/libs/polymer/0.3.3/platform.js&quot;></script>\n",
       "        <script>\n",
       "          function load() {\n",
       "            document.getElementById(&quot;graph0.2880797987983281&quot;).pbtxt = 'node {\\n  name: &quot;employees&quot;\\n  op: &quot;org.spark.DistributedLiteral&quot;\\n  device: &quot;/spark:0&quot;\\n  attr {\\n    key: &quot;locality&quot;\\n    value {\\n      s: &quot;Distributed&quot;\\n    }\\n  }\\n  attr {\\n    key: &quot;type&quot;\\n    value {\\n      s: &quot;{my_key:string my_val:int}&quot;\\n    }\\n  }\\n  attr {\\n    key: &quot;zextra&quot;\\n    value {\\n      s: &quot;cell {  array_value {    values {      struct_value {        values { string_value: .a. } values { int_value: 1 }      }    }    values {      struct_value {        values { string_value: .a. } values { int_value: 2 }      }    }    values {      struct_value {        values { string_value: .b. } values { int_value: 1 }      }    }  }}cell_type {  array_type {    struct_type {      fields { field_name: .my_key. field_type { basic_type: STRING } }      fields { field_name: .my_val. field_type { basic_type: INT } }    }  }}&quot;\\n    }\\n  }\\n}\\nnode {\\n  name: &quot;structured_transform_0&quot;\\n  op: &quot;org.spark.StructuredTransform&quot;\\n  input: &quot;employees&quot;\\n  device: &quot;/spark:0&quot;\\n  attr {\\n    key: &quot;locality&quot;\\n    value {\\n      s: &quot;Distributed&quot;\\n    }\\n  }\\n  attr {\\n    key: &quot;type&quot;\\n    value {\\n      s: &quot;{key:string value:{my_key:string my_val:int}}&quot;\\n    }\\n  }\\n  attr {\\n    key: &quot;zextra&quot;\\n    value {\\n      s: &quot;col_op {  struct {    fields { extraction { path: .my_key. } field_name: .key. }    fields { extraction { } field_name: .value. }  }}&quot;\\n    }\\n  }\\n}\\nnode {\\n  name: &quot;placeholder_1&quot;\\n  op: &quot;org.spark.StructuredTransform&quot;\\n  input: &quot;structured_transform_0&quot;\\n  device: &quot;/spark:0&quot;\\n  attr {\\n    key: &quot;locality&quot;\\n    value {\\n      s: &quot;Distributed&quot;\\n    }\\n  }\\n  attr {\\n    key: &quot;type&quot;\\n    value {\\n      s: &quot;{key:{key_1:string} value:{my_key:string my_val:int}}&quot;\\n    }\\n  }\\n  attr {\\n    key: &quot;zextra&quot;\\n    value {\\n      s: &quot;col_op {  struct {    fields {      struct {        fields { extraction { path: .key. } field_name: .key_1. }      }      field_name: .key.    }    fields { extraction { path: .value. } field_name: .value. }  }}&quot;\\n    }\\n  }\\n}\\nnode {\\n  name: &quot;structured_transform_2&quot;\\n  op: &quot;org.spark.StructuredTransform&quot;\\n  input: &quot;placeholder_1&quot;\\n  device: &quot;/spark:0&quot;\\n  attr {\\n    key: &quot;locality&quot;\\n    value {\\n      s: &quot;Distributed&quot;\\n    }\\n  }\\n  attr {\\n    key: &quot;type&quot;\\n    value {\\n      s: &quot;{key:{key_1:string} value:int}&quot;\\n    }\\n  }\\n  attr {\\n    key: &quot;zextra&quot;\\n    value {\\n      s: &quot;col_op {  struct {    fields { extraction { path: .key. } field_name: .key. }    fields {      extraction { path: .value. path: .my_val. } field_name: .value.    }  }}&quot;\\n    }\\n  }\\n}\\nnode {\\n  name: &quot;max_3&quot;\\n  op: &quot;org.spark.GroupedReduction&quot;\\n  input: &quot;structured_transform_2&quot;\\n  device: &quot;/spark:0&quot;\\n  attr {\\n    key: &quot;locality&quot;\\n    value {\\n      s: &quot;Distributed&quot;\\n    }\\n  }\\n  attr {\\n    key: &quot;type&quot;\\n    value {\\n      s: &quot;{key:{key_1:string} value:int}&quot;\\n    }\\n  }\\n  attr {\\n    key: &quot;zextra&quot;\\n    value {\\n      s: &quot;agg_op {  op {    function_name: .max. inputs { } expected_type { basic_type: INT }  }}&quot;\\n    }\\n  }\\n}\\nnode {\\n  name: &quot;shuffle_4&quot;\\n  op: &quot;org.spark.StructuredTransform&quot;\\n  input: &quot;max_3&quot;\\n  device: &quot;/spark:0&quot;\\n  attr {\\n    key: &quot;locality&quot;\\n    value {\\n      s: &quot;Distributed&quot;\\n    }\\n  }\\n  attr {\\n    key: &quot;type&quot;\\n    value {\\n      s: &quot;{key:string value:int}&quot;\\n    }\\n  }\\n  attr {\\n    key: &quot;zextra&quot;\\n    value {\\n      s: &quot;col_op {  struct {    fields {      extraction { path: .key. path: .key_1. } field_name: .key.    }    fields { extraction { path: .value. } field_name: .value. }  }}&quot;\\n    }\\n  }\\n}\\nnode {\\n  name: &quot;collect_list_5&quot;\\n  op: &quot;org.spark.StructuredReduce&quot;\\n  input: &quot;shuffle_4&quot;\\n  device: &quot;/spark:0&quot;\\n  attr {\\n    key: &quot;locality&quot;\\n    value {\\n      s: &quot;Local&quot;\\n    }\\n  }\\n  attr {\\n    key: &quot;type&quot;\\n    value {\\n      s: &quot;[{key:string value:int}]&quot;\\n    }\\n  }\\n  attr {\\n    key: &quot;zextra&quot;\\n    value {\\n      s: &quot;agg_op {  op {    function_name: .collect_list.    inputs { }    expected_type {      array_type {        struct_type {          fields { field_name: .key. field_type { basic_type: STRING } }          fields { field_name: .value. field_type { basic_type: INT } }        }      }    }  }}&quot;\\n    }\\n  }\\n}\\n';\n",
       "          }\n",
       "        </script>\n",
       "        <link rel=&quot;import&quot; href=&quot;https://tensorboard.appspot.com/tf-graph-basic.build.html&quot; onload=load()>\n",
       "        <div style=&quot;height:600px&quot;>\n",
       "          <tf-graph-basic id=&quot;graph0.2880797987983281&quot;></tf-graph-basic>\n",
       "        </div>\n",
       "    \"></iframe>\n",
       "    "
      ],
      "text/plain": [
       "<IPython.core.display.HTML object>"
      ]
     },
     "metadata": {},
     "output_type": "display_data"
    }
   ],
   "source": [
    "show_phase(comp, \"FUNCTIONAL_FLATTENING\")"
   ]
  },
  {
   "cell_type": "code",
   "execution_count": 9,
   "metadata": {},
   "outputs": [
    {
     "data": {
      "text/html": [
       "\n",
       "        <iframe seamless style=\"width:1000px;height:620px;border:0\" srcdoc=\"\n",
       "        <script src=&quot;//cdnjs.cloudflare.com/ajax/libs/polymer/0.3.3/platform.js&quot;></script>\n",
       "        <script>\n",
       "          function load() {\n",
       "            document.getElementById(&quot;graph0.017398220339004844&quot;).pbtxt = 'node {\\n  name: &quot;employees&quot;\\n  op: &quot;org.spark.DistributedLiteral&quot;\\n  device: &quot;/spark:0&quot;\\n  attr {\\n    key: &quot;locality&quot;\\n    value {\\n      s: &quot;Distributed&quot;\\n    }\\n  }\\n  attr {\\n    key: &quot;type&quot;\\n    value {\\n      s: &quot;{my_key:string my_val:int}&quot;\\n    }\\n  }\\n  attr {\\n    key: &quot;zextra&quot;\\n    value {\\n      s: &quot;cell {  array_value {    values {      struct_value {        values { string_value: .a. } values { int_value: 1 }      }    }    values {      struct_value {        values { string_value: .a. } values { int_value: 2 }      }    }    values {      struct_value {        values { string_value: .b. } values { int_value: 1 }      }    }  }}cell_type {  array_type {    struct_type {      fields { field_name: .my_key. field_type { basic_type: STRING } }      fields { field_name: .my_val. field_type { basic_type: INT } }    }  }}&quot;\\n    }\\n  }\\n}\\nnode {\\n  name: &quot;structured_transform_0&quot;\\n  op: &quot;org.spark.StructuredTransform&quot;\\n  input: &quot;employees&quot;\\n  device: &quot;/spark:0&quot;\\n  attr {\\n    key: &quot;locality&quot;\\n    value {\\n      s: &quot;Distributed&quot;\\n    }\\n  }\\n  attr {\\n    key: &quot;type&quot;\\n    value {\\n      s: &quot;{key:string value:{my_key:string my_val:int}}&quot;\\n    }\\n  }\\n  attr {\\n    key: &quot;zextra&quot;\\n    value {\\n      s: &quot;col_op {  struct {    fields { extraction { path: .my_key. } field_name: .key. }    fields { extraction { } field_name: .value. }  }}&quot;\\n    }\\n  }\\n}\\nnode {\\n  name: &quot;placeholder_1&quot;\\n  op: &quot;org.spark.StructuredTransform&quot;\\n  input: &quot;structured_transform_0&quot;\\n  device: &quot;/spark:0&quot;\\n  attr {\\n    key: &quot;locality&quot;\\n    value {\\n      s: &quot;Distributed&quot;\\n    }\\n  }\\n  attr {\\n    key: &quot;type&quot;\\n    value {\\n      s: &quot;{key:{key_1:string} value:{my_key:string my_val:int}}&quot;\\n    }\\n  }\\n  attr {\\n    key: &quot;zextra&quot;\\n    value {\\n      s: &quot;col_op {  struct {    fields {      struct {        fields { extraction { path: .key. } field_name: .key_1. }      }      field_name: .key.    }    fields { extraction { path: .value. } field_name: .value. }  }}&quot;\\n    }\\n  }\\n}\\nnode {\\n  name: &quot;structured_transform_2&quot;\\n  op: &quot;org.spark.StructuredTransform&quot;\\n  input: &quot;placeholder_1&quot;\\n  device: &quot;/spark:0&quot;\\n  attr {\\n    key: &quot;locality&quot;\\n    value {\\n      s: &quot;Distributed&quot;\\n    }\\n  }\\n  attr {\\n    key: &quot;type&quot;\\n    value {\\n      s: &quot;{key:{key_1:string} value:int}&quot;\\n    }\\n  }\\n  attr {\\n    key: &quot;zextra&quot;\\n    value {\\n      s: &quot;col_op {  struct {    fields { extraction { path: .key. } field_name: .key. }    fields {      extraction { path: .value. path: .my_val. } field_name: .value.    }  }}&quot;\\n    }\\n  }\\n}\\nnode {\\n  name: &quot;max_3&quot;\\n  op: &quot;org.spark.GroupedReduction&quot;\\n  input: &quot;structured_transform_2&quot;\\n  device: &quot;/spark:0&quot;\\n  attr {\\n    key: &quot;locality&quot;\\n    value {\\n      s: &quot;Distributed&quot;\\n    }\\n  }\\n  attr {\\n    key: &quot;type&quot;\\n    value {\\n      s: &quot;{key:{key_1:string} value:int}&quot;\\n    }\\n  }\\n  attr {\\n    key: &quot;zextra&quot;\\n    value {\\n      s: &quot;agg_op {  op {    function_name: .max. inputs { } expected_type { basic_type: INT }  }}&quot;\\n    }\\n  }\\n}\\nnode {\\n  name: &quot;shuffle_4&quot;\\n  op: &quot;org.spark.StructuredTransform&quot;\\n  input: &quot;max_3&quot;\\n  device: &quot;/spark:0&quot;\\n  attr {\\n    key: &quot;locality&quot;\\n    value {\\n      s: &quot;Distributed&quot;\\n    }\\n  }\\n  attr {\\n    key: &quot;type&quot;\\n    value {\\n      s: &quot;{key:string value:int}&quot;\\n    }\\n  }\\n  attr {\\n    key: &quot;zextra&quot;\\n    value {\\n      s: &quot;col_op {  struct {    fields {      extraction { path: .key. path: .key_1. } field_name: .key.    }    fields { extraction { path: .value. } field_name: .value. }  }}&quot;\\n    }\\n  }\\n}\\nnode {\\n  name: &quot;collect_list_5&quot;\\n  op: &quot;org.spark.StructuredReduce&quot;\\n  input: &quot;shuffle_4&quot;\\n  device: &quot;/spark:0&quot;\\n  attr {\\n    key: &quot;locality&quot;\\n    value {\\n      s: &quot;Local&quot;\\n    }\\n  }\\n  attr {\\n    key: &quot;type&quot;\\n    value {\\n      s: &quot;[{key:string value:int}]&quot;\\n    }\\n  }\\n  attr {\\n    key: &quot;zextra&quot;\\n    value {\\n      s: &quot;agg_op {  op {    function_name: .collect_list.    inputs { }    expected_type {      array_type {        struct_type {          fields { field_name: .key. field_type { basic_type: STRING } }          fields { field_name: .value. field_type { basic_type: INT } }        }      }    }  }}&quot;\\n    }\\n  }\\n}\\n';\n",
       "          }\n",
       "        </script>\n",
       "        <link rel=&quot;import&quot; href=&quot;https://tensorboard.appspot.com/tf-graph-basic.build.html&quot; onload=load()>\n",
       "        <div style=&quot;height:600px&quot;>\n",
       "          <tf-graph-basic id=&quot;graph0.017398220339004844&quot;></tf-graph-basic>\n",
       "        </div>\n",
       "    \"></iframe>\n",
       "    "
      ],
      "text/plain": [
       "<IPython.core.display.HTML object>"
      ]
     },
     "metadata": {},
     "output_type": "display_data"
    }
   ],
   "source": [
    "show_phase(comp, \"final\")"
   ]
  },
  {
   "cell_type": "code",
   "execution_count": 10,
   "metadata": {},
   "outputs": [
    {
     "data": {
      "text/plain": [
       "([{key:string, value:int}], array_value {\n",
       "  values {\n",
       "    struct_value {\n",
       "      values {\n",
       "        string_value: \"b\"\n",
       "      }\n",
       "      values {\n",
       "        int_value: 1\n",
       "      }\n",
       "    }\n",
       "  }\n",
       "  values {\n",
       "    struct_value {\n",
       "      values {\n",
       "        string_value: \"a\"\n",
       "      }\n",
       "      values {\n",
       "        int_value: 2\n",
       "      }\n",
       "    }\n",
       "  }\n",
       "}\n",
       ")"
      ]
     },
     "execution_count": 10,
     "metadata": {},
     "output_type": "execute_result"
    }
   ],
   "source": [
    "comp.values()"
   ]
  },
  {
   "cell_type": "code",
   "execution_count": null,
   "metadata": {
    "collapsed": true
   },
   "outputs": [],
   "source": []
  }
 ],
 "metadata": {
  "kernelspec": {
   "display_name": "Python 3",
   "language": "python",
   "name": "python3"
  },
  "language_info": {
   "codemirror_mode": {
    "name": "ipython",
    "version": 3
   },
   "file_extension": ".py",
   "mimetype": "text/x-python",
   "name": "python",
   "nbconvert_exporter": "python",
   "pygments_lexer": "ipython3",
   "version": "3.5.2"
  }
 },
 "nbformat": 4,
 "nbformat_minor": 2
}
