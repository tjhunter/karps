{
 "cells": [
  {
   "cell_type": "markdown",
   "metadata": {},
   "source": [
    "# Bringing modularity and code reuse to Spark\n",
    "\n",
    "Spark does not let one define arbitrary functions and reuse them at will. In this example, we show how to decompose a problem into a set of simpler primitive functions, that nevertheless perform arbitrary operations that would not be allowed in Spark.\n",
    "\n",
    "We are going to build a function that exemplifies the birthday paradox: given a set of birthdates, it will returns the number of people who happen to share a birthdate with someone else. This is easy to express using joins and groups. This function takes a dataset or a column as input (the birth dates) and returns a single number (the number of people who share the same birth day). This is an aggregation function! Our urge is of course to use it then in a different setting such as in a group, etc. As we will see, Karps allows us to write code that works for both Pandas and Spark, and that allows to plug any aggregation function in a very natural way."
   ]
  },
  {
   "cell_type": "code",
   "execution_count": 1,
   "metadata": {},
   "outputs": [],
   "source": [
    "import pandas as pd\n",
    "import karps as ks\n",
    "import karps.functions as f\n",
    "from karps.display import show_phase"
   ]
  },
  {
   "cell_type": "code",
   "execution_count": 2,
   "metadata": {},
   "outputs": [],
   "source": [
    "# Make a session at the top, although it is not required immediately.\n",
    "s = ks.session(\"demo2\")"
   ]
  },
  {
   "cell_type": "markdown",
   "metadata": {},
   "source": [
    "This is an extremely small dataset:"
   ]
  },
  {
   "cell_type": "code",
   "execution_count": 3,
   "metadata": {},
   "outputs": [
    {
     "data": {
      "text/plain": [
       "/employees@org.spark.DistributedLiteral:{company_name:string, employee_name:string, dob:string}"
      ]
     },
     "execution_count": 3,
     "metadata": {},
     "output_type": "execute_result"
    }
   ],
   "source": [
    "employees = ks.dataframe([\n",
    "    (\"ACME\", \"John\", \"12/01\"),\n",
    "    (\"ACME\", \"Kate\", \"09/04\"),\n",
    "    (\"ACME\", \"Albert\", \"09/04\"),\n",
    "    (\"Databricks\", \"Ali\", \"09/04\"),\n",
    "], schema=[\"company_name\", \"employee_name\", \"dob\"],\n",
    "   name=\"employees\")\n",
    "employees"
   ]
  },
  {
   "cell_type": "markdown",
   "metadata": {
    "collapsed": true
   },
   "source": [
    "Now, here is the definition of the birthday paradox function. It is pretty simple code:"
   ]
  },
  {
   "cell_type": "code",
   "execution_count": 4,
   "metadata": {},
   "outputs": [],
   "source": [
    "# The number of people who share a birthday date with someone else.\n",
    "# Takes a column of data containing birthdates.\n",
    "def paradoxal_count(c):\n",
    "    with ks.scope(\"p_count\"): # Make it pretty:\n",
    "        g = c.groupby(c).agg({'num_employees': f.count}, name=\"agg_count\")\n",
    "        s = f.sum(g.num_employees[g.num_employees>=2], name=\"paradoxical_employees\")\n",
    "        return s"
   ]
  },
  {
   "cell_type": "markdown",
   "metadata": {
    "collapsed": true
   },
   "source": [
    "This is a simple function. If we wanted to try it, or write tests for it, we would prefer not to have to launch a Spark instance, which comes with some overhead. Let's write a simple test case using Pandas to be confident it is working as expected, and then use it in Spark.\n",
    "\n",
    "It correctly found that 2 people share the same January 1st birth date."
   ]
  },
  {
   "cell_type": "code",
   "execution_count": 5,
   "metadata": {},
   "outputs": [
    {
     "name": "stderr",
     "output_type": "stream",
     "text": [
      "/Users/tjhunter/.local/share/virtualenvs/python-iP9Q2HuD/lib/python3.5/site-packages/ipykernel_launcher.py:5: FutureWarning: using a dict on a Series for aggregation\n",
      "is deprecated and will be removed in a future version\n",
      "  \"\"\"\n"
     ]
    },
    {
     "data": {
      "text/plain": [
       "2"
      ]
     },
     "execution_count": 5,
     "metadata": {},
     "output_type": "execute_result"
    }
   ],
   "source": [
    "# A series of birth dates.\n",
    "test_df = pd.Series([\"1/1\", \"3/5\", \"1/1\"])\n",
    "paradoxal_count(test_df)"
   ]
  },
  {
   "cell_type": "markdown",
   "metadata": {},
   "source": [
    "Now that we have this nice function, let's use against each of the companies in our dataset, with Spark.\n",
    "\n",
    "Notice that you can directly plug the function, no need to do translation, etc. This is impossible to do in Spark for complex functions like this one.\n",
    "\n",
    "We get at the end a daframe with the name of the company and the number of employees that share the same birthdate:"
   ]
  },
  {
   "cell_type": "code",
   "execution_count": 6,
   "metadata": {},
   "outputs": [
    {
     "data": {
      "text/plain": [
       "/agg_post10@org.spark.StructuredTransform:{company_name:string, paradoxical_employees:int}"
      ]
     },
     "execution_count": 6,
     "metadata": {},
     "output_type": "execute_result"
    }
   ],
   "source": [
    "# Now use this to group by companies:\n",
    "res = (employees.dob\n",
    "       .groupby(employees.company_name)\n",
    "       .agg({\n",
    "           \"paradoxical_employees\": paradoxal_count\n",
    "       }))\n",
    "res"
   ]
  },
  {
   "cell_type": "markdown",
   "metadata": {},
   "source": [
    "This is still a dataframe. Now is the time to collect and see the content:"
   ]
  },
  {
   "cell_type": "code",
   "execution_count": 7,
   "metadata": {},
   "outputs": [
    {
     "data": {
      "text/plain": [
       "/collect_list11!org.spark.StructuredReduce:[{company_name:string, paradoxical_employees:int}]"
      ]
     },
     "execution_count": 7,
     "metadata": {},
     "output_type": "execute_result"
    }
   ],
   "source": [
    "o = f.collect(res)\n",
    "o"
   ]
  },
  {
   "cell_type": "markdown",
   "metadata": {},
   "source": [
    "We run it using the session we opened before, and we use compute to inspect how Karps and Spark are evaluating the computations."
   ]
  },
  {
   "cell_type": "code",
   "execution_count": 8,
   "metadata": {},
   "outputs": [
    {
     "data": {
      "text/plain": [
       "<karps.computation.Computation at 0x112ed91d0>"
      ]
     },
     "execution_count": 8,
     "metadata": {},
     "output_type": "execute_result"
    }
   ],
   "source": [
    "comp = s.compute(o)\n",
    "comp"
   ]
  },
  {
   "cell_type": "markdown",
   "metadata": {
    "collapsed": true
   },
   "source": [
    "Let's look under the hood to see how this gets translated.\n",
    "\n",
    "The transformation is defined using two nested first-orderd functions, that get collected using the `FunctionalShuffle` operation called `shuffle9`."
   ]
  },
  {
   "cell_type": "code",
   "execution_count": 9,
   "metadata": {},
   "outputs": [
    {
     "data": {
      "text/html": [
       "\n",
       "        <iframe seamless style=\"width:1000px;height:620px;border:0\" srcdoc=\"\n",
       "        <script src=&quot;//cdnjs.cloudflare.com/ajax/libs/polymer/0.3.3/platform.js&quot;></script>\n",
       "        <script>\n",
       "          function load() {\n",
       "            document.getElementById(&quot;graph0.626603759532035&quot;).pbtxt = 'node {\\n  name: &quot;employees&quot;\\n  op: &quot;org.spark.DistributedLiteral&quot;\\n  device: &quot;/spark:0&quot;\\n  attr {\\n    key: &quot;locality&quot;\\n    value {\\n      s: &quot;Distributed&quot;\\n    }\\n  }\\n  attr {\\n    key: &quot;type&quot;\\n    value {\\n      s: &quot;{company_name:string employee_name:string dob:string}&quot;\\n    }\\n  }\\n  attr {\\n    key: &quot;zextra&quot;\\n    value {\\n      s: &quot;cell {  array_value {    values {      struct_value {        values { string_value: .ACME. }        values { string_value: .John. }        values { string_value: .12/01. }      }    }    values {      struct_value {        values { string_value: .ACME. }        values { string_value: .Kate. }        values { string_value: .09/04. }      }    }    values {      struct_value {        values { string_value: .ACME. }        values { string_value: .Albert. }        values { string_value: .09/04. }      }    }    values {      struct_value {        values { string_value: .Databricks. }        values { string_value: .Ali. }        values { string_value: .09/04. }      }    }  }}cell_type {  array_type {    struct_type {      fields {        field_name: .company_name. field_type { basic_type: STRING }      }      fields {        field_name: .employee_name. field_type { basic_type: STRING }      }      fields { field_name: .dob. field_type { basic_type: STRING } }    }  }}&quot;\\n    }\\n  }\\n}\\nnode {\\n  name: &quot;agg_pre8&quot;\\n  op: &quot;org.spark.StructuredTransform&quot;\\n  input: &quot;employees&quot;\\n  device: &quot;/spark:0&quot;\\n  attr {\\n    key: &quot;locality&quot;\\n    value {\\n      s: &quot;Distributed&quot;\\n    }\\n  }\\n  attr {\\n    key: &quot;type&quot;\\n    value {\\n      s: &quot;{key:string value:string}&quot;\\n    }\\n  }\\n  attr {\\n    key: &quot;zextra&quot;\\n    value {\\n      s: &quot;col_op {  struct {    fields { extraction { path: .company_name. } field_name: .key. }    fields { extraction { path: .dob. } field_name: .value. }  }}&quot;\\n    }\\n  }\\n}\\nnode {\\n  name: &quot;p_count/placeholder1&quot;\\n  op: &quot;org.spark.Placeholder&quot;\\n  device: &quot;/spark:0&quot;\\n  attr {\\n    key: &quot;locality&quot;\\n    value {\\n      s: &quot;Distributed&quot;\\n    }\\n  }\\n  attr {\\n    key: &quot;type&quot;\\n    value {\\n      s: &quot;string&quot;\\n    }\\n  }\\n  attr {\\n    key: &quot;zextra&quot;\\n    value {\\n      s: &quot;locality: DISTRIBUTED data_type { basic_type: STRING }&quot;\\n    }\\n  }\\n}\\nnode {\\n  name: &quot;p_count/structured_transform2&quot;\\n  op: &quot;org.spark.StructuredTransform&quot;\\n  input: &quot;p_count/placeholder1&quot;\\n  device: &quot;/spark:0&quot;\\n  attr {\\n    key: &quot;locality&quot;\\n    value {\\n      s: &quot;Distributed&quot;\\n    }\\n  }\\n  attr {\\n    key: &quot;type&quot;\\n    value {\\n      s: &quot;string&quot;\\n    }\\n  }\\n  attr {\\n    key: &quot;zextra&quot;\\n    value {\\n      s: &quot;col_op { extraction { } }&quot;\\n    }\\n  }\\n}\\nnode {\\n  name: &quot;p_count/count3&quot;\\n  op: &quot;org.spark.StructuredReduce&quot;\\n  input: &quot;p_count/structured_transform2&quot;\\n  device: &quot;/spark:0&quot;\\n  attr {\\n    key: &quot;locality&quot;\\n    value {\\n      s: &quot;Local&quot;\\n    }\\n  }\\n  attr {\\n    key: &quot;type&quot;\\n    value {\\n      s: &quot;int&quot;\\n    }\\n  }\\n  attr {\\n    key: &quot;zextra&quot;\\n    value {\\n      s: &quot;agg_op {  op {    function_name: .count. inputs { } expected_type { basic_type: INT }  }}&quot;\\n    }\\n  }\\n}\\nnode {\\n  name: &quot;placeholder0&quot;\\n  op: &quot;org.spark.Placeholder&quot;\\n  device: &quot;/spark:0&quot;\\n  attr {\\n    key: &quot;locality&quot;\\n    value {\\n      s: &quot;Distributed&quot;\\n    }\\n  }\\n  attr {\\n    key: &quot;type&quot;\\n    value {\\n      s: &quot;string&quot;\\n    }\\n  }\\n  attr {\\n    key: &quot;zextra&quot;\\n    value {\\n      s: &quot;locality: DISTRIBUTED data_type { basic_type: STRING }&quot;\\n    }\\n  }\\n}\\nnode {\\n  name: &quot;p_count/agg_pre4&quot;\\n  op: &quot;org.spark.StructuredTransform&quot;\\n  input: &quot;placeholder0&quot;\\n  device: &quot;/spark:0&quot;\\n  attr {\\n    key: &quot;locality&quot;\\n    value {\\n      s: &quot;Distributed&quot;\\n    }\\n  }\\n  attr {\\n    key: &quot;type&quot;\\n    value {\\n      s: &quot;{key:string value:string}&quot;\\n    }\\n  }\\n  attr {\\n    key: &quot;zextra&quot;\\n    value {\\n      s: &quot;col_op {  struct {    fields { extraction { } field_name: .key. }    fields { extraction { } field_name: .value. }  }}&quot;\\n    }\\n  }\\n}\\nnode {\\n  name: &quot;p_count/agg_count&quot;\\n  op: &quot;org.spark.FunctionalShuffle&quot;\\n  input: &quot;p_count/agg_pre4&quot;\\n  input: &quot;p_count/placeholder1&quot;\\n  input: &quot;p_count/count3&quot;\\n  device: &quot;/spark:0&quot;\\n  attr {\\n    key: &quot;locality&quot;\\n    value {\\n      s: &quot;Distributed&quot;\\n    }\\n  }\\n  attr {\\n    key: &quot;type&quot;\\n    value {\\n      s: &quot;{key:string value:int}&quot;\\n    }\\n  }\\n  attr {\\n    key: &quot;zextra&quot;\\n    value {\\n      s: &quot;&quot;\\n    }\\n  }\\n}\\nnode {\\n  name: &quot;p_count/agg_post5&quot;\\n  op: &quot;org.spark.StructuredTransform&quot;\\n  input: &quot;p_count/agg_count&quot;\\n  device: &quot;/spark:0&quot;\\n  attr {\\n    key: &quot;locality&quot;\\n    value {\\n      s: &quot;Distributed&quot;\\n    }\\n  }\\n  attr {\\n    key: &quot;type&quot;\\n    value {\\n      s: &quot;{key:string num_employees:int}&quot;\\n    }\\n  }\\n  attr {\\n    key: &quot;zextra&quot;\\n    value {\\n      s: &quot;col_op {  struct {    fields { extraction { path: .key. } field_name: .key. }    fields { extraction { path: .value. } field_name: .num_employees. }  }}&quot;\\n    }\\n  }\\n}\\nnode {\\n  name: &quot;p_count/filter_pre6&quot;\\n  op: &quot;org.spark.StructuredTransform&quot;\\n  input: &quot;p_count/agg_post5&quot;\\n  device: &quot;/spark:0&quot;\\n  attr {\\n    key: &quot;locality&quot;\\n    value {\\n      s: &quot;Distributed&quot;\\n    }\\n  }\\n  attr {\\n    key: &quot;type&quot;\\n    value {\\n      s: &quot;{filter:bool value:int}&quot;\\n    }\\n  }\\n  attr {\\n    key: &quot;zextra&quot;\\n    value {\\n      s: &quot;col_op {  struct {    fields {      function {        function_name: .greater_equal.        inputs { extraction { path: .num_employees. } }        inputs {          literal {            content { cell { int_value: 2 } cell_type { basic_type: INT } }          }        }        expected_type { basic_type: BOOL }      }      field_name: .filter.    }    fields { extraction { path: .num_employees. } field_name: .value. }  }}&quot;\\n    }\\n  }\\n}\\nnode {\\n  name: &quot;p_count/filter7&quot;\\n  op: &quot;org.spark.Filter&quot;\\n  input: &quot;p_count/filter_pre6&quot;\\n  device: &quot;/spark:0&quot;\\n  attr {\\n    key: &quot;locality&quot;\\n    value {\\n      s: &quot;Distributed&quot;\\n    }\\n  }\\n  attr {\\n    key: &quot;type&quot;\\n    value {\\n      s: &quot;int&quot;\\n    }\\n  }\\n  attr {\\n    key: &quot;zextra&quot;\\n    value {\\n      s: &quot;&quot;\\n    }\\n  }\\n}\\nnode {\\n  name: &quot;p_count/paradoxical_employees&quot;\\n  op: &quot;org.spark.StructuredReduce&quot;\\n  input: &quot;p_count/filter7&quot;\\n  device: &quot;/spark:0&quot;\\n  attr {\\n    key: &quot;locality&quot;\\n    value {\\n      s: &quot;Local&quot;\\n    }\\n  }\\n  attr {\\n    key: &quot;type&quot;\\n    value {\\n      s: &quot;int&quot;\\n    }\\n  }\\n  attr {\\n    key: &quot;zextra&quot;\\n    value {\\n      s: &quot;agg_op {  op {    function_name: .sum. inputs { } expected_type { basic_type: INT }  }}&quot;\\n    }\\n  }\\n}\\nnode {\\n  name: &quot;shuffle9&quot;\\n  op: &quot;org.spark.FunctionalShuffle&quot;\\n  input: &quot;agg_pre8&quot;\\n  input: &quot;placeholder0&quot;\\n  input: &quot;p_count/paradoxical_employees&quot;\\n  device: &quot;/spark:0&quot;\\n  attr {\\n    key: &quot;locality&quot;\\n    value {\\n      s: &quot;Distributed&quot;\\n    }\\n  }\\n  attr {\\n    key: &quot;type&quot;\\n    value {\\n      s: &quot;{key:string value:int}&quot;\\n    }\\n  }\\n  attr {\\n    key: &quot;zextra&quot;\\n    value {\\n      s: &quot;&quot;\\n    }\\n  }\\n}\\nnode {\\n  name: &quot;agg_post10&quot;\\n  op: &quot;org.spark.StructuredTransform&quot;\\n  input: &quot;shuffle9&quot;\\n  device: &quot;/spark:0&quot;\\n  attr {\\n    key: &quot;locality&quot;\\n    value {\\n      s: &quot;Distributed&quot;\\n    }\\n  }\\n  attr {\\n    key: &quot;type&quot;\\n    value {\\n      s: &quot;{company_name:string paradoxical_employees:int}&quot;\\n    }\\n  }\\n  attr {\\n    key: &quot;zextra&quot;\\n    value {\\n      s: &quot;col_op {  struct {    fields { extraction { path: .key. } field_name: .company_name. }    fields {      extraction { path: .value. } field_name: .paradoxical_employees.    }  }}&quot;\\n    }\\n  }\\n}\\nnode {\\n  name: &quot;collect_list11&quot;\\n  op: &quot;org.spark.StructuredReduce&quot;\\n  input: &quot;agg_post10&quot;\\n  device: &quot;/spark:0&quot;\\n  attr {\\n    key: &quot;locality&quot;\\n    value {\\n      s: &quot;Local&quot;\\n    }\\n  }\\n  attr {\\n    key: &quot;type&quot;\\n    value {\\n      s: &quot;[{company_name:string paradoxical_employees:int}]&quot;\\n    }\\n  }\\n  attr {\\n    key: &quot;zextra&quot;\\n    value {\\n      s: &quot;agg_op {  op {    function_name: .collect_list.    inputs { }    expected_type {      array_type {        struct_type {          fields {            field_name: .company_name. field_type { basic_type: STRING }          }          fields {            field_name: .paradoxical_employees. field_type { basic_type: INT }          }        }      }    }  }}&quot;\\n    }\\n  }\\n}\\n';\n",
       "          }\n",
       "        </script>\n",
       "        <link rel=&quot;import&quot; href=&quot;https://tensorboard.appspot.com/tf-graph-basic.build.html&quot; onload=load()>\n",
       "        <div style=&quot;height:600px&quot;>\n",
       "          <tf-graph-basic id=&quot;graph0.626603759532035&quot;></tf-graph-basic>\n",
       "        </div>\n",
       "    \"></iframe>\n",
       "    "
      ],
      "text/plain": [
       "<IPython.core.display.HTML object>"
      ]
     },
     "metadata": {},
     "output_type": "display_data"
    }
   ],
   "source": [
    "show_phase(comp, \"initial\")"
   ]
  },
  {
   "cell_type": "code",
   "execution_count": 10,
   "metadata": {},
   "outputs": [
    {
     "data": {
      "text/html": [
       "\n",
       "        <iframe seamless style=\"width:1000px;height:620px;border:0\" srcdoc=\"\n",
       "        <script src=&quot;//cdnjs.cloudflare.com/ajax/libs/polymer/0.3.3/platform.js&quot;></script>\n",
       "        <script>\n",
       "          function load() {\n",
       "            document.getElementById(&quot;graph0.3138827869185352&quot;).pbtxt = 'node {\\n  name: &quot;employees&quot;\\n  op: &quot;org.spark.DistributedLiteral&quot;\\n  device: &quot;/spark:0&quot;\\n  attr {\\n    key: &quot;locality&quot;\\n    value {\\n      s: &quot;Distributed&quot;\\n    }\\n  }\\n  attr {\\n    key: &quot;type&quot;\\n    value {\\n      s: &quot;{company_name:string employee_name:string dob:string}&quot;\\n    }\\n  }\\n  attr {\\n    key: &quot;zextra&quot;\\n    value {\\n      s: &quot;cell {  array_value {    values {      struct_value {        values { string_value: .ACME. }        values { string_value: .John. }        values { string_value: .12/01. }      }    }    values {      struct_value {        values { string_value: .ACME. }        values { string_value: .Kate. }        values { string_value: .09/04. }      }    }    values {      struct_value {        values { string_value: .ACME. }        values { string_value: .Albert. }        values { string_value: .09/04. }      }    }    values {      struct_value {        values { string_value: .Databricks. }        values { string_value: .Ali. }        values { string_value: .09/04. }      }    }  }}cell_type {  array_type {    struct_type {      fields {        field_name: .company_name. field_type { basic_type: STRING }      }      fields {        field_name: .employee_name. field_type { basic_type: STRING }      }      fields { field_name: .dob. field_type { basic_type: STRING } }    }  }}&quot;\\n    }\\n  }\\n}\\nnode {\\n  name: &quot;agg_pre8&quot;\\n  op: &quot;org.spark.StructuredTransform&quot;\\n  input: &quot;employees&quot;\\n  device: &quot;/spark:0&quot;\\n  attr {\\n    key: &quot;locality&quot;\\n    value {\\n      s: &quot;Distributed&quot;\\n    }\\n  }\\n  attr {\\n    key: &quot;type&quot;\\n    value {\\n      s: &quot;{key:string value:string}&quot;\\n    }\\n  }\\n  attr {\\n    key: &quot;zextra&quot;\\n    value {\\n      s: &quot;col_op {  struct {    fields { extraction { path: .company_name. } field_name: .key. }    fields { extraction { path: .dob. } field_name: .value. }  }}&quot;\\n    }\\n  }\\n}\\nnode {\\n  name: &quot;placeholder0&quot;\\n  op: &quot;org.spark.StructuredTransform&quot;\\n  input: &quot;agg_pre8&quot;\\n  device: &quot;/spark:0&quot;\\n  attr {\\n    key: &quot;locality&quot;\\n    value {\\n      s: &quot;Distributed&quot;\\n    }\\n  }\\n  attr {\\n    key: &quot;type&quot;\\n    value {\\n      s: &quot;{key:{key_1:string} value:string}&quot;\\n    }\\n  }\\n  attr {\\n    key: &quot;zextra&quot;\\n    value {\\n      s: &quot;col_op {  struct {    fields {      struct {        fields { extraction { path: .key. } field_name: .key_1. }      }      field_name: .key.    }    fields { extraction { path: .value. } field_name: .value. }  }}&quot;\\n    }\\n  }\\n}\\nnode {\\n  name: &quot;p_count/agg_pre4&quot;\\n  op: &quot;org.spark.StructuredTransform&quot;\\n  input: &quot;placeholder0&quot;\\n  device: &quot;/spark:0&quot;\\n  attr {\\n    key: &quot;locality&quot;\\n    value {\\n      s: &quot;Distributed&quot;\\n    }\\n  }\\n  attr {\\n    key: &quot;type&quot;\\n    value {\\n      s: &quot;{key:{key_1:string} value:{key:string value:string}}&quot;\\n    }\\n  }\\n  attr {\\n    key: &quot;zextra&quot;\\n    value {\\n      s: &quot;col_op {  struct {    fields { extraction { path: .key. } field_name: .key. }    fields {      struct {        fields { extraction { path: .value. } field_name: .key. }        fields { extraction { path: .value. } field_name: .value. }      }      field_name: .value.    }  }}&quot;\\n    }\\n  }\\n}\\nnode {\\n  name: &quot;p_count/placeholder1&quot;\\n  op: &quot;org.spark.StructuredTransform&quot;\\n  input: &quot;p_count/agg_pre4&quot;\\n  device: &quot;/spark:0&quot;\\n  attr {\\n    key: &quot;locality&quot;\\n    value {\\n      s: &quot;Distributed&quot;\\n    }\\n  }\\n  attr {\\n    key: &quot;type&quot;\\n    value {\\n      s: &quot;{key:{key_2:string key_1:string} value:string}&quot;\\n    }\\n  }\\n  attr {\\n    key: &quot;zextra&quot;\\n    value {\\n      s: &quot;col_op {  struct {    fields {      struct {        fields {          extraction { path: .key. path: .key_1. } field_name: .key_1.        }        fields {          extraction { path: .value. path: .key. } field_name: .key_2.        }      }      field_name: .key.    }    fields {      extraction { path: .value. path: .value. } field_name: .value.    }  }}&quot;\\n    }\\n  }\\n}\\nnode {\\n  name: &quot;p_count/structured_transform2&quot;\\n  op: &quot;org.spark.StructuredTransform&quot;\\n  input: &quot;p_count/placeholder1&quot;\\n  device: &quot;/spark:0&quot;\\n  attr {\\n    key: &quot;locality&quot;\\n    value {\\n      s: &quot;Distributed&quot;\\n    }\\n  }\\n  attr {\\n    key: &quot;type&quot;\\n    value {\\n      s: &quot;{key:{key_2:string key_1:string} value:string}&quot;\\n    }\\n  }\\n  attr {\\n    key: &quot;zextra&quot;\\n    value {\\n      s: &quot;col_op {  struct {    fields { extraction { path: .key. } field_name: .key. }    fields { extraction { path: .value. } field_name: .value. }  }}&quot;\\n    }\\n  }\\n}\\nnode {\\n  name: &quot;p_count/count3&quot;\\n  op: &quot;org.spark.GroupedReduction&quot;\\n  input: &quot;p_count/structured_transform2&quot;\\n  device: &quot;/spark:0&quot;\\n  attr {\\n    key: &quot;locality&quot;\\n    value {\\n      s: &quot;Distributed&quot;\\n    }\\n  }\\n  attr {\\n    key: &quot;type&quot;\\n    value {\\n      s: &quot;{key:{key_2:string key_1:string} value:int}&quot;\\n    }\\n  }\\n  attr {\\n    key: &quot;zextra&quot;\\n    value {\\n      s: &quot;agg_op {  op {    function_name: .count. inputs { } expected_type { basic_type: INT }  }}&quot;\\n    }\\n  }\\n}\\nnode {\\n  name: &quot;p_count/agg_count&quot;\\n  op: &quot;org.spark.StructuredTransform&quot;\\n  input: &quot;p_count/count3&quot;\\n  device: &quot;/spark:0&quot;\\n  attr {\\n    key: &quot;locality&quot;\\n    value {\\n      s: &quot;Distributed&quot;\\n    }\\n  }\\n  attr {\\n    key: &quot;type&quot;\\n    value {\\n      s: &quot;{key:{key_1:string} value:int}&quot;\\n    }\\n  }\\n  attr {\\n    key: &quot;zextra&quot;\\n    value {\\n      s: &quot;col_op {  struct {    fields {      struct {        fields {          extraction { path: .key. path: .key_1. } field_name: .key_1.        }      }      field_name: .key.    }    fields {      struct {        fields {          extraction { path: .key. path: .key_2. } field_name: .key.        }        fields { extraction { path: .value. } field_name: .value. }      }      field_name: .value.    }  }}&quot;\\n    }\\n  }\\n}\\nnode {\\n  name: &quot;p_count/agg_post5&quot;\\n  op: &quot;org.spark.StructuredTransform&quot;\\n  input: &quot;p_count/agg_count&quot;\\n  device: &quot;/spark:0&quot;\\n  attr {\\n    key: &quot;locality&quot;\\n    value {\\n      s: &quot;Distributed&quot;\\n    }\\n  }\\n  attr {\\n    key: &quot;type&quot;\\n    value {\\n      s: &quot;{key:{key_1:string} value:{key:string num_employees:int}}&quot;\\n    }\\n  }\\n  attr {\\n    key: &quot;zextra&quot;\\n    value {\\n      s: &quot;col_op {  struct {    fields { extraction { path: .key. } field_name: .key. }    fields {      struct {        fields {          extraction { path: .value. path: .key. } field_name: .key.        }        fields {          extraction { path: .value. path: .value. }          field_name: .num_employees.        }      }      field_name: .value.    }  }}&quot;\\n    }\\n  }\\n}\\nnode {\\n  name: &quot;p_count/filter_pre6&quot;\\n  op: &quot;org.spark.StructuredTransform&quot;\\n  input: &quot;p_count/agg_post5&quot;\\n  device: &quot;/spark:0&quot;\\n  attr {\\n    key: &quot;locality&quot;\\n    value {\\n      s: &quot;Distributed&quot;\\n    }\\n  }\\n  attr {\\n    key: &quot;type&quot;\\n    value {\\n      s: &quot;{key:{key_1:string} value:{filter:bool value:int}}&quot;\\n    }\\n  }\\n  attr {\\n    key: &quot;zextra&quot;\\n    value {\\n      s: &quot;col_op {  struct {    fields { extraction { path: .key. } field_name: .key. }    fields {      struct {        fields {          function {            function_name: .greater_equal.            inputs { extraction { path: .value. path: .num_employees. } }            inputs {              literal {                content { cell { int_value: 2 } cell_type { basic_type: INT } }              }            }            expected_type { basic_type: BOOL }          }          field_name: .filter.        }        fields {          extraction { path: .value. path: .num_employees. }          field_name: .value.        }      }      field_name: .value.    }  }}&quot;\\n    }\\n  }\\n}\\nnode {\\n  name: &quot;p_count/filter7_kagg_filter&quot;\\n  op: &quot;org.spark.StructuredTransform&quot;\\n  input: &quot;p_count/filter_pre6&quot;\\n  device: &quot;/spark:0&quot;\\n  attr {\\n    key: &quot;locality&quot;\\n    value {\\n      s: &quot;Distributed&quot;\\n    }\\n  }\\n  attr {\\n    key: &quot;type&quot;\\n    value {\\n      s: &quot;{filter:bool value:{key:{key_1:string} value:int}}&quot;\\n    }\\n  }\\n  attr {\\n    key: &quot;zextra&quot;\\n    value {\\n      s: &quot;col_op {  struct {    fields {      extraction { path: .value. path: .filter. } field_name: .filter.    }    fields {      struct {        fields { extraction { path: .key. } field_name: .key. }        fields {          extraction { path: .value. path: .value. } field_name: .value.        }      }      field_name: .value.    }  }}&quot;\\n    }\\n  }\\n}\\nnode {\\n  name: &quot;p_count/filter7&quot;\\n  op: &quot;org.spark.Filter&quot;\\n  input: &quot;p_count/filter7_kagg_filter&quot;\\n  device: &quot;/spark:0&quot;\\n  attr {\\n    key: &quot;locality&quot;\\n    value {\\n      s: &quot;Distributed&quot;\\n    }\\n  }\\n  attr {\\n    key: &quot;type&quot;\\n    value {\\n      s: &quot;{key:{key_1:string} value:int}&quot;\\n    }\\n  }\\n  attr {\\n    key: &quot;zextra&quot;\\n    value {\\n      s: &quot;&quot;\\n    }\\n  }\\n}\\nnode {\\n  name: &quot;p_count/paradoxical_employees&quot;\\n  op: &quot;org.spark.GroupedReduction&quot;\\n  input: &quot;p_count/filter7&quot;\\n  device: &quot;/spark:0&quot;\\n  attr {\\n    key: &quot;locality&quot;\\n    value {\\n      s: &quot;Distributed&quot;\\n    }\\n  }\\n  attr {\\n    key: &quot;type&quot;\\n    value {\\n      s: &quot;{key:{key_1:string} value:int}&quot;\\n    }\\n  }\\n  attr {\\n    key: &quot;zextra&quot;\\n    value {\\n      s: &quot;agg_op {  op {    function_name: .sum. inputs { } expected_type { basic_type: INT }  }}&quot;\\n    }\\n  }\\n}\\nnode {\\n  name: &quot;shuffle9&quot;\\n  op: &quot;org.spark.StructuredTransform&quot;\\n  input: &quot;p_count/paradoxical_employees&quot;\\n  device: &quot;/spark:0&quot;\\n  attr {\\n    key: &quot;locality&quot;\\n    value {\\n      s: &quot;Distributed&quot;\\n    }\\n  }\\n  attr {\\n    key: &quot;type&quot;\\n    value {\\n      s: &quot;{key:string value:int}&quot;\\n    }\\n  }\\n  attr {\\n    key: &quot;zextra&quot;\\n    value {\\n      s: &quot;col_op {  struct {    fields {      extraction { path: .key. path: .key_1. } field_name: .key.    }    fields { extraction { path: .value. } field_name: .value. }  }}&quot;\\n    }\\n  }\\n}\\nnode {\\n  name: &quot;agg_post10&quot;\\n  op: &quot;org.spark.StructuredTransform&quot;\\n  input: &quot;shuffle9&quot;\\n  device: &quot;/spark:0&quot;\\n  attr {\\n    key: &quot;locality&quot;\\n    value {\\n      s: &quot;Distributed&quot;\\n    }\\n  }\\n  attr {\\n    key: &quot;type&quot;\\n    value {\\n      s: &quot;{company_name:string paradoxical_employees:int}&quot;\\n    }\\n  }\\n  attr {\\n    key: &quot;zextra&quot;\\n    value {\\n      s: &quot;col_op {  struct {    fields { extraction { path: .key. } field_name: .company_name. }    fields {      extraction { path: .value. } field_name: .paradoxical_employees.    }  }}&quot;\\n    }\\n  }\\n}\\nnode {\\n  name: &quot;collect_list11&quot;\\n  op: &quot;org.spark.StructuredReduce&quot;\\n  input: &quot;agg_post10&quot;\\n  device: &quot;/spark:0&quot;\\n  attr {\\n    key: &quot;locality&quot;\\n    value {\\n      s: &quot;Local&quot;\\n    }\\n  }\\n  attr {\\n    key: &quot;type&quot;\\n    value {\\n      s: &quot;[{company_name:string paradoxical_employees:int}]&quot;\\n    }\\n  }\\n  attr {\\n    key: &quot;zextra&quot;\\n    value {\\n      s: &quot;agg_op {  op {    function_name: .collect_list.    inputs { }    expected_type {      array_type {        struct_type {          fields {            field_name: .company_name. field_type { basic_type: STRING }          }          fields {            field_name: .paradoxical_employees. field_type { basic_type: INT }          }        }      }    }  }}&quot;\\n    }\\n  }\\n}\\n';\n",
       "          }\n",
       "        </script>\n",
       "        <link rel=&quot;import&quot; href=&quot;https://tensorboard.appspot.com/tf-graph-basic.build.html&quot; onload=load()>\n",
       "        <div style=&quot;height:600px&quot;>\n",
       "          <tf-graph-basic id=&quot;graph0.3138827869185352&quot;></tf-graph-basic>\n",
       "        </div>\n",
       "    \"></iframe>\n",
       "    "
      ],
      "text/plain": [
       "<IPython.core.display.HTML object>"
      ]
     },
     "metadata": {},
     "output_type": "display_data"
    }
   ],
   "source": [
    "show_phase(comp, \"final\")"
   ]
  },
  {
   "cell_type": "markdown",
   "metadata": {},
   "source": [
    "After optimization and flattening, the graph actually turns out to be a linear graph with a first shuffle, a filter, a second shuffle and then a final aggregate. You can click around to see how computations are being done."
   ]
  },
  {
   "cell_type": "code",
   "execution_count": 11,
   "metadata": {},
   "outputs": [
    {
     "data": {
      "text/html": [
       "\n",
       "        <iframe seamless style=\"width:1000px;height:620px;border:0\" srcdoc=\"\n",
       "        <script src=&quot;//cdnjs.cloudflare.com/ajax/libs/polymer/0.3.3/platform.js&quot;></script>\n",
       "        <script>\n",
       "          function load() {\n",
       "            document.getElementById(&quot;graph0.8266500820385325&quot;).pbtxt = 'node {\\n  name: &quot;employees&quot;\\n  op: &quot;org.spark.DistributedLiteral&quot;\\n  device: &quot;/spark:0&quot;\\n  attr {\\n    key: &quot;locality&quot;\\n    value {\\n      s: &quot;Distributed&quot;\\n    }\\n  }\\n  attr {\\n    key: &quot;type&quot;\\n    value {\\n      s: &quot;{company_name:string employee_name:string dob:string}&quot;\\n    }\\n  }\\n  attr {\\n    key: &quot;zextra&quot;\\n    value {\\n      s: &quot;cell {  array_value {    values {      struct_value {        values { string_value: .ACME. }        values { string_value: .John. }        values { string_value: .12/01. }      }    }    values {      struct_value {        values { string_value: .ACME. }        values { string_value: .Kate. }        values { string_value: .09/04. }      }    }    values {      struct_value {        values { string_value: .ACME. }        values { string_value: .Albert. }        values { string_value: .09/04. }      }    }    values {      struct_value {        values { string_value: .Databricks. }        values { string_value: .Ali. }        values { string_value: .09/04. }      }    }  }}cell_type {  array_type {    struct_type {      fields {        field_name: .company_name. field_type { basic_type: STRING }      }      fields {        field_name: .employee_name. field_type { basic_type: STRING }      }      fields { field_name: .dob. field_type { basic_type: STRING } }    }  }}&quot;\\n    }\\n  }\\n}\\nnode {\\n  name: &quot;agg_pre8&quot;\\n  op: &quot;org.spark.StructuredTransform&quot;\\n  input: &quot;employees&quot;\\n  device: &quot;/spark:0&quot;\\n  attr {\\n    key: &quot;locality&quot;\\n    value {\\n      s: &quot;Distributed&quot;\\n    }\\n  }\\n  attr {\\n    key: &quot;type&quot;\\n    value {\\n      s: &quot;{key:string value:string}&quot;\\n    }\\n  }\\n  attr {\\n    key: &quot;zextra&quot;\\n    value {\\n      s: &quot;col_op {  struct {    fields { extraction { path: .company_name. } field_name: .key. }    fields { extraction { path: .dob. } field_name: .value. }  }}&quot;\\n    }\\n  }\\n}\\nnode {\\n  name: &quot;placeholder0&quot;\\n  op: &quot;org.spark.StructuredTransform&quot;\\n  input: &quot;agg_pre8&quot;\\n  device: &quot;/spark:0&quot;\\n  attr {\\n    key: &quot;locality&quot;\\n    value {\\n      s: &quot;Distributed&quot;\\n    }\\n  }\\n  attr {\\n    key: &quot;type&quot;\\n    value {\\n      s: &quot;{key:{key_1:string} value:string}&quot;\\n    }\\n  }\\n  attr {\\n    key: &quot;zextra&quot;\\n    value {\\n      s: &quot;col_op {  struct {    fields {      struct {        fields { extraction { path: .key. } field_name: .key_1. }      }      field_name: .key.    }    fields { extraction { path: .value. } field_name: .value. }  }}&quot;\\n    }\\n  }\\n}\\nnode {\\n  name: &quot;p_count/agg_pre4&quot;\\n  op: &quot;org.spark.StructuredTransform&quot;\\n  input: &quot;placeholder0&quot;\\n  device: &quot;/spark:0&quot;\\n  attr {\\n    key: &quot;locality&quot;\\n    value {\\n      s: &quot;Distributed&quot;\\n    }\\n  }\\n  attr {\\n    key: &quot;type&quot;\\n    value {\\n      s: &quot;{key:{key_1:string} value:{key:string value:string}}&quot;\\n    }\\n  }\\n  attr {\\n    key: &quot;zextra&quot;\\n    value {\\n      s: &quot;col_op {  struct {    fields { extraction { path: .key. } field_name: .key. }    fields {      struct {        fields { extraction { path: .value. } field_name: .key. }        fields { extraction { path: .value. } field_name: .value. }      }      field_name: .value.    }  }}&quot;\\n    }\\n  }\\n}\\nnode {\\n  name: &quot;p_count/placeholder1&quot;\\n  op: &quot;org.spark.StructuredTransform&quot;\\n  input: &quot;p_count/agg_pre4&quot;\\n  device: &quot;/spark:0&quot;\\n  attr {\\n    key: &quot;locality&quot;\\n    value {\\n      s: &quot;Distributed&quot;\\n    }\\n  }\\n  attr {\\n    key: &quot;type&quot;\\n    value {\\n      s: &quot;{key:{key_2:string key_1:string} value:string}&quot;\\n    }\\n  }\\n  attr {\\n    key: &quot;zextra&quot;\\n    value {\\n      s: &quot;col_op {  struct {    fields {      struct {        fields {          extraction { path: .key. path: .key_1. } field_name: .key_1.        }        fields {          extraction { path: .value. path: .key. } field_name: .key_2.        }      }      field_name: .key.    }    fields {      extraction { path: .value. path: .value. } field_name: .value.    }  }}&quot;\\n    }\\n  }\\n}\\nnode {\\n  name: &quot;p_count/structured_transform2&quot;\\n  op: &quot;org.spark.StructuredTransform&quot;\\n  input: &quot;p_count/placeholder1&quot;\\n  device: &quot;/spark:0&quot;\\n  attr {\\n    key: &quot;locality&quot;\\n    value {\\n      s: &quot;Distributed&quot;\\n    }\\n  }\\n  attr {\\n    key: &quot;type&quot;\\n    value {\\n      s: &quot;{key:{key_2:string key_1:string} value:string}&quot;\\n    }\\n  }\\n  attr {\\n    key: &quot;zextra&quot;\\n    value {\\n      s: &quot;col_op {  struct {    fields { extraction { path: .key. } field_name: .key. }    fields { extraction { path: .value. } field_name: .value. }  }}&quot;\\n    }\\n  }\\n}\\nnode {\\n  name: &quot;p_count/count3&quot;\\n  op: &quot;org.spark.GroupedReduction&quot;\\n  input: &quot;p_count/structured_transform2&quot;\\n  device: &quot;/spark:0&quot;\\n  attr {\\n    key: &quot;locality&quot;\\n    value {\\n      s: &quot;Distributed&quot;\\n    }\\n  }\\n  attr {\\n    key: &quot;type&quot;\\n    value {\\n      s: &quot;{key:{key_2:string key_1:string} value:int}&quot;\\n    }\\n  }\\n  attr {\\n    key: &quot;zextra&quot;\\n    value {\\n      s: &quot;agg_op {  op {    function_name: .count. inputs { } expected_type { basic_type: INT }  }}&quot;\\n    }\\n  }\\n}\\nnode {\\n  name: &quot;p_count/agg_count&quot;\\n  op: &quot;org.spark.StructuredTransform&quot;\\n  input: &quot;p_count/count3&quot;\\n  device: &quot;/spark:0&quot;\\n  attr {\\n    key: &quot;locality&quot;\\n    value {\\n      s: &quot;Distributed&quot;\\n    }\\n  }\\n  attr {\\n    key: &quot;type&quot;\\n    value {\\n      s: &quot;{key:{key_1:string} value:int}&quot;\\n    }\\n  }\\n  attr {\\n    key: &quot;zextra&quot;\\n    value {\\n      s: &quot;col_op {  struct {    fields {      struct {        fields {          extraction { path: .key. path: .key_1. } field_name: .key_1.        }      }      field_name: .key.    }    fields {      struct {        fields {          extraction { path: .key. path: .key_2. } field_name: .key.        }        fields { extraction { path: .value. } field_name: .value. }      }      field_name: .value.    }  }}&quot;\\n    }\\n  }\\n}\\nnode {\\n  name: &quot;p_count/agg_post5&quot;\\n  op: &quot;org.spark.StructuredTransform&quot;\\n  input: &quot;p_count/agg_count&quot;\\n  device: &quot;/spark:0&quot;\\n  attr {\\n    key: &quot;locality&quot;\\n    value {\\n      s: &quot;Distributed&quot;\\n    }\\n  }\\n  attr {\\n    key: &quot;type&quot;\\n    value {\\n      s: &quot;{key:{key_1:string} value:{key:string num_employees:int}}&quot;\\n    }\\n  }\\n  attr {\\n    key: &quot;zextra&quot;\\n    value {\\n      s: &quot;col_op {  struct {    fields { extraction { path: .key. } field_name: .key. }    fields {      struct {        fields {          extraction { path: .value. path: .key. } field_name: .key.        }        fields {          extraction { path: .value. path: .value. }          field_name: .num_employees.        }      }      field_name: .value.    }  }}&quot;\\n    }\\n  }\\n}\\nnode {\\n  name: &quot;p_count/filter_pre6&quot;\\n  op: &quot;org.spark.StructuredTransform&quot;\\n  input: &quot;p_count/agg_post5&quot;\\n  device: &quot;/spark:0&quot;\\n  attr {\\n    key: &quot;locality&quot;\\n    value {\\n      s: &quot;Distributed&quot;\\n    }\\n  }\\n  attr {\\n    key: &quot;type&quot;\\n    value {\\n      s: &quot;{key:{key_1:string} value:{filter:bool value:int}}&quot;\\n    }\\n  }\\n  attr {\\n    key: &quot;zextra&quot;\\n    value {\\n      s: &quot;col_op {  struct {    fields { extraction { path: .key. } field_name: .key. }    fields {      struct {        fields {          function {            function_name: .greater_equal.            inputs { extraction { path: .value. path: .num_employees. } }            inputs {              literal {                content { cell { int_value: 2 } cell_type { basic_type: INT } }              }            }            expected_type { basic_type: BOOL }          }          field_name: .filter.        }        fields {          extraction { path: .value. path: .num_employees. }          field_name: .value.        }      }      field_name: .value.    }  }}&quot;\\n    }\\n  }\\n}\\nnode {\\n  name: &quot;p_count/filter7_kagg_filter&quot;\\n  op: &quot;org.spark.StructuredTransform&quot;\\n  input: &quot;p_count/filter_pre6&quot;\\n  device: &quot;/spark:0&quot;\\n  attr {\\n    key: &quot;locality&quot;\\n    value {\\n      s: &quot;Distributed&quot;\\n    }\\n  }\\n  attr {\\n    key: &quot;type&quot;\\n    value {\\n      s: &quot;{filter:bool value:{key:{key_1:string} value:int}}&quot;\\n    }\\n  }\\n  attr {\\n    key: &quot;zextra&quot;\\n    value {\\n      s: &quot;col_op {  struct {    fields {      extraction { path: .value. path: .filter. } field_name: .filter.    }    fields {      struct {        fields { extraction { path: .key. } field_name: .key. }        fields {          extraction { path: .value. path: .value. } field_name: .value.        }      }      field_name: .value.    }  }}&quot;\\n    }\\n  }\\n}\\nnode {\\n  name: &quot;p_count/filter7&quot;\\n  op: &quot;org.spark.Filter&quot;\\n  input: &quot;p_count/filter7_kagg_filter&quot;\\n  device: &quot;/spark:0&quot;\\n  attr {\\n    key: &quot;locality&quot;\\n    value {\\n      s: &quot;Distributed&quot;\\n    }\\n  }\\n  attr {\\n    key: &quot;type&quot;\\n    value {\\n      s: &quot;{key:{key_1:string} value:int}&quot;\\n    }\\n  }\\n  attr {\\n    key: &quot;zextra&quot;\\n    value {\\n      s: &quot;&quot;\\n    }\\n  }\\n}\\nnode {\\n  name: &quot;p_count/paradoxical_employees&quot;\\n  op: &quot;org.spark.GroupedReduction&quot;\\n  input: &quot;p_count/filter7&quot;\\n  device: &quot;/spark:0&quot;\\n  attr {\\n    key: &quot;locality&quot;\\n    value {\\n      s: &quot;Distributed&quot;\\n    }\\n  }\\n  attr {\\n    key: &quot;type&quot;\\n    value {\\n      s: &quot;{key:{key_1:string} value:int}&quot;\\n    }\\n  }\\n  attr {\\n    key: &quot;zextra&quot;\\n    value {\\n      s: &quot;agg_op {  op {    function_name: .sum. inputs { } expected_type { basic_type: INT }  }}&quot;\\n    }\\n  }\\n}\\nnode {\\n  name: &quot;shuffle9&quot;\\n  op: &quot;org.spark.StructuredTransform&quot;\\n  input: &quot;p_count/paradoxical_employees&quot;\\n  device: &quot;/spark:0&quot;\\n  attr {\\n    key: &quot;locality&quot;\\n    value {\\n      s: &quot;Distributed&quot;\\n    }\\n  }\\n  attr {\\n    key: &quot;type&quot;\\n    value {\\n      s: &quot;{key:string value:int}&quot;\\n    }\\n  }\\n  attr {\\n    key: &quot;zextra&quot;\\n    value {\\n      s: &quot;col_op {  struct {    fields {      extraction { path: .key. path: .key_1. } field_name: .key.    }    fields { extraction { path: .value. } field_name: .value. }  }}&quot;\\n    }\\n  }\\n}\\nnode {\\n  name: &quot;agg_post10&quot;\\n  op: &quot;org.spark.StructuredTransform&quot;\\n  input: &quot;shuffle9&quot;\\n  device: &quot;/spark:0&quot;\\n  attr {\\n    key: &quot;locality&quot;\\n    value {\\n      s: &quot;Distributed&quot;\\n    }\\n  }\\n  attr {\\n    key: &quot;type&quot;\\n    value {\\n      s: &quot;{company_name:string paradoxical_employees:int}&quot;\\n    }\\n  }\\n  attr {\\n    key: &quot;zextra&quot;\\n    value {\\n      s: &quot;col_op {  struct {    fields { extraction { path: .key. } field_name: .company_name. }    fields {      extraction { path: .value. } field_name: .paradoxical_employees.    }  }}&quot;\\n    }\\n  }\\n}\\nnode {\\n  name: &quot;collect_list11&quot;\\n  op: &quot;org.spark.StructuredReduce&quot;\\n  input: &quot;agg_post10&quot;\\n  device: &quot;/spark:0&quot;\\n  attr {\\n    key: &quot;locality&quot;\\n    value {\\n      s: &quot;Local&quot;\\n    }\\n  }\\n  attr {\\n    key: &quot;type&quot;\\n    value {\\n      s: &quot;[{company_name:string paradoxical_employees:int}]&quot;\\n    }\\n  }\\n  attr {\\n    key: &quot;zextra&quot;\\n    value {\\n      s: &quot;agg_op {  op {    function_name: .collect_list.    inputs { }    expected_type {      array_type {        struct_type {          fields {            field_name: .company_name. field_type { basic_type: STRING }          }          fields {            field_name: .paradoxical_employees. field_type { basic_type: INT }          }        }      }    }  }}&quot;\\n    }\\n  }\\n}\\n';\n",
       "          }\n",
       "        </script>\n",
       "        <link rel=&quot;import&quot; href=&quot;https://tensorboard.appspot.com/tf-graph-basic.build.html&quot; onload=load()>\n",
       "        <div style=&quot;height:600px&quot;>\n",
       "          <tf-graph-basic id=&quot;graph0.8266500820385325&quot;></tf-graph-basic>\n",
       "        </div>\n",
       "    \"></iframe>\n",
       "    "
      ],
      "text/plain": [
       "<IPython.core.display.HTML object>"
      ]
     },
     "metadata": {},
     "output_type": "display_data"
    }
   ],
   "source": [
    "show_phase(comp, \"final\")"
   ]
  },
  {
   "cell_type": "markdown",
   "metadata": {},
   "source": [
    "And finally the value:"
   ]
  },
  {
   "cell_type": "code",
   "execution_count": 12,
   "metadata": {},
   "outputs": [
    {
     "data": {
      "text/plain": [
       "([{company_name:string, paradoxical_employees:int}], array_value {\n",
       "  values {\n",
       "    struct_value {\n",
       "      values {\n",
       "        string_value: \"ACME\"\n",
       "      }\n",
       "      values {\n",
       "        int_value: 2\n",
       "      }\n",
       "    }\n",
       "  }\n",
       "}\n",
       ")"
      ]
     },
     "execution_count": 12,
     "metadata": {},
     "output_type": "execute_result"
    }
   ],
   "source": [
    "comp.values()"
   ]
  },
  {
   "cell_type": "markdown",
   "metadata": {},
   "source": [
    "As a conclusion, with Karps, you can take _any_ reasonable function and reuse it in arbitrary ways in a functional manner, in a type-safe manner. Karps will write for you the complex SQL queries that you would have to write by hand. All errors are detected well before the actual runtime, which greatly simplifies the debugging.\n",
    "\n",
    "Laziness and structured transforms bring to Spark some fundamental characteristics such as modularity, reusability, better testing and fast-fail comprehensive error checking, on top of automatic performance optimizations."
   ]
  },
  {
   "cell_type": "code",
   "execution_count": 13,
   "metadata": {},
   "outputs": [
    {
     "data": {
      "text/html": [
       "\n",
       "        <iframe seamless style=\"width:1000px;height:620px;border:0\" srcdoc=\"\n",
       "        <script src=&quot;//cdnjs.cloudflare.com/ajax/libs/polymer/0.3.3/platform.js&quot;></script>\n",
       "        <script>\n",
       "          function load() {\n",
       "            document.getElementById(&quot;graph0.08557949450509938&quot;).pbtxt = 'node {\\n  name: &quot;employees/LocalRelation_0&quot;\\n  op: &quot;LocalRelation&quot;\\n  attr {\\n    key: &quot;hash&quot;\\n    value {\\n      s: &quot;-1644021768&quot;\\n    }\\n  }\\n  attr {\\n    key: &quot;id&quot;\\n    value {\\n      s: &quot;930180752&quot;\\n    }\\n  }\\n  attr {\\n    key: &quot;schema&quot;\\n    value {\\n      s: &quot;root\\\\n |-- company_name: string (nullable = false)\\\\n |-- employee_name: string (nullable = false)\\\\n |-- dob: string (nullable = false)\\\\n&quot;\\n    }\\n  }\\n  attr {\\n    key: &quot;simple&quot;\\n    value {\\n      s: &quot;LocalRelation [company_name#296, employee_name#297, dob#298]&quot;\\n    }\\n  }\\n  attr {\\n    key: &quot;verbose&quot;\\n    value {\\n      s: &quot;LocalRelation [company_name#296, employee_name#297, dob#298]&quot;\\n    }\\n  }\\n}\\nnode {\\n  name: &quot;agg_pre8/LogicalRDD_0&quot;\\n  op: &quot;LogicalRDD&quot;\\n  input: &quot;^employees/LocalRelation_0&quot;\\n  attr {\\n    key: &quot;hash&quot;\\n    value {\\n      s: &quot;-1350747539&quot;\\n    }\\n  }\\n  attr {\\n    key: &quot;id&quot;\\n    value {\\n      s: &quot;58004469&quot;\\n    }\\n  }\\n  attr {\\n    key: &quot;schema&quot;\\n    value {\\n      s: &quot;root\\\\n |-- key: string (nullable = false)\\\\n |-- value: string (nullable = false)\\\\n&quot;\\n    }\\n  }\\n  attr {\\n    key: &quot;simple&quot;\\n    value {\\n      s: &quot;LogicalRDD [key#316, value#317]&quot;\\n    }\\n  }\\n  attr {\\n    key: &quot;verbose&quot;\\n    value {\\n      s: &quot;LogicalRDD [key#316, value#317]&quot;\\n    }\\n  }\\n}\\nnode {\\n  name: &quot;placeholder0/LogicalRDD_0&quot;\\n  op: &quot;LogicalRDD&quot;\\n  input: &quot;^agg_pre8/LogicalRDD_0&quot;\\n  attr {\\n    key: &quot;hash&quot;\\n    value {\\n      s: &quot;-1241844133&quot;\\n    }\\n  }\\n  attr {\\n    key: &quot;id&quot;\\n    value {\\n      s: &quot;150948617&quot;\\n    }\\n  }\\n  attr {\\n    key: &quot;schema&quot;\\n    value {\\n      s: &quot;root\\\\n |-- key: struct (nullable = false)\\\\n |    |-- key_1: string (nullable = false)\\\\n |-- value: string (nullable = false)\\\\n&quot;\\n    }\\n  }\\n  attr {\\n    key: &quot;simple&quot;\\n    value {\\n      s: &quot;LogicalRDD [key#336, value#337]&quot;\\n    }\\n  }\\n  attr {\\n    key: &quot;verbose&quot;\\n    value {\\n      s: &quot;LogicalRDD [key#336, value#337]&quot;\\n    }\\n  }\\n}\\nnode {\\n  name: &quot;p_count/agg_pre4/LogicalRDD_0&quot;\\n  op: &quot;LogicalRDD&quot;\\n  input: &quot;^placeholder0/LogicalRDD_0&quot;\\n  attr {\\n    key: &quot;hash&quot;\\n    value {\\n      s: &quot;1670910371&quot;\\n    }\\n  }\\n  attr {\\n    key: &quot;id&quot;\\n    value {\\n      s: &quot;1336361749&quot;\\n    }\\n  }\\n  attr {\\n    key: &quot;schema&quot;\\n    value {\\n      s: &quot;root\\\\n |-- key: struct (nullable = false)\\\\n |    |-- key_1: string (nullable = false)\\\\n |-- value: struct (nullable = false)\\\\n |    |-- key: string (nullable = false)\\\\n |    |-- value: string (nullable = false)\\\\n&quot;\\n    }\\n  }\\n  attr {\\n    key: &quot;simple&quot;\\n    value {\\n      s: &quot;LogicalRDD [key#358, value#359]&quot;\\n    }\\n  }\\n  attr {\\n    key: &quot;verbose&quot;\\n    value {\\n      s: &quot;LogicalRDD [key#358, value#359]&quot;\\n    }\\n  }\\n}\\nnode {\\n  name: &quot;p_count/placeholder1/LogicalRDD_0&quot;\\n  op: &quot;LogicalRDD&quot;\\n  input: &quot;^p_count/agg_pre4/LogicalRDD_0&quot;\\n  attr {\\n    key: &quot;hash&quot;\\n    value {\\n      s: &quot;214327814&quot;\\n    }\\n  }\\n  attr {\\n    key: &quot;id&quot;\\n    value {\\n      s: &quot;615652657&quot;\\n    }\\n  }\\n  attr {\\n    key: &quot;schema&quot;\\n    value {\\n      s: &quot;root\\\\n |-- key: struct (nullable = false)\\\\n |    |-- key_1: string (nullable = false)\\\\n |    |-- key_2: string (nullable = false)\\\\n |-- value: string (nullable = false)\\\\n&quot;\\n    }\\n  }\\n  attr {\\n    key: &quot;simple&quot;\\n    value {\\n      s: &quot;LogicalRDD [key#380, value#381]&quot;\\n    }\\n  }\\n  attr {\\n    key: &quot;verbose&quot;\\n    value {\\n      s: &quot;LogicalRDD [key#380, value#381]&quot;\\n    }\\n  }\\n}\\nnode {\\n  name: &quot;p_count/structured_transform2/LogicalRDD_0&quot;\\n  op: &quot;LogicalRDD&quot;\\n  input: &quot;^p_count/placeholder1/LogicalRDD_0&quot;\\n  attr {\\n    key: &quot;hash&quot;\\n    value {\\n      s: &quot;-854139557&quot;\\n    }\\n  }\\n  attr {\\n    key: &quot;id&quot;\\n    value {\\n      s: &quot;1600674658&quot;\\n    }\\n  }\\n  attr {\\n    key: &quot;schema&quot;\\n    value {\\n      s: &quot;root\\\\n |-- key: struct (nullable = false)\\\\n |    |-- key_1: string (nullable = false)\\\\n |    |-- key_2: string (nullable = false)\\\\n |-- value: string (nullable = false)\\\\n&quot;\\n    }\\n  }\\n  attr {\\n    key: &quot;simple&quot;\\n    value {\\n      s: &quot;LogicalRDD [key#398, value#399]&quot;\\n    }\\n  }\\n  attr {\\n    key: &quot;verbose&quot;\\n    value {\\n      s: &quot;LogicalRDD [key#398, value#399]&quot;\\n    }\\n  }\\n}\\nnode {\\n  name: &quot;p_count/count3/LogicalRDD_0&quot;\\n  op: &quot;LogicalRDD&quot;\\n  input: &quot;^p_count/structured_transform2/LogicalRDD_0&quot;\\n  attr {\\n    key: &quot;hash&quot;\\n    value {\\n      s: &quot;-1857054439&quot;\\n    }\\n  }\\n  attr {\\n    key: &quot;id&quot;\\n    value {\\n      s: &quot;1373153054&quot;\\n    }\\n  }\\n  attr {\\n    key: &quot;schema&quot;\\n    value {\\n      s: &quot;root\\\\n |-- key: struct (nullable = false)\\\\n |    |-- key_1: string (nullable = false)\\\\n |    |-- key_2: string (nullable = false)\\\\n |-- value: long (nullable = false)\\\\n&quot;\\n    }\\n  }\\n  attr {\\n    key: &quot;simple&quot;\\n    value {\\n      s: &quot;LogicalRDD [key#421, value#422L]&quot;\\n    }\\n  }\\n  attr {\\n    key: &quot;verbose&quot;\\n    value {\\n      s: &quot;LogicalRDD [key#421, value#422L]&quot;\\n    }\\n  }\\n}\\nnode {\\n  name: &quot;p_count/agg_count/LogicalRDD_0&quot;\\n  op: &quot;LogicalRDD&quot;\\n  input: &quot;^p_count/count3/LogicalRDD_0&quot;\\n  attr {\\n    key: &quot;hash&quot;\\n    value {\\n      s: &quot;1753935844&quot;\\n    }\\n  }\\n  attr {\\n    key: &quot;id&quot;\\n    value {\\n      s: &quot;729464819&quot;\\n    }\\n  }\\n  attr {\\n    key: &quot;schema&quot;\\n    value {\\n      s: &quot;root\\\\n |-- key: struct (nullable = false)\\\\n |    |-- key_1: string (nullable = false)\\\\n |-- value: struct (nullable = false)\\\\n |    |-- key: string (nullable = false)\\\\n |    |-- value: long (nullable = false)\\\\n&quot;\\n    }\\n  }\\n  attr {\\n    key: &quot;simple&quot;\\n    value {\\n      s: &quot;LogicalRDD [key#445, value#446]&quot;\\n    }\\n  }\\n  attr {\\n    key: &quot;verbose&quot;\\n    value {\\n      s: &quot;LogicalRDD [key#445, value#446]&quot;\\n    }\\n  }\\n}\\nnode {\\n  name: &quot;p_count/agg_post5/LogicalRDD_0&quot;\\n  op: &quot;LogicalRDD&quot;\\n  input: &quot;^p_count/agg_count/LogicalRDD_0&quot;\\n  attr {\\n    key: &quot;hash&quot;\\n    value {\\n      s: &quot;1509422088&quot;\\n    }\\n  }\\n  attr {\\n    key: &quot;id&quot;\\n    value {\\n      s: &quot;18712599&quot;\\n    }\\n  }\\n  attr {\\n    key: &quot;schema&quot;\\n    value {\\n      s: &quot;root\\\\n |-- key: struct (nullable = false)\\\\n |    |-- key_1: string (nullable = false)\\\\n |-- value: struct (nullable = false)\\\\n |    |-- key: string (nullable = false)\\\\n |    |-- num_employees: long (nullable = false)\\\\n&quot;\\n    }\\n  }\\n  attr {\\n    key: &quot;simple&quot;\\n    value {\\n      s: &quot;LogicalRDD [key#467, value#468]&quot;\\n    }\\n  }\\n  attr {\\n    key: &quot;verbose&quot;\\n    value {\\n      s: &quot;LogicalRDD [key#467, value#468]&quot;\\n    }\\n  }\\n}\\nnode {\\n  name: &quot;p_count/filter_pre6/LogicalRDD_0&quot;\\n  op: &quot;LogicalRDD&quot;\\n  input: &quot;^p_count/agg_post5/LogicalRDD_0&quot;\\n  attr {\\n    key: &quot;hash&quot;\\n    value {\\n      s: &quot;1096503958&quot;\\n    }\\n  }\\n  attr {\\n    key: &quot;id&quot;\\n    value {\\n      s: &quot;778706363&quot;\\n    }\\n  }\\n  attr {\\n    key: &quot;schema&quot;\\n    value {\\n      s: &quot;root\\\\n |-- key: struct (nullable = false)\\\\n |    |-- key_1: string (nullable = false)\\\\n |-- value: struct (nullable = false)\\\\n |    |-- filter: boolean (nullable = false)\\\\n |    |-- value: long (nullable = false)\\\\n&quot;\\n    }\\n  }\\n  attr {\\n    key: &quot;simple&quot;\\n    value {\\n      s: &quot;LogicalRDD [key#492, value#493]&quot;\\n    }\\n  }\\n  attr {\\n    key: &quot;verbose&quot;\\n    value {\\n      s: &quot;LogicalRDD [key#492, value#493]&quot;\\n    }\\n  }\\n}\\nnode {\\n  name: &quot;p_count/filter7_kagg_filter/LogicalRDD_0&quot;\\n  op: &quot;LogicalRDD&quot;\\n  input: &quot;^p_count/filter_pre6/LogicalRDD_0&quot;\\n  attr {\\n    key: &quot;hash&quot;\\n    value {\\n      s: &quot;-248885559&quot;\\n    }\\n  }\\n  attr {\\n    key: &quot;id&quot;\\n    value {\\n      s: &quot;1826688469&quot;\\n    }\\n  }\\n  attr {\\n    key: &quot;schema&quot;\\n    value {\\n      s: &quot;root\\\\n |-- filter: boolean (nullable = false)\\\\n |-- value: struct (nullable = false)\\\\n |    |-- key: struct (nullable = false)\\\\n |    |    |-- key_1: string (nullable = false)\\\\n |    |-- value: long (nullable = false)\\\\n&quot;\\n    }\\n  }\\n  attr {\\n    key: &quot;simple&quot;\\n    value {\\n      s: &quot;LogicalRDD [filter#514, value#515]&quot;\\n    }\\n  }\\n  attr {\\n    key: &quot;verbose&quot;\\n    value {\\n      s: &quot;LogicalRDD [filter#514, value#515]&quot;\\n    }\\n  }\\n}\\nnode {\\n  name: &quot;p_count/filter7/LogicalRDD_0&quot;\\n  op: &quot;LogicalRDD&quot;\\n  input: &quot;^p_count/filter7_kagg_filter/LogicalRDD_0&quot;\\n  attr {\\n    key: &quot;hash&quot;\\n    value {\\n      s: &quot;1467362397&quot;\\n    }\\n  }\\n  attr {\\n    key: &quot;id&quot;\\n    value {\\n      s: &quot;1440928271&quot;\\n    }\\n  }\\n  attr {\\n    key: &quot;schema&quot;\\n    value {\\n      s: &quot;root\\\\n |-- key: struct (nullable = false)\\\\n |    |-- key_1: string (nullable = false)\\\\n |-- value: long (nullable = false)\\\\n&quot;\\n    }\\n  }\\n  attr {\\n    key: &quot;simple&quot;\\n    value {\\n      s: &quot;LogicalRDD [key#529, value#530L]&quot;\\n    }\\n  }\\n  attr {\\n    key: &quot;verbose&quot;\\n    value {\\n      s: &quot;LogicalRDD [key#529, value#530L]&quot;\\n    }\\n  }\\n}\\nnode {\\n  name: &quot;p_count/paradoxical_employees/LogicalRDD_0&quot;\\n  op: &quot;LogicalRDD&quot;\\n  input: &quot;^p_count/filter7/LogicalRDD_0&quot;\\n  attr {\\n    key: &quot;hash&quot;\\n    value {\\n      s: &quot;1910934096&quot;\\n    }\\n  }\\n  attr {\\n    key: &quot;id&quot;\\n    value {\\n      s: &quot;1363382175&quot;\\n    }\\n  }\\n  attr {\\n    key: &quot;schema&quot;\\n    value {\\n      s: &quot;root\\\\n |-- key: struct (nullable = false)\\\\n |    |-- key_1: string (nullable = false)\\\\n |-- value: long (nullable = true)\\\\n&quot;\\n    }\\n  }\\n  attr {\\n    key: &quot;simple&quot;\\n    value {\\n      s: &quot;LogicalRDD [key#552, value#553L]&quot;\\n    }\\n  }\\n  attr {\\n    key: &quot;verbose&quot;\\n    value {\\n      s: &quot;LogicalRDD [key#552, value#553L]&quot;\\n    }\\n  }\\n}\\nnode {\\n  name: &quot;shuffle9/LogicalRDD_0&quot;\\n  op: &quot;LogicalRDD&quot;\\n  input: &quot;^p_count/paradoxical_employees/LogicalRDD_0&quot;\\n  attr {\\n    key: &quot;hash&quot;\\n    value {\\n      s: &quot;-1392900879&quot;\\n    }\\n  }\\n  attr {\\n    key: &quot;id&quot;\\n    value {\\n      s: &quot;109657672&quot;\\n    }\\n  }\\n  attr {\\n    key: &quot;schema&quot;\\n    value {\\n      s: &quot;root\\\\n |-- key: string (nullable = false)\\\\n |-- value: long (nullable = true)\\\\n&quot;\\n    }\\n  }\\n  attr {\\n    key: &quot;simple&quot;\\n    value {\\n      s: &quot;LogicalRDD [key#570, value#571L]&quot;\\n    }\\n  }\\n  attr {\\n    key: &quot;verbose&quot;\\n    value {\\n      s: &quot;LogicalRDD [key#570, value#571L]&quot;\\n    }\\n  }\\n}\\nnode {\\n  name: &quot;agg_post10/LogicalRDD_0&quot;\\n  op: &quot;LogicalRDD&quot;\\n  input: &quot;^shuffle9/LogicalRDD_0&quot;\\n  attr {\\n    key: &quot;hash&quot;\\n    value {\\n      s: &quot;-1863907352&quot;\\n    }\\n  }\\n  attr {\\n    key: &quot;id&quot;\\n    value {\\n      s: &quot;346000996&quot;\\n    }\\n  }\\n  attr {\\n    key: &quot;schema&quot;\\n    value {\\n      s: &quot;root\\\\n |-- company_name: string (nullable = false)\\\\n |-- paradoxical_employees: long (nullable = true)\\\\n&quot;\\n    }\\n  }\\n  attr {\\n    key: &quot;simple&quot;\\n    value {\\n      s: &quot;LogicalRDD [company_name#588, paradoxical_employees#589L]&quot;\\n    }\\n  }\\n  attr {\\n    key: &quot;verbose&quot;\\n    value {\\n      s: &quot;LogicalRDD [company_name#588, paradoxical_employees#589L]&quot;\\n    }\\n  }\\n}\\nnode {\\n  name: &quot;collect_list11/LogicalRDD_0&quot;\\n  op: &quot;LogicalRDD&quot;\\n  input: &quot;^agg_post10/LogicalRDD_0&quot;\\n  attr {\\n    key: &quot;hash&quot;\\n    value {\\n      s: &quot;-88170674&quot;\\n    }\\n  }\\n  attr {\\n    key: &quot;id&quot;\\n    value {\\n      s: &quot;852608447&quot;\\n    }\\n  }\\n  attr {\\n    key: &quot;schema&quot;\\n    value {\\n      s: &quot;root\\\\n |-- value: array (nullable = true)\\\\n |    |-- element: struct (containsNull = true)\\\\n |    |    |-- company_name: string (nullable = false)\\\\n |    |    |-- paradoxical_employees: long (nullable = true)\\\\n&quot;\\n    }\\n  }\\n  attr {\\n    key: &quot;simple&quot;\\n    value {\\n      s: &quot;LogicalRDD [value#609]&quot;\\n    }\\n  }\\n  attr {\\n    key: &quot;verbose&quot;\\n    value {\\n      s: &quot;LogicalRDD [value#609]&quot;\\n    }\\n  }\\n}\\n';\n",
       "          }\n",
       "        </script>\n",
       "        <link rel=&quot;import&quot; href=&quot;https://tensorboard.appspot.com/tf-graph-basic.build.html&quot; onload=load()>\n",
       "        <div style=&quot;height:600px&quot;>\n",
       "          <tf-graph-basic id=&quot;graph0.08557949450509938&quot;></tf-graph-basic>\n",
       "        </div>\n",
       "    \"></iframe>\n",
       "    "
      ],
      "text/plain": [
       "<IPython.core.display.HTML object>"
      ]
     },
     "metadata": {},
     "output_type": "display_data"
    }
   ],
   "source": [
    "show_phase(comp, \"parsed\")"
   ]
  },
  {
   "cell_type": "code",
   "execution_count": 14,
   "metadata": {
    "scrolled": true
   },
   "outputs": [
    {
     "data": {
      "text/html": [
       "\n",
       "        <iframe seamless style=\"width:1000px;height:620px;border:0\" srcdoc=\"\n",
       "        <script src=&quot;//cdnjs.cloudflare.com/ajax/libs/polymer/0.3.3/platform.js&quot;></script>\n",
       "        <script>\n",
       "          function load() {\n",
       "            document.getElementById(&quot;graph0.9225658636974082&quot;).pbtxt = 'node {\\n  name: &quot;employees/LocalTableScan_0&quot;\\n  op: &quot;LocalTableScan&quot;\\n  attr {\\n    key: &quot;hash&quot;\\n    value {\\n      s: &quot;-1644021768&quot;\\n    }\\n  }\\n  attr {\\n    key: &quot;id&quot;\\n    value {\\n      s: &quot;722900104&quot;\\n    }\\n  }\\n  attr {\\n    key: &quot;schema&quot;\\n    value {\\n      s: &quot;root\\\\n |-- company_name: string (nullable = false)\\\\n |-- employee_name: string (nullable = false)\\\\n |-- dob: string (nullable = false)\\\\n&quot;\\n    }\\n  }\\n  attr {\\n    key: &quot;simple&quot;\\n    value {\\n      s: &quot;LocalTableScan [company_name#296, employee_name#297, dob#298]&quot;\\n    }\\n  }\\n  attr {\\n    key: &quot;verbose&quot;\\n    value {\\n      s: &quot;LocalTableScan [company_name#296, employee_name#297, dob#298]&quot;\\n    }\\n  }\\n}\\nnode {\\n  name: &quot;agg_pre8/Scan_ExistingRDD_0&quot;\\n  op: &quot;Scan_ExistingRDD&quot;\\n  input: &quot;^employees/LocalTableScan_0&quot;\\n  attr {\\n    key: &quot;hash&quot;\\n    value {\\n      s: &quot;1246003110&quot;\\n    }\\n  }\\n  attr {\\n    key: &quot;id&quot;\\n    value {\\n      s: &quot;1615208285&quot;\\n    }\\n  }\\n  attr {\\n    key: &quot;schema&quot;\\n    value {\\n      s: &quot;root\\\\n |-- key: string (nullable = false)\\\\n |-- value: string (nullable = false)\\\\n&quot;\\n    }\\n  }\\n  attr {\\n    key: &quot;simple&quot;\\n    value {\\n      s: &quot;Scan ExistingRDD[key#316,value#317]&quot;\\n    }\\n  }\\n  attr {\\n    key: &quot;verbose&quot;\\n    value {\\n      s: &quot;Scan ExistingRDD[key#316,value#317]&quot;\\n    }\\n  }\\n}\\nnode {\\n  name: &quot;placeholder0/Scan_ExistingRDD_0&quot;\\n  op: &quot;Scan_ExistingRDD&quot;\\n  input: &quot;^agg_pre8/Scan_ExistingRDD_0&quot;\\n  attr {\\n    key: &quot;hash&quot;\\n    value {\\n      s: &quot;-1529189987&quot;\\n    }\\n  }\\n  attr {\\n    key: &quot;id&quot;\\n    value {\\n      s: &quot;1871163952&quot;\\n    }\\n  }\\n  attr {\\n    key: &quot;schema&quot;\\n    value {\\n      s: &quot;root\\\\n |-- key: struct (nullable = false)\\\\n |    |-- key_1: string (nullable = false)\\\\n |-- value: string (nullable = false)\\\\n&quot;\\n    }\\n  }\\n  attr {\\n    key: &quot;simple&quot;\\n    value {\\n      s: &quot;Scan ExistingRDD[key#336,value#337]&quot;\\n    }\\n  }\\n  attr {\\n    key: &quot;verbose&quot;\\n    value {\\n      s: &quot;Scan ExistingRDD[key#336,value#337]&quot;\\n    }\\n  }\\n}\\nnode {\\n  name: &quot;p_count/agg_pre4/Scan_ExistingRDD_0&quot;\\n  op: &quot;Scan_ExistingRDD&quot;\\n  input: &quot;^placeholder0/Scan_ExistingRDD_0&quot;\\n  attr {\\n    key: &quot;hash&quot;\\n    value {\\n      s: &quot;1053597717&quot;\\n    }\\n  }\\n  attr {\\n    key: &quot;id&quot;\\n    value {\\n      s: &quot;988679107&quot;\\n    }\\n  }\\n  attr {\\n    key: &quot;schema&quot;\\n    value {\\n      s: &quot;root\\\\n |-- key: struct (nullable = false)\\\\n |    |-- key_1: string (nullable = false)\\\\n |-- value: struct (nullable = false)\\\\n |    |-- key: string (nullable = false)\\\\n |    |-- value: string (nullable = false)\\\\n&quot;\\n    }\\n  }\\n  attr {\\n    key: &quot;simple&quot;\\n    value {\\n      s: &quot;Scan ExistingRDD[key#358,value#359]&quot;\\n    }\\n  }\\n  attr {\\n    key: &quot;verbose&quot;\\n    value {\\n      s: &quot;Scan ExistingRDD[key#358,value#359]&quot;\\n    }\\n  }\\n}\\nnode {\\n  name: &quot;p_count/placeholder1/Scan_ExistingRDD_0&quot;\\n  op: &quot;Scan_ExistingRDD&quot;\\n  input: &quot;^p_count/agg_pre4/Scan_ExistingRDD_0&quot;\\n  attr {\\n    key: &quot;hash&quot;\\n    value {\\n      s: &quot;937947624&quot;\\n    }\\n  }\\n  attr {\\n    key: &quot;id&quot;\\n    value {\\n      s: &quot;938692624&quot;\\n    }\\n  }\\n  attr {\\n    key: &quot;schema&quot;\\n    value {\\n      s: &quot;root\\\\n |-- key: struct (nullable = false)\\\\n |    |-- key_1: string (nullable = false)\\\\n |    |-- key_2: string (nullable = false)\\\\n |-- value: string (nullable = false)\\\\n&quot;\\n    }\\n  }\\n  attr {\\n    key: &quot;simple&quot;\\n    value {\\n      s: &quot;Scan ExistingRDD[key#380,value#381]&quot;\\n    }\\n  }\\n  attr {\\n    key: &quot;verbose&quot;\\n    value {\\n      s: &quot;Scan ExistingRDD[key#380,value#381]&quot;\\n    }\\n  }\\n}\\nnode {\\n  name: &quot;p_count/structured_transform2/Scan_ExistingRDD_0&quot;\\n  op: &quot;Scan_ExistingRDD&quot;\\n  input: &quot;^p_count/placeholder1/Scan_ExistingRDD_0&quot;\\n  attr {\\n    key: &quot;hash&quot;\\n    value {\\n      s: &quot;-1916660736&quot;\\n    }\\n  }\\n  attr {\\n    key: &quot;id&quot;\\n    value {\\n      s: &quot;1916339522&quot;\\n    }\\n  }\\n  attr {\\n    key: &quot;schema&quot;\\n    value {\\n      s: &quot;root\\\\n |-- key: struct (nullable = false)\\\\n |    |-- key_1: string (nullable = false)\\\\n |    |-- key_2: string (nullable = false)\\\\n |-- value: string (nullable = false)\\\\n&quot;\\n    }\\n  }\\n  attr {\\n    key: &quot;simple&quot;\\n    value {\\n      s: &quot;Scan ExistingRDD[key#398,value#399]&quot;\\n    }\\n  }\\n  attr {\\n    key: &quot;verbose&quot;\\n    value {\\n      s: &quot;Scan ExistingRDD[key#398,value#399]&quot;\\n    }\\n  }\\n}\\nnode {\\n  name: &quot;p_count/count3/Scan_ExistingRDD_0&quot;\\n  op: &quot;Scan_ExistingRDD&quot;\\n  input: &quot;^p_count/structured_transform2/Scan_ExistingRDD_0&quot;\\n  attr {\\n    key: &quot;hash&quot;\\n    value {\\n      s: &quot;-1400144969&quot;\\n    }\\n  }\\n  attr {\\n    key: &quot;id&quot;\\n    value {\\n      s: &quot;453730912&quot;\\n    }\\n  }\\n  attr {\\n    key: &quot;schema&quot;\\n    value {\\n      s: &quot;root\\\\n |-- key: struct (nullable = false)\\\\n |    |-- key_1: string (nullable = false)\\\\n |    |-- key_2: string (nullable = false)\\\\n |-- value: long (nullable = false)\\\\n&quot;\\n    }\\n  }\\n  attr {\\n    key: &quot;simple&quot;\\n    value {\\n      s: &quot;Scan ExistingRDD[key#421,value#422L]&quot;\\n    }\\n  }\\n  attr {\\n    key: &quot;verbose&quot;\\n    value {\\n      s: &quot;Scan ExistingRDD[key#421,value#422L]&quot;\\n    }\\n  }\\n}\\nnode {\\n  name: &quot;p_count/agg_count/Scan_ExistingRDD_0&quot;\\n  op: &quot;Scan_ExistingRDD&quot;\\n  input: &quot;^p_count/count3/Scan_ExistingRDD_0&quot;\\n  attr {\\n    key: &quot;hash&quot;\\n    value {\\n      s: &quot;-690143961&quot;\\n    }\\n  }\\n  attr {\\n    key: &quot;id&quot;\\n    value {\\n      s: &quot;2090953541&quot;\\n    }\\n  }\\n  attr {\\n    key: &quot;schema&quot;\\n    value {\\n      s: &quot;root\\\\n |-- key: struct (nullable = false)\\\\n |    |-- key_1: string (nullable = false)\\\\n |-- value: struct (nullable = false)\\\\n |    |-- key: string (nullable = false)\\\\n |    |-- value: long (nullable = false)\\\\n&quot;\\n    }\\n  }\\n  attr {\\n    key: &quot;simple&quot;\\n    value {\\n      s: &quot;Scan ExistingRDD[key#445,value#446]&quot;\\n    }\\n  }\\n  attr {\\n    key: &quot;verbose&quot;\\n    value {\\n      s: &quot;Scan ExistingRDD[key#445,value#446]&quot;\\n    }\\n  }\\n}\\nnode {\\n  name: &quot;p_count/agg_post5/Scan_ExistingRDD_0&quot;\\n  op: &quot;Scan_ExistingRDD&quot;\\n  input: &quot;^p_count/agg_count/Scan_ExistingRDD_0&quot;\\n  attr {\\n    key: &quot;hash&quot;\\n    value {\\n      s: &quot;-364863666&quot;\\n    }\\n  }\\n  attr {\\n    key: &quot;id&quot;\\n    value {\\n      s: &quot;1094105318&quot;\\n    }\\n  }\\n  attr {\\n    key: &quot;schema&quot;\\n    value {\\n      s: &quot;root\\\\n |-- key: struct (nullable = false)\\\\n |    |-- key_1: string (nullable = false)\\\\n |-- value: struct (nullable = false)\\\\n |    |-- key: string (nullable = false)\\\\n |    |-- num_employees: long (nullable = false)\\\\n&quot;\\n    }\\n  }\\n  attr {\\n    key: &quot;simple&quot;\\n    value {\\n      s: &quot;Scan ExistingRDD[key#467,value#468]&quot;\\n    }\\n  }\\n  attr {\\n    key: &quot;verbose&quot;\\n    value {\\n      s: &quot;Scan ExistingRDD[key#467,value#468]&quot;\\n    }\\n  }\\n}\\nnode {\\n  name: &quot;p_count/filter_pre6/Scan_ExistingRDD_0&quot;\\n  op: &quot;Scan_ExistingRDD&quot;\\n  input: &quot;^p_count/agg_post5/Scan_ExistingRDD_0&quot;\\n  attr {\\n    key: &quot;hash&quot;\\n    value {\\n      s: &quot;-833434467&quot;\\n    }\\n  }\\n  attr {\\n    key: &quot;id&quot;\\n    value {\\n      s: &quot;962170425&quot;\\n    }\\n  }\\n  attr {\\n    key: &quot;schema&quot;\\n    value {\\n      s: &quot;root\\\\n |-- key: struct (nullable = false)\\\\n |    |-- key_1: string (nullable = false)\\\\n |-- value: struct (nullable = false)\\\\n |    |-- filter: boolean (nullable = false)\\\\n |    |-- value: long (nullable = false)\\\\n&quot;\\n    }\\n  }\\n  attr {\\n    key: &quot;simple&quot;\\n    value {\\n      s: &quot;Scan ExistingRDD[key#492,value#493]&quot;\\n    }\\n  }\\n  attr {\\n    key: &quot;verbose&quot;\\n    value {\\n      s: &quot;Scan ExistingRDD[key#492,value#493]&quot;\\n    }\\n  }\\n}\\nnode {\\n  name: &quot;p_count/filter7_kagg_filter/Scan_ExistingRDD_0&quot;\\n  op: &quot;Scan_ExistingRDD&quot;\\n  input: &quot;^p_count/filter_pre6/Scan_ExistingRDD_0&quot;\\n  attr {\\n    key: &quot;hash&quot;\\n    value {\\n      s: &quot;-1811549764&quot;\\n    }\\n  }\\n  attr {\\n    key: &quot;id&quot;\\n    value {\\n      s: &quot;104691451&quot;\\n    }\\n  }\\n  attr {\\n    key: &quot;schema&quot;\\n    value {\\n      s: &quot;root\\\\n |-- filter: boolean (nullable = false)\\\\n |-- value: struct (nullable = false)\\\\n |    |-- key: struct (nullable = false)\\\\n |    |    |-- key_1: string (nullable = false)\\\\n |    |-- value: long (nullable = false)\\\\n&quot;\\n    }\\n  }\\n  attr {\\n    key: &quot;simple&quot;\\n    value {\\n      s: &quot;Scan ExistingRDD[filter#514,value#515]&quot;\\n    }\\n  }\\n  attr {\\n    key: &quot;verbose&quot;\\n    value {\\n      s: &quot;Scan ExistingRDD[filter#514,value#515]&quot;\\n    }\\n  }\\n}\\nnode {\\n  name: &quot;p_count/filter7/Scan_ExistingRDD_0&quot;\\n  op: &quot;Scan_ExistingRDD&quot;\\n  input: &quot;^p_count/filter7_kagg_filter/Scan_ExistingRDD_0&quot;\\n  attr {\\n    key: &quot;hash&quot;\\n    value {\\n      s: &quot;46902345&quot;\\n    }\\n  }\\n  attr {\\n    key: &quot;id&quot;\\n    value {\\n      s: &quot;1784409681&quot;\\n    }\\n  }\\n  attr {\\n    key: &quot;schema&quot;\\n    value {\\n      s: &quot;root\\\\n |-- key: struct (nullable = false)\\\\n |    |-- key_1: string (nullable = false)\\\\n |-- value: long (nullable = false)\\\\n&quot;\\n    }\\n  }\\n  attr {\\n    key: &quot;simple&quot;\\n    value {\\n      s: &quot;Scan ExistingRDD[key#529,value#530L]&quot;\\n    }\\n  }\\n  attr {\\n    key: &quot;verbose&quot;\\n    value {\\n      s: &quot;Scan ExistingRDD[key#529,value#530L]&quot;\\n    }\\n  }\\n}\\nnode {\\n  name: &quot;p_count/paradoxical_employees/Scan_ExistingRDD_0&quot;\\n  op: &quot;Scan_ExistingRDD&quot;\\n  input: &quot;^p_count/filter7/Scan_ExistingRDD_0&quot;\\n  attr {\\n    key: &quot;hash&quot;\\n    value {\\n      s: &quot;-1279884305&quot;\\n    }\\n  }\\n  attr {\\n    key: &quot;id&quot;\\n    value {\\n      s: &quot;954055833&quot;\\n    }\\n  }\\n  attr {\\n    key: &quot;schema&quot;\\n    value {\\n      s: &quot;root\\\\n |-- key: struct (nullable = false)\\\\n |    |-- key_1: string (nullable = false)\\\\n |-- value: long (nullable = true)\\\\n&quot;\\n    }\\n  }\\n  attr {\\n    key: &quot;simple&quot;\\n    value {\\n      s: &quot;Scan ExistingRDD[key#552,value#553L]&quot;\\n    }\\n  }\\n  attr {\\n    key: &quot;verbose&quot;\\n    value {\\n      s: &quot;Scan ExistingRDD[key#552,value#553L]&quot;\\n    }\\n  }\\n}\\nnode {\\n  name: &quot;shuffle9/Scan_ExistingRDD_0&quot;\\n  op: &quot;Scan_ExistingRDD&quot;\\n  input: &quot;^p_count/paradoxical_employees/Scan_ExistingRDD_0&quot;\\n  attr {\\n    key: &quot;hash&quot;\\n    value {\\n      s: &quot;567386112&quot;\\n    }\\n  }\\n  attr {\\n    key: &quot;id&quot;\\n    value {\\n      s: &quot;1676105589&quot;\\n    }\\n  }\\n  attr {\\n    key: &quot;schema&quot;\\n    value {\\n      s: &quot;root\\\\n |-- key: string (nullable = false)\\\\n |-- value: long (nullable = true)\\\\n&quot;\\n    }\\n  }\\n  attr {\\n    key: &quot;simple&quot;\\n    value {\\n      s: &quot;Scan ExistingRDD[key#570,value#571L]&quot;\\n    }\\n  }\\n  attr {\\n    key: &quot;verbose&quot;\\n    value {\\n      s: &quot;Scan ExistingRDD[key#570,value#571L]&quot;\\n    }\\n  }\\n}\\nnode {\\n  name: &quot;agg_post10/Scan_ExistingRDD_0&quot;\\n  op: &quot;Scan_ExistingRDD&quot;\\n  input: &quot;^shuffle9/Scan_ExistingRDD_0&quot;\\n  attr {\\n    key: &quot;hash&quot;\\n    value {\\n      s: &quot;-898758239&quot;\\n    }\\n  }\\n  attr {\\n    key: &quot;id&quot;\\n    value {\\n      s: &quot;330470437&quot;\\n    }\\n  }\\n  attr {\\n    key: &quot;schema&quot;\\n    value {\\n      s: &quot;root\\\\n |-- company_name: string (nullable = false)\\\\n |-- paradoxical_employees: long (nullable = true)\\\\n&quot;\\n    }\\n  }\\n  attr {\\n    key: &quot;simple&quot;\\n    value {\\n      s: &quot;Scan ExistingRDD[company_name#588,paradoxical_employees#589L]&quot;\\n    }\\n  }\\n  attr {\\n    key: &quot;verbose&quot;\\n    value {\\n      s: &quot;Scan ExistingRDD[company_name#588,paradoxical_employees#589L]&quot;\\n    }\\n  }\\n}\\nnode {\\n  name: &quot;collect_list11/Scan_ExistingRDD_0&quot;\\n  op: &quot;Scan_ExistingRDD&quot;\\n  input: &quot;^agg_post10/Scan_ExistingRDD_0&quot;\\n  attr {\\n    key: &quot;hash&quot;\\n    value {\\n      s: &quot;-295959566&quot;\\n    }\\n  }\\n  attr {\\n    key: &quot;id&quot;\\n    value {\\n      s: &quot;614133056&quot;\\n    }\\n  }\\n  attr {\\n    key: &quot;schema&quot;\\n    value {\\n      s: &quot;root\\\\n |-- value: array (nullable = true)\\\\n |    |-- element: struct (containsNull = true)\\\\n |    |    |-- company_name: string (nullable = false)\\\\n |    |    |-- paradoxical_employees: long (nullable = true)\\\\n&quot;\\n    }\\n  }\\n  attr {\\n    key: &quot;simple&quot;\\n    value {\\n      s: &quot;Scan ExistingRDD[value#609]&quot;\\n    }\\n  }\\n  attr {\\n    key: &quot;verbose&quot;\\n    value {\\n      s: &quot;Scan ExistingRDD[value#609]&quot;\\n    }\\n  }\\n}\\n';\n",
       "          }\n",
       "        </script>\n",
       "        <link rel=&quot;import&quot; href=&quot;https://tensorboard.appspot.com/tf-graph-basic.build.html&quot; onload=load()>\n",
       "        <div style=&quot;height:600px&quot;>\n",
       "          <tf-graph-basic id=&quot;graph0.9225658636974082&quot;></tf-graph-basic>\n",
       "        </div>\n",
       "    \"></iframe>\n",
       "    "
      ],
      "text/plain": [
       "<IPython.core.display.HTML object>"
      ]
     },
     "metadata": {},
     "output_type": "display_data"
    }
   ],
   "source": [
    "show_phase(comp, \"physical\")"
   ]
  },
  {
   "cell_type": "code",
   "execution_count": 15,
   "metadata": {
    "scrolled": false
   },
   "outputs": [
    {
     "data": {
      "text/html": [
       "\n",
       "        <iframe seamless style=\"width:1000px;height:620px;border:0\" srcdoc=\"\n",
       "        <script src=&quot;//cdnjs.cloudflare.com/ajax/libs/polymer/0.3.3/platform.js&quot;></script>\n",
       "        <script>\n",
       "          function load() {\n",
       "            document.getElementById(&quot;graph0.842413256942418&quot;).pbtxt = 'node {\\n  name: &quot;employees/ParallelCollectionRDD_58&quot;\\n  op: &quot;ParallelCollectionRDD&quot;\\n  attr {\\n    key: &quot;name&quot;\\n    value {\\n      s: &quot;ParallelCollectionRDD&quot;\\n    }\\n  }\\n}\\nnode {\\n  name: &quot;employees/MapPartitionsRDD_59&quot;\\n  op: &quot;MapPartitionsRDD&quot;\\n  input: &quot;employees/ParallelCollectionRDD_58&quot;\\n  attr {\\n    key: &quot;name&quot;\\n    value {\\n      s: &quot;MapPartitionsRDD&quot;\\n    }\\n  }\\n}\\nnode {\\n  name: &quot;agg_pre8/ParallelCollectionRDD_60&quot;\\n  op: &quot;ParallelCollectionRDD&quot;\\n  input: &quot;^employees/MapPartitionsRDD_59&quot;\\n  attr {\\n    key: &quot;name&quot;\\n    value {\\n      s: &quot;ParallelCollectionRDD&quot;\\n    }\\n  }\\n}\\nnode {\\n  name: &quot;agg_pre8/MapPartitionsRDD_61&quot;\\n  op: &quot;MapPartitionsRDD&quot;\\n  input: &quot;agg_pre8/ParallelCollectionRDD_60&quot;\\n  attr {\\n    key: &quot;name&quot;\\n    value {\\n      s: &quot;MapPartitionsRDD&quot;\\n    }\\n  }\\n}\\nnode {\\n  name: &quot;agg_pre8/MapPartitionsRDD_62&quot;\\n  op: &quot;MapPartitionsRDD&quot;\\n  input: &quot;agg_pre8/MapPartitionsRDD_61&quot;\\n  attr {\\n    key: &quot;name&quot;\\n    value {\\n      s: &quot;MapPartitionsRDD&quot;\\n    }\\n  }\\n}\\nnode {\\n  name: &quot;agg_pre8/MapPartitionsRDD_63&quot;\\n  op: &quot;MapPartitionsRDD&quot;\\n  input: &quot;agg_pre8/MapPartitionsRDD_62&quot;\\n  attr {\\n    key: &quot;name&quot;\\n    value {\\n      s: &quot;MapPartitionsRDD&quot;\\n    }\\n  }\\n}\\nnode {\\n  name: &quot;agg_pre8/MapPartitionsRDD_64&quot;\\n  op: &quot;MapPartitionsRDD&quot;\\n  input: &quot;agg_pre8/MapPartitionsRDD_63&quot;\\n  attr {\\n    key: &quot;name&quot;\\n    value {\\n      s: &quot;MapPartitionsRDD&quot;\\n    }\\n  }\\n}\\nnode {\\n  name: &quot;agg_pre8/MapPartitionsRDD_65&quot;\\n  op: &quot;MapPartitionsRDD&quot;\\n  input: &quot;agg_pre8/MapPartitionsRDD_64&quot;\\n  attr {\\n    key: &quot;name&quot;\\n    value {\\n      s: &quot;MapPartitionsRDD&quot;\\n    }\\n  }\\n}\\nnode {\\n  name: &quot;placeholder0/MapPartitionsRDD_66&quot;\\n  op: &quot;MapPartitionsRDD&quot;\\n  input: &quot;agg_pre8/MapPartitionsRDD_64&quot;\\n  input: &quot;^agg_pre8/MapPartitionsRDD_65&quot;\\n  attr {\\n    key: &quot;name&quot;\\n    value {\\n      s: &quot;MapPartitionsRDD&quot;\\n    }\\n  }\\n}\\nnode {\\n  name: &quot;placeholder0/MapPartitionsRDD_67&quot;\\n  op: &quot;MapPartitionsRDD&quot;\\n  input: &quot;placeholder0/MapPartitionsRDD_66&quot;\\n  attr {\\n    key: &quot;name&quot;\\n    value {\\n      s: &quot;MapPartitionsRDD&quot;\\n    }\\n  }\\n}\\nnode {\\n  name: &quot;placeholder0/MapPartitionsRDD_68&quot;\\n  op: &quot;MapPartitionsRDD&quot;\\n  input: &quot;placeholder0/MapPartitionsRDD_67&quot;\\n  attr {\\n    key: &quot;name&quot;\\n    value {\\n      s: &quot;MapPartitionsRDD&quot;\\n    }\\n  }\\n}\\nnode {\\n  name: &quot;placeholder0/MapPartitionsRDD_69&quot;\\n  op: &quot;MapPartitionsRDD&quot;\\n  input: &quot;placeholder0/MapPartitionsRDD_68&quot;\\n  attr {\\n    key: &quot;name&quot;\\n    value {\\n      s: &quot;MapPartitionsRDD&quot;\\n    }\\n  }\\n}\\nnode {\\n  name: &quot;placeholder0/MapPartitionsRDD_70&quot;\\n  op: &quot;MapPartitionsRDD&quot;\\n  input: &quot;placeholder0/MapPartitionsRDD_69&quot;\\n  attr {\\n    key: &quot;name&quot;\\n    value {\\n      s: &quot;MapPartitionsRDD&quot;\\n    }\\n  }\\n}\\nnode {\\n  name: &quot;placeholder0/MapPartitionsRDD_71&quot;\\n  op: &quot;MapPartitionsRDD&quot;\\n  input: &quot;placeholder0/MapPartitionsRDD_70&quot;\\n  attr {\\n    key: &quot;name&quot;\\n    value {\\n      s: &quot;MapPartitionsRDD&quot;\\n    }\\n  }\\n}\\nnode {\\n  name: &quot;p_count/agg_pre4/MapPartitionsRDD_72&quot;\\n  op: &quot;MapPartitionsRDD&quot;\\n  input: &quot;placeholder0/MapPartitionsRDD_70&quot;\\n  input: &quot;^placeholder0/MapPartitionsRDD_71&quot;\\n  attr {\\n    key: &quot;name&quot;\\n    value {\\n      s: &quot;MapPartitionsRDD&quot;\\n    }\\n  }\\n}\\nnode {\\n  name: &quot;p_count/agg_pre4/MapPartitionsRDD_73&quot;\\n  op: &quot;MapPartitionsRDD&quot;\\n  input: &quot;p_count/agg_pre4/MapPartitionsRDD_72&quot;\\n  attr {\\n    key: &quot;name&quot;\\n    value {\\n      s: &quot;MapPartitionsRDD&quot;\\n    }\\n  }\\n}\\nnode {\\n  name: &quot;p_count/agg_pre4/MapPartitionsRDD_74&quot;\\n  op: &quot;MapPartitionsRDD&quot;\\n  input: &quot;p_count/agg_pre4/MapPartitionsRDD_73&quot;\\n  attr {\\n    key: &quot;name&quot;\\n    value {\\n      s: &quot;MapPartitionsRDD&quot;\\n    }\\n  }\\n}\\nnode {\\n  name: &quot;p_count/agg_pre4/MapPartitionsRDD_75&quot;\\n  op: &quot;MapPartitionsRDD&quot;\\n  input: &quot;p_count/agg_pre4/MapPartitionsRDD_74&quot;\\n  attr {\\n    key: &quot;name&quot;\\n    value {\\n      s: &quot;MapPartitionsRDD&quot;\\n    }\\n  }\\n}\\nnode {\\n  name: &quot;p_count/agg_pre4/MapPartitionsRDD_76&quot;\\n  op: &quot;MapPartitionsRDD&quot;\\n  input: &quot;p_count/agg_pre4/MapPartitionsRDD_75&quot;\\n  attr {\\n    key: &quot;name&quot;\\n    value {\\n      s: &quot;MapPartitionsRDD&quot;\\n    }\\n  }\\n}\\nnode {\\n  name: &quot;p_count/agg_pre4/MapPartitionsRDD_77&quot;\\n  op: &quot;MapPartitionsRDD&quot;\\n  input: &quot;p_count/agg_pre4/MapPartitionsRDD_76&quot;\\n  attr {\\n    key: &quot;name&quot;\\n    value {\\n      s: &quot;MapPartitionsRDD&quot;\\n    }\\n  }\\n}\\nnode {\\n  name: &quot;p_count/placeholder1/MapPartitionsRDD_78&quot;\\n  op: &quot;MapPartitionsRDD&quot;\\n  input: &quot;p_count/agg_pre4/MapPartitionsRDD_76&quot;\\n  input: &quot;^p_count/agg_pre4/MapPartitionsRDD_77&quot;\\n  attr {\\n    key: &quot;name&quot;\\n    value {\\n      s: &quot;MapPartitionsRDD&quot;\\n    }\\n  }\\n}\\nnode {\\n  name: &quot;p_count/placeholder1/MapPartitionsRDD_79&quot;\\n  op: &quot;MapPartitionsRDD&quot;\\n  input: &quot;p_count/placeholder1/MapPartitionsRDD_78&quot;\\n  attr {\\n    key: &quot;name&quot;\\n    value {\\n      s: &quot;MapPartitionsRDD&quot;\\n    }\\n  }\\n}\\nnode {\\n  name: &quot;p_count/placeholder1/MapPartitionsRDD_80&quot;\\n  op: &quot;MapPartitionsRDD&quot;\\n  input: &quot;p_count/placeholder1/MapPartitionsRDD_79&quot;\\n  attr {\\n    key: &quot;name&quot;\\n    value {\\n      s: &quot;MapPartitionsRDD&quot;\\n    }\\n  }\\n}\\nnode {\\n  name: &quot;p_count/placeholder1/MapPartitionsRDD_81&quot;\\n  op: &quot;MapPartitionsRDD&quot;\\n  input: &quot;p_count/placeholder1/MapPartitionsRDD_80&quot;\\n  attr {\\n    key: &quot;name&quot;\\n    value {\\n      s: &quot;MapPartitionsRDD&quot;\\n    }\\n  }\\n}\\nnode {\\n  name: &quot;p_count/placeholder1/MapPartitionsRDD_82&quot;\\n  op: &quot;MapPartitionsRDD&quot;\\n  input: &quot;p_count/placeholder1/MapPartitionsRDD_81&quot;\\n  attr {\\n    key: &quot;name&quot;\\n    value {\\n      s: &quot;MapPartitionsRDD&quot;\\n    }\\n  }\\n}\\nnode {\\n  name: &quot;p_count/placeholder1/MapPartitionsRDD_83&quot;\\n  op: &quot;MapPartitionsRDD&quot;\\n  input: &quot;p_count/placeholder1/MapPartitionsRDD_82&quot;\\n  attr {\\n    key: &quot;name&quot;\\n    value {\\n      s: &quot;MapPartitionsRDD&quot;\\n    }\\n  }\\n}\\nnode {\\n  name: &quot;p_count/structured_transform2/MapPartitionsRDD_84&quot;\\n  op: &quot;MapPartitionsRDD&quot;\\n  input: &quot;p_count/placeholder1/MapPartitionsRDD_82&quot;\\n  input: &quot;^p_count/placeholder1/MapPartitionsRDD_83&quot;\\n  attr {\\n    key: &quot;name&quot;\\n    value {\\n      s: &quot;MapPartitionsRDD&quot;\\n    }\\n  }\\n}\\nnode {\\n  name: &quot;p_count/structured_transform2/MapPartitionsRDD_85&quot;\\n  op: &quot;MapPartitionsRDD&quot;\\n  input: &quot;p_count/structured_transform2/MapPartitionsRDD_84&quot;\\n  attr {\\n    key: &quot;name&quot;\\n    value {\\n      s: &quot;MapPartitionsRDD&quot;\\n    }\\n  }\\n}\\nnode {\\n  name: &quot;p_count/structured_transform2/MapPartitionsRDD_86&quot;\\n  op: &quot;MapPartitionsRDD&quot;\\n  input: &quot;p_count/structured_transform2/MapPartitionsRDD_85&quot;\\n  attr {\\n    key: &quot;name&quot;\\n    value {\\n      s: &quot;MapPartitionsRDD&quot;\\n    }\\n  }\\n}\\nnode {\\n  name: &quot;p_count/structured_transform2/MapPartitionsRDD_87&quot;\\n  op: &quot;MapPartitionsRDD&quot;\\n  input: &quot;p_count/structured_transform2/MapPartitionsRDD_86&quot;\\n  attr {\\n    key: &quot;name&quot;\\n    value {\\n      s: &quot;MapPartitionsRDD&quot;\\n    }\\n  }\\n}\\nnode {\\n  name: &quot;p_count/structured_transform2/MapPartitionsRDD_88&quot;\\n  op: &quot;MapPartitionsRDD&quot;\\n  input: &quot;p_count/structured_transform2/MapPartitionsRDD_87&quot;\\n  attr {\\n    key: &quot;name&quot;\\n    value {\\n      s: &quot;MapPartitionsRDD&quot;\\n    }\\n  }\\n}\\nnode {\\n  name: &quot;p_count/structured_transform2/MapPartitionsRDD_89&quot;\\n  op: &quot;MapPartitionsRDD&quot;\\n  input: &quot;p_count/structured_transform2/MapPartitionsRDD_88&quot;\\n  attr {\\n    key: &quot;name&quot;\\n    value {\\n      s: &quot;MapPartitionsRDD&quot;\\n    }\\n  }\\n}\\nnode {\\n  name: &quot;p_count/count3/MapPartitionsRDD_90&quot;\\n  op: &quot;MapPartitionsRDD&quot;\\n  input: &quot;p_count/structured_transform2/MapPartitionsRDD_88&quot;\\n  input: &quot;^p_count/structured_transform2/MapPartitionsRDD_89&quot;\\n  attr {\\n    key: &quot;name&quot;\\n    value {\\n      s: &quot;MapPartitionsRDD&quot;\\n    }\\n  }\\n}\\nnode {\\n  name: &quot;p_count/count3/MapPartitionsRDD_91&quot;\\n  op: &quot;MapPartitionsRDD&quot;\\n  input: &quot;p_count/count3/MapPartitionsRDD_90&quot;\\n  attr {\\n    key: &quot;name&quot;\\n    value {\\n      s: &quot;MapPartitionsRDD&quot;\\n    }\\n  }\\n}\\nnode {\\n  name: &quot;p_count/count3/MapPartitionsRDD_92&quot;\\n  op: &quot;MapPartitionsRDD&quot;\\n  input: &quot;p_count/count3/MapPartitionsRDD_91&quot;\\n  attr {\\n    key: &quot;name&quot;\\n    value {\\n      s: &quot;MapPartitionsRDD&quot;\\n    }\\n  }\\n}\\nnode {\\n  name: &quot;p_count/count3/ShuffledRowRDD_93&quot;\\n  op: &quot;ShuffledRowRDD&quot;\\n  input: &quot;p_count/count3/MapPartitionsRDD_92&quot;\\n  attr {\\n    key: &quot;name&quot;\\n    value {\\n      s: &quot;ShuffledRowRDD&quot;\\n    }\\n  }\\n}\\nnode {\\n  name: &quot;p_count/count3/MapPartitionsRDD_94&quot;\\n  op: &quot;MapPartitionsRDD&quot;\\n  input: &quot;p_count/count3/ShuffledRowRDD_93&quot;\\n  attr {\\n    key: &quot;name&quot;\\n    value {\\n      s: &quot;MapPartitionsRDD&quot;\\n    }\\n  }\\n}\\nnode {\\n  name: &quot;p_count/count3/MapPartitionsRDD_95&quot;\\n  op: &quot;MapPartitionsRDD&quot;\\n  input: &quot;p_count/count3/MapPartitionsRDD_94&quot;\\n  attr {\\n    key: &quot;name&quot;\\n    value {\\n      s: &quot;MapPartitionsRDD&quot;\\n    }\\n  }\\n}\\nnode {\\n  name: &quot;p_count/count3/MapPartitionsRDD_96&quot;\\n  op: &quot;MapPartitionsRDD&quot;\\n  input: &quot;p_count/count3/MapPartitionsRDD_95&quot;\\n  attr {\\n    key: &quot;name&quot;\\n    value {\\n      s: &quot;MapPartitionsRDD&quot;\\n    }\\n  }\\n}\\nnode {\\n  name: &quot;p_count/count3/MapPartitionsRDD_97&quot;\\n  op: &quot;MapPartitionsRDD&quot;\\n  input: &quot;p_count/count3/MapPartitionsRDD_96&quot;\\n  attr {\\n    key: &quot;name&quot;\\n    value {\\n      s: &quot;MapPartitionsRDD&quot;\\n    }\\n  }\\n}\\nnode {\\n  name: &quot;p_count/count3/MapPartitionsRDD_98&quot;\\n  op: &quot;MapPartitionsRDD&quot;\\n  input: &quot;p_count/count3/MapPartitionsRDD_97&quot;\\n  attr {\\n    key: &quot;name&quot;\\n    value {\\n      s: &quot;MapPartitionsRDD&quot;\\n    }\\n  }\\n}\\nnode {\\n  name: &quot;p_count/agg_count/MapPartitionsRDD_99&quot;\\n  op: &quot;MapPartitionsRDD&quot;\\n  input: &quot;p_count/count3/MapPartitionsRDD_97&quot;\\n  input: &quot;^p_count/count3/MapPartitionsRDD_98&quot;\\n  attr {\\n    key: &quot;name&quot;\\n    value {\\n      s: &quot;MapPartitionsRDD&quot;\\n    }\\n  }\\n}\\nnode {\\n  name: &quot;p_count/agg_count/MapPartitionsRDD_100&quot;\\n  op: &quot;MapPartitionsRDD&quot;\\n  input: &quot;p_count/agg_count/MapPartitionsRDD_99&quot;\\n  attr {\\n    key: &quot;name&quot;\\n    value {\\n      s: &quot;MapPartitionsRDD&quot;\\n    }\\n  }\\n}\\nnode {\\n  name: &quot;p_count/agg_count/MapPartitionsRDD_101&quot;\\n  op: &quot;MapPartitionsRDD&quot;\\n  input: &quot;p_count/agg_count/MapPartitionsRDD_100&quot;\\n  attr {\\n    key: &quot;name&quot;\\n    value {\\n      s: &quot;MapPartitionsRDD&quot;\\n    }\\n  }\\n}\\nnode {\\n  name: &quot;p_count/agg_count/MapPartitionsRDD_102&quot;\\n  op: &quot;MapPartitionsRDD&quot;\\n  input: &quot;p_count/agg_count/MapPartitionsRDD_101&quot;\\n  attr {\\n    key: &quot;name&quot;\\n    value {\\n      s: &quot;MapPartitionsRDD&quot;\\n    }\\n  }\\n}\\nnode {\\n  name: &quot;p_count/agg_count/MapPartitionsRDD_103&quot;\\n  op: &quot;MapPartitionsRDD&quot;\\n  input: &quot;p_count/agg_count/MapPartitionsRDD_102&quot;\\n  attr {\\n    key: &quot;name&quot;\\n    value {\\n      s: &quot;MapPartitionsRDD&quot;\\n    }\\n  }\\n}\\nnode {\\n  name: &quot;p_count/agg_count/MapPartitionsRDD_104&quot;\\n  op: &quot;MapPartitionsRDD&quot;\\n  input: &quot;p_count/agg_count/MapPartitionsRDD_103&quot;\\n  attr {\\n    key: &quot;name&quot;\\n    value {\\n      s: &quot;MapPartitionsRDD&quot;\\n    }\\n  }\\n}\\nnode {\\n  name: &quot;p_count/agg_post5/MapPartitionsRDD_105&quot;\\n  op: &quot;MapPartitionsRDD&quot;\\n  input: &quot;p_count/agg_count/MapPartitionsRDD_103&quot;\\n  input: &quot;^p_count/agg_count/MapPartitionsRDD_104&quot;\\n  attr {\\n    key: &quot;name&quot;\\n    value {\\n      s: &quot;MapPartitionsRDD&quot;\\n    }\\n  }\\n}\\nnode {\\n  name: &quot;p_count/agg_post5/MapPartitionsRDD_106&quot;\\n  op: &quot;MapPartitionsRDD&quot;\\n  input: &quot;p_count/agg_post5/MapPartitionsRDD_105&quot;\\n  attr {\\n    key: &quot;name&quot;\\n    value {\\n      s: &quot;MapPartitionsRDD&quot;\\n    }\\n  }\\n}\\nnode {\\n  name: &quot;p_count/agg_post5/MapPartitionsRDD_107&quot;\\n  op: &quot;MapPartitionsRDD&quot;\\n  input: &quot;p_count/agg_post5/MapPartitionsRDD_106&quot;\\n  attr {\\n    key: &quot;name&quot;\\n    value {\\n      s: &quot;MapPartitionsRDD&quot;\\n    }\\n  }\\n}\\nnode {\\n  name: &quot;p_count/agg_post5/MapPartitionsRDD_108&quot;\\n  op: &quot;MapPartitionsRDD&quot;\\n  input: &quot;p_count/agg_post5/MapPartitionsRDD_107&quot;\\n  attr {\\n    key: &quot;name&quot;\\n    value {\\n      s: &quot;MapPartitionsRDD&quot;\\n    }\\n  }\\n}\\nnode {\\n  name: &quot;p_count/agg_post5/MapPartitionsRDD_109&quot;\\n  op: &quot;MapPartitionsRDD&quot;\\n  input: &quot;p_count/agg_post5/MapPartitionsRDD_108&quot;\\n  attr {\\n    key: &quot;name&quot;\\n    value {\\n      s: &quot;MapPartitionsRDD&quot;\\n    }\\n  }\\n}\\nnode {\\n  name: &quot;p_count/agg_post5/MapPartitionsRDD_110&quot;\\n  op: &quot;MapPartitionsRDD&quot;\\n  input: &quot;p_count/agg_post5/MapPartitionsRDD_109&quot;\\n  attr {\\n    key: &quot;name&quot;\\n    value {\\n      s: &quot;MapPartitionsRDD&quot;\\n    }\\n  }\\n}\\nnode {\\n  name: &quot;p_count/filter_pre6/MapPartitionsRDD_111&quot;\\n  op: &quot;MapPartitionsRDD&quot;\\n  input: &quot;p_count/agg_post5/MapPartitionsRDD_109&quot;\\n  input: &quot;^p_count/agg_post5/MapPartitionsRDD_110&quot;\\n  attr {\\n    key: &quot;name&quot;\\n    value {\\n      s: &quot;MapPartitionsRDD&quot;\\n    }\\n  }\\n}\\nnode {\\n  name: &quot;p_count/filter_pre6/MapPartitionsRDD_112&quot;\\n  op: &quot;MapPartitionsRDD&quot;\\n  input: &quot;p_count/filter_pre6/MapPartitionsRDD_111&quot;\\n  attr {\\n    key: &quot;name&quot;\\n    value {\\n      s: &quot;MapPartitionsRDD&quot;\\n    }\\n  }\\n}\\nnode {\\n  name: &quot;p_count/filter_pre6/MapPartitionsRDD_113&quot;\\n  op: &quot;MapPartitionsRDD&quot;\\n  input: &quot;p_count/filter_pre6/MapPartitionsRDD_112&quot;\\n  attr {\\n    key: &quot;name&quot;\\n    value {\\n      s: &quot;MapPartitionsRDD&quot;\\n    }\\n  }\\n}\\nnode {\\n  name: &quot;p_count/filter_pre6/MapPartitionsRDD_114&quot;\\n  op: &quot;MapPartitionsRDD&quot;\\n  input: &quot;p_count/filter_pre6/MapPartitionsRDD_113&quot;\\n  attr {\\n    key: &quot;name&quot;\\n    value {\\n      s: &quot;MapPartitionsRDD&quot;\\n    }\\n  }\\n}\\nnode {\\n  name: &quot;p_count/filter_pre6/MapPartitionsRDD_115&quot;\\n  op: &quot;MapPartitionsRDD&quot;\\n  input: &quot;p_count/filter_pre6/MapPartitionsRDD_114&quot;\\n  attr {\\n    key: &quot;name&quot;\\n    value {\\n      s: &quot;MapPartitionsRDD&quot;\\n    }\\n  }\\n}\\nnode {\\n  name: &quot;p_count/filter_pre6/MapPartitionsRDD_116&quot;\\n  op: &quot;MapPartitionsRDD&quot;\\n  input: &quot;p_count/filter_pre6/MapPartitionsRDD_115&quot;\\n  attr {\\n    key: &quot;name&quot;\\n    value {\\n      s: &quot;MapPartitionsRDD&quot;\\n    }\\n  }\\n}\\nnode {\\n  name: &quot;p_count/filter7_kagg_filter/MapPartitionsRDD_117&quot;\\n  op: &quot;MapPartitionsRDD&quot;\\n  input: &quot;p_count/filter_pre6/MapPartitionsRDD_115&quot;\\n  input: &quot;^p_count/filter_pre6/MapPartitionsRDD_116&quot;\\n  attr {\\n    key: &quot;name&quot;\\n    value {\\n      s: &quot;MapPartitionsRDD&quot;\\n    }\\n  }\\n}\\nnode {\\n  name: &quot;p_count/filter7_kagg_filter/MapPartitionsRDD_118&quot;\\n  op: &quot;MapPartitionsRDD&quot;\\n  input: &quot;p_count/filter7_kagg_filter/MapPartitionsRDD_117&quot;\\n  attr {\\n    key: &quot;name&quot;\\n    value {\\n      s: &quot;MapPartitionsRDD&quot;\\n    }\\n  }\\n}\\nnode {\\n  name: &quot;p_count/filter7_kagg_filter/MapPartitionsRDD_119&quot;\\n  op: &quot;MapPartitionsRDD&quot;\\n  input: &quot;p_count/filter7_kagg_filter/MapPartitionsRDD_118&quot;\\n  attr {\\n    key: &quot;name&quot;\\n    value {\\n      s: &quot;MapPartitionsRDD&quot;\\n    }\\n  }\\n}\\nnode {\\n  name: &quot;p_count/filter7_kagg_filter/MapPartitionsRDD_120&quot;\\n  op: &quot;MapPartitionsRDD&quot;\\n  input: &quot;p_count/filter7_kagg_filter/MapPartitionsRDD_119&quot;\\n  attr {\\n    key: &quot;name&quot;\\n    value {\\n      s: &quot;MapPartitionsRDD&quot;\\n    }\\n  }\\n}\\nnode {\\n  name: &quot;p_count/filter7_kagg_filter/MapPartitionsRDD_121&quot;\\n  op: &quot;MapPartitionsRDD&quot;\\n  input: &quot;p_count/filter7_kagg_filter/MapPartitionsRDD_120&quot;\\n  attr {\\n    key: &quot;name&quot;\\n    value {\\n      s: &quot;MapPartitionsRDD&quot;\\n    }\\n  }\\n}\\nnode {\\n  name: &quot;p_count/filter7_kagg_filter/MapPartitionsRDD_122&quot;\\n  op: &quot;MapPartitionsRDD&quot;\\n  input: &quot;p_count/filter7_kagg_filter/MapPartitionsRDD_121&quot;\\n  attr {\\n    key: &quot;name&quot;\\n    value {\\n      s: &quot;MapPartitionsRDD&quot;\\n    }\\n  }\\n}\\nnode {\\n  name: &quot;p_count/filter7/MapPartitionsRDD_123&quot;\\n  op: &quot;MapPartitionsRDD&quot;\\n  input: &quot;p_count/filter7_kagg_filter/MapPartitionsRDD_121&quot;\\n  input: &quot;^p_count/filter7_kagg_filter/MapPartitionsRDD_122&quot;\\n  attr {\\n    key: &quot;name&quot;\\n    value {\\n      s: &quot;MapPartitionsRDD&quot;\\n    }\\n  }\\n}\\nnode {\\n  name: &quot;p_count/filter7/MapPartitionsRDD_124&quot;\\n  op: &quot;MapPartitionsRDD&quot;\\n  input: &quot;p_count/filter7/MapPartitionsRDD_123&quot;\\n  attr {\\n    key: &quot;name&quot;\\n    value {\\n      s: &quot;MapPartitionsRDD&quot;\\n    }\\n  }\\n}\\nnode {\\n  name: &quot;p_count/filter7/MapPartitionsRDD_125&quot;\\n  op: &quot;MapPartitionsRDD&quot;\\n  input: &quot;p_count/filter7/MapPartitionsRDD_124&quot;\\n  attr {\\n    key: &quot;name&quot;\\n    value {\\n      s: &quot;MapPartitionsRDD&quot;\\n    }\\n  }\\n}\\nnode {\\n  name: &quot;p_count/filter7/MapPartitionsRDD_126&quot;\\n  op: &quot;MapPartitionsRDD&quot;\\n  input: &quot;p_count/filter7/MapPartitionsRDD_125&quot;\\n  attr {\\n    key: &quot;name&quot;\\n    value {\\n      s: &quot;MapPartitionsRDD&quot;\\n    }\\n  }\\n}\\nnode {\\n  name: &quot;p_count/filter7/MapPartitionsRDD_127&quot;\\n  op: &quot;MapPartitionsRDD&quot;\\n  input: &quot;p_count/filter7/MapPartitionsRDD_126&quot;\\n  attr {\\n    key: &quot;name&quot;\\n    value {\\n      s: &quot;MapPartitionsRDD&quot;\\n    }\\n  }\\n}\\nnode {\\n  name: &quot;p_count/filter7/MapPartitionsRDD_128&quot;\\n  op: &quot;MapPartitionsRDD&quot;\\n  input: &quot;p_count/filter7/MapPartitionsRDD_127&quot;\\n  attr {\\n    key: &quot;name&quot;\\n    value {\\n      s: &quot;MapPartitionsRDD&quot;\\n    }\\n  }\\n}\\nnode {\\n  name: &quot;p_count/paradoxical_employees/MapPartitionsRDD_129&quot;\\n  op: &quot;MapPartitionsRDD&quot;\\n  input: &quot;p_count/filter7/MapPartitionsRDD_127&quot;\\n  input: &quot;^p_count/filter7/MapPartitionsRDD_128&quot;\\n  attr {\\n    key: &quot;name&quot;\\n    value {\\n      s: &quot;MapPartitionsRDD&quot;\\n    }\\n  }\\n}\\nnode {\\n  name: &quot;p_count/paradoxical_employees/MapPartitionsRDD_130&quot;\\n  op: &quot;MapPartitionsRDD&quot;\\n  input: &quot;p_count/paradoxical_employees/MapPartitionsRDD_129&quot;\\n  attr {\\n    key: &quot;name&quot;\\n    value {\\n      s: &quot;MapPartitionsRDD&quot;\\n    }\\n  }\\n}\\nnode {\\n  name: &quot;p_count/paradoxical_employees/MapPartitionsRDD_131&quot;\\n  op: &quot;MapPartitionsRDD&quot;\\n  input: &quot;p_count/paradoxical_employees/MapPartitionsRDD_130&quot;\\n  attr {\\n    key: &quot;name&quot;\\n    value {\\n      s: &quot;MapPartitionsRDD&quot;\\n    }\\n  }\\n}\\nnode {\\n  name: &quot;p_count/paradoxical_employees/ShuffledRowRDD_132&quot;\\n  op: &quot;ShuffledRowRDD&quot;\\n  input: &quot;p_count/paradoxical_employees/MapPartitionsRDD_131&quot;\\n  attr {\\n    key: &quot;name&quot;\\n    value {\\n      s: &quot;ShuffledRowRDD&quot;\\n    }\\n  }\\n}\\nnode {\\n  name: &quot;p_count/paradoxical_employees/MapPartitionsRDD_133&quot;\\n  op: &quot;MapPartitionsRDD&quot;\\n  input: &quot;p_count/paradoxical_employees/ShuffledRowRDD_132&quot;\\n  attr {\\n    key: &quot;name&quot;\\n    value {\\n      s: &quot;MapPartitionsRDD&quot;\\n    }\\n  }\\n}\\nnode {\\n  name: &quot;p_count/paradoxical_employees/MapPartitionsRDD_134&quot;\\n  op: &quot;MapPartitionsRDD&quot;\\n  input: &quot;p_count/paradoxical_employees/MapPartitionsRDD_133&quot;\\n  attr {\\n    key: &quot;name&quot;\\n    value {\\n      s: &quot;MapPartitionsRDD&quot;\\n    }\\n  }\\n}\\nnode {\\n  name: &quot;p_count/paradoxical_employees/MapPartitionsRDD_135&quot;\\n  op: &quot;MapPartitionsRDD&quot;\\n  input: &quot;p_count/paradoxical_employees/MapPartitionsRDD_134&quot;\\n  attr {\\n    key: &quot;name&quot;\\n    value {\\n      s: &quot;MapPartitionsRDD&quot;\\n    }\\n  }\\n}\\nnode {\\n  name: &quot;p_count/paradoxical_employees/MapPartitionsRDD_136&quot;\\n  op: &quot;MapPartitionsRDD&quot;\\n  input: &quot;p_count/paradoxical_employees/MapPartitionsRDD_135&quot;\\n  attr {\\n    key: &quot;name&quot;\\n    value {\\n      s: &quot;MapPartitionsRDD&quot;\\n    }\\n  }\\n}\\nnode {\\n  name: &quot;p_count/paradoxical_employees/MapPartitionsRDD_137&quot;\\n  op: &quot;MapPartitionsRDD&quot;\\n  input: &quot;p_count/paradoxical_employees/MapPartitionsRDD_136&quot;\\n  attr {\\n    key: &quot;name&quot;\\n    value {\\n      s: &quot;MapPartitionsRDD&quot;\\n    }\\n  }\\n}\\nnode {\\n  name: &quot;shuffle9/MapPartitionsRDD_138&quot;\\n  op: &quot;MapPartitionsRDD&quot;\\n  input: &quot;p_count/paradoxical_employees/MapPartitionsRDD_136&quot;\\n  input: &quot;^p_count/paradoxical_employees/MapPartitionsRDD_137&quot;\\n  attr {\\n    key: &quot;name&quot;\\n    value {\\n      s: &quot;MapPartitionsRDD&quot;\\n    }\\n  }\\n}\\nnode {\\n  name: &quot;shuffle9/MapPartitionsRDD_139&quot;\\n  op: &quot;MapPartitionsRDD&quot;\\n  input: &quot;shuffle9/MapPartitionsRDD_138&quot;\\n  attr {\\n    key: &quot;name&quot;\\n    value {\\n      s: &quot;MapPartitionsRDD&quot;\\n    }\\n  }\\n}\\nnode {\\n  name: &quot;shuffle9/MapPartitionsRDD_140&quot;\\n  op: &quot;MapPartitionsRDD&quot;\\n  input: &quot;shuffle9/MapPartitionsRDD_139&quot;\\n  attr {\\n    key: &quot;name&quot;\\n    value {\\n      s: &quot;MapPartitionsRDD&quot;\\n    }\\n  }\\n}\\nnode {\\n  name: &quot;shuffle9/MapPartitionsRDD_141&quot;\\n  op: &quot;MapPartitionsRDD&quot;\\n  input: &quot;shuffle9/MapPartitionsRDD_140&quot;\\n  attr {\\n    key: &quot;name&quot;\\n    value {\\n      s: &quot;MapPartitionsRDD&quot;\\n    }\\n  }\\n}\\nnode {\\n  name: &quot;shuffle9/MapPartitionsRDD_142&quot;\\n  op: &quot;MapPartitionsRDD&quot;\\n  input: &quot;shuffle9/MapPartitionsRDD_141&quot;\\n  attr {\\n    key: &quot;name&quot;\\n    value {\\n      s: &quot;MapPartitionsRDD&quot;\\n    }\\n  }\\n}\\nnode {\\n  name: &quot;shuffle9/MapPartitionsRDD_143&quot;\\n  op: &quot;MapPartitionsRDD&quot;\\n  input: &quot;shuffle9/MapPartitionsRDD_142&quot;\\n  attr {\\n    key: &quot;name&quot;\\n    value {\\n      s: &quot;MapPartitionsRDD&quot;\\n    }\\n  }\\n}\\nnode {\\n  name: &quot;agg_post10/MapPartitionsRDD_144&quot;\\n  op: &quot;MapPartitionsRDD&quot;\\n  input: &quot;shuffle9/MapPartitionsRDD_142&quot;\\n  input: &quot;^shuffle9/MapPartitionsRDD_143&quot;\\n  attr {\\n    key: &quot;name&quot;\\n    value {\\n      s: &quot;MapPartitionsRDD&quot;\\n    }\\n  }\\n}\\nnode {\\n  name: &quot;agg_post10/MapPartitionsRDD_145&quot;\\n  op: &quot;MapPartitionsRDD&quot;\\n  input: &quot;agg_post10/MapPartitionsRDD_144&quot;\\n  attr {\\n    key: &quot;name&quot;\\n    value {\\n      s: &quot;MapPartitionsRDD&quot;\\n    }\\n  }\\n}\\nnode {\\n  name: &quot;agg_post10/MapPartitionsRDD_146&quot;\\n  op: &quot;MapPartitionsRDD&quot;\\n  input: &quot;agg_post10/MapPartitionsRDD_145&quot;\\n  attr {\\n    key: &quot;name&quot;\\n    value {\\n      s: &quot;MapPartitionsRDD&quot;\\n    }\\n  }\\n}\\nnode {\\n  name: &quot;agg_post10/MapPartitionsRDD_147&quot;\\n  op: &quot;MapPartitionsRDD&quot;\\n  input: &quot;agg_post10/MapPartitionsRDD_146&quot;\\n  attr {\\n    key: &quot;name&quot;\\n    value {\\n      s: &quot;MapPartitionsRDD&quot;\\n    }\\n  }\\n}\\nnode {\\n  name: &quot;agg_post10/MapPartitionsRDD_148&quot;\\n  op: &quot;MapPartitionsRDD&quot;\\n  input: &quot;agg_post10/MapPartitionsRDD_147&quot;\\n  attr {\\n    key: &quot;name&quot;\\n    value {\\n      s: &quot;MapPartitionsRDD&quot;\\n    }\\n  }\\n}\\nnode {\\n  name: &quot;agg_post10/MapPartitionsRDD_149&quot;\\n  op: &quot;MapPartitionsRDD&quot;\\n  input: &quot;agg_post10/MapPartitionsRDD_148&quot;\\n  attr {\\n    key: &quot;name&quot;\\n    value {\\n      s: &quot;MapPartitionsRDD&quot;\\n    }\\n  }\\n}\\nnode {\\n  name: &quot;collect_list11/MapPartitionsRDD_150&quot;\\n  op: &quot;MapPartitionsRDD&quot;\\n  input: &quot;agg_post10/MapPartitionsRDD_148&quot;\\n  input: &quot;^agg_post10/MapPartitionsRDD_149&quot;\\n  attr {\\n    key: &quot;name&quot;\\n    value {\\n      s: &quot;MapPartitionsRDD&quot;\\n    }\\n  }\\n}\\nnode {\\n  name: &quot;collect_list11/MapPartitionsRDD_151&quot;\\n  op: &quot;MapPartitionsRDD&quot;\\n  input: &quot;collect_list11/MapPartitionsRDD_150&quot;\\n  attr {\\n    key: &quot;name&quot;\\n    value {\\n      s: &quot;MapPartitionsRDD&quot;\\n    }\\n  }\\n}\\nnode {\\n  name: &quot;collect_list11/ShuffledRowRDD_152&quot;\\n  op: &quot;ShuffledRowRDD&quot;\\n  input: &quot;collect_list11/MapPartitionsRDD_151&quot;\\n  attr {\\n    key: &quot;name&quot;\\n    value {\\n      s: &quot;ShuffledRowRDD&quot;\\n    }\\n  }\\n}\\nnode {\\n  name: &quot;collect_list11/MapPartitionsRDD_153&quot;\\n  op: &quot;MapPartitionsRDD&quot;\\n  input: &quot;collect_list11/ShuffledRowRDD_152&quot;\\n  attr {\\n    key: &quot;name&quot;\\n    value {\\n      s: &quot;MapPartitionsRDD&quot;\\n    }\\n  }\\n}\\nnode {\\n  name: &quot;collect_list11/MapPartitionsRDD_154&quot;\\n  op: &quot;MapPartitionsRDD&quot;\\n  input: &quot;collect_list11/MapPartitionsRDD_153&quot;\\n  attr {\\n    key: &quot;name&quot;\\n    value {\\n      s: &quot;MapPartitionsRDD&quot;\\n    }\\n  }\\n}\\nnode {\\n  name: &quot;collect_list11/MapPartitionsRDD_155&quot;\\n  op: &quot;MapPartitionsRDD&quot;\\n  input: &quot;collect_list11/MapPartitionsRDD_154&quot;\\n  attr {\\n    key: &quot;name&quot;\\n    value {\\n      s: &quot;MapPartitionsRDD&quot;\\n    }\\n  }\\n}\\nnode {\\n  name: &quot;collect_list11/MapPartitionsRDD_156&quot;\\n  op: &quot;MapPartitionsRDD&quot;\\n  input: &quot;collect_list11/MapPartitionsRDD_155&quot;\\n  attr {\\n    key: &quot;name&quot;\\n    value {\\n      s: &quot;MapPartitionsRDD&quot;\\n    }\\n  }\\n}\\nnode {\\n  name: &quot;collect_list11/MapPartitionsRDD_157&quot;\\n  op: &quot;MapPartitionsRDD&quot;\\n  input: &quot;collect_list11/MapPartitionsRDD_156&quot;\\n  attr {\\n    key: &quot;name&quot;\\n    value {\\n      s: &quot;MapPartitionsRDD&quot;\\n    }\\n  }\\n}\\nnode {\\n  name: &quot;collect_list11/MapPartitionsRDD_158&quot;\\n  op: &quot;MapPartitionsRDD&quot;\\n  input: &quot;collect_list11/MapPartitionsRDD_157&quot;\\n  attr {\\n    key: &quot;name&quot;\\n    value {\\n      s: &quot;MapPartitionsRDD&quot;\\n    }\\n  }\\n}\\n';\n",
       "          }\n",
       "        </script>\n",
       "        <link rel=&quot;import&quot; href=&quot;https://tensorboard.appspot.com/tf-graph-basic.build.html&quot; onload=load()>\n",
       "        <div style=&quot;height:600px&quot;>\n",
       "          <tf-graph-basic id=&quot;graph0.842413256942418&quot;></tf-graph-basic>\n",
       "        </div>\n",
       "    \"></iframe>\n",
       "    "
      ],
      "text/plain": [
       "<IPython.core.display.HTML object>"
      ]
     },
     "metadata": {},
     "output_type": "display_data"
    }
   ],
   "source": [
    "show_phase(comp, \"rdd\")"
   ]
  },
  {
   "cell_type": "code",
   "execution_count": 16,
   "metadata": {
    "scrolled": true
   },
   "outputs": [],
   "source": [
    "comp.dump_profile(\"/Users/tjhunter/Downloads/test-2.json\")"
   ]
  },
  {
   "cell_type": "code",
   "execution_count": null,
   "metadata": {},
   "outputs": [],
   "source": []
  },
  {
   "cell_type": "code",
   "execution_count": null,
   "metadata": {},
   "outputs": [],
   "source": []
  },
  {
   "cell_type": "code",
   "execution_count": null,
   "metadata": {},
   "outputs": [],
   "source": []
  },
  {
   "cell_type": "code",
   "execution_count": null,
   "metadata": {},
   "outputs": [],
   "source": []
  }
 ],
 "metadata": {
  "kernelspec": {
   "display_name": "Python 3",
   "language": "python",
   "name": "python3"
  },
  "language_info": {
   "codemirror_mode": {
    "name": "ipython",
    "version": 3
   },
   "file_extension": ".py",
   "mimetype": "text/x-python",
   "name": "python",
   "nbconvert_exporter": "python",
   "pygments_lexer": "ipython3",
   "version": "3.5.2"
  }
 },
 "nbformat": 4,
 "nbformat_minor": 2
}
