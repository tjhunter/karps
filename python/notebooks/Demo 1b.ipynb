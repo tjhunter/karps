{
 "cells": [
  {
   "cell_type": "code",
   "execution_count": 1,
   "metadata": {
    "collapsed": true
   },
   "outputs": [],
   "source": [
    "import karps as ks\n",
    "import karps.functions as f\n",
    "from karps.display import show_phase"
   ]
  },
  {
   "cell_type": "code",
   "execution_count": 2,
   "metadata": {},
   "outputs": [
    {
     "data": {
      "text/plain": [
       "/my_input@org.spark.DistributedLiteral:double"
      ]
     },
     "execution_count": 2,
     "metadata": {},
     "output_type": "execute_result"
    }
   ],
   "source": [
    "df = ks.dataframe([1.0, 2.0], name=\"my_input\")\n",
    "df"
   ]
  },
  {
   "cell_type": "code",
   "execution_count": 3,
   "metadata": {
    "collapsed": true
   },
   "outputs": [],
   "source": [
    "def my_mean(df):\n",
    "    cached_df = f.autocache(df)\n",
    "    sum = f.sum(cached_df)\n",
    "    count = f.as_double(f.count(cached_df))\n",
    "    return sum / count"
   ]
  },
  {
   "cell_type": "code",
   "execution_count": 4,
   "metadata": {},
   "outputs": [
    {
     "data": {
      "text/plain": [
       "/divide_4!org.spark.LocalStructuredTransform:double"
      ]
     },
     "execution_count": 4,
     "metadata": {},
     "output_type": "execute_result"
    }
   ],
   "source": [
    "the_mean = my_mean(df)\n",
    "the_mean"
   ]
  },
  {
   "cell_type": "code",
   "execution_count": 11,
   "metadata": {},
   "outputs": [
    {
     "data": {
      "text/plain": [
       "(double, double_value: 1.5\n",
       ")"
      ]
     },
     "execution_count": 11,
     "metadata": {},
     "output_type": "execute_result"
    }
   ],
   "source": []
  },
  {
   "cell_type": "code",
   "execution_count": null,
   "metadata": {
    "collapsed": true
   },
   "outputs": [],
   "source": []
  },
  {
   "cell_type": "code",
   "execution_count": 5,
   "metadata": {
    "collapsed": true
   },
   "outputs": [],
   "source": [
    "s = ks.session(\"test3\")\n",
    "comp = s.compute(the_mean)"
   ]
  },
  {
   "cell_type": "code",
   "execution_count": 6,
   "metadata": {},
   "outputs": [
    {
     "data": {
      "text/html": [
       "\n",
       "        <iframe seamless style=\"width:1000px;height:620px;border:0\" srcdoc=\"\n",
       "        <script src=&quot;//cdnjs.cloudflare.com/ajax/libs/polymer/0.3.3/platform.js&quot;></script>\n",
       "        <script>\n",
       "          function load() {\n",
       "            document.getElementById(&quot;graph0.22160915441139806&quot;).pbtxt = 'node {\\n  name: &quot;my_input&quot;\\n  op: &quot;org.spark.DistributedLiteral&quot;\\n  device: &quot;/spark:0&quot;\\n  attr {\\n    key: &quot;extra&quot;\\n    value {\\n      s: &quot;cell {\\\\n  array_value {\\\\n    values { double_value: 1.0 } values { double_value: 2.0 }\\\\n  }\\\\n}\\\\ncell_type { array_type { basic_type: DOUBLE } }&quot;\\n    }\\n  }\\n  attr {\\n    key: &quot;type&quot;\\n    value {\\n      s: &quot;double&quot;\\n    }\\n  }\\n}\\nnode {\\n  name: &quot;autocache_0&quot;\\n  op: &quot;org.spark.Autocache&quot;\\n  input: &quot;my_input&quot;\\n  device: &quot;/spark:0&quot;\\n  attr {\\n    key: &quot;extra&quot;\\n    value {\\n      s: &quot;&quot;\\n    }\\n  }\\n  attr {\\n    key: &quot;type&quot;\\n    value {\\n      s: &quot;double&quot;\\n    }\\n  }\\n}\\nnode {\\n  name: &quot;sum_1&quot;\\n  op: &quot;org.spark.StructuredReduce&quot;\\n  input: &quot;autocache_0&quot;\\n  device: &quot;/spark:0&quot;\\n  attr {\\n    key: &quot;extra&quot;\\n    value {\\n      s: &quot;agg_op {\\\\n  op {\\\\n    function_name: \\\\&quot;sum\\\\&quot;\\\\n    inputs { }\\\\n    expected_type { basic_type: DOUBLE }\\\\n  }\\\\n}&quot;\\n    }\\n  }\\n  attr {\\n    key: &quot;type&quot;\\n    value {\\n      s: &quot;double&quot;\\n    }\\n  }\\n}\\nnode {\\n  name: &quot;count_2&quot;\\n  op: &quot;org.spark.StructuredReduce&quot;\\n  input: &quot;autocache_0&quot;\\n  device: &quot;/spark:0&quot;\\n  attr {\\n    key: &quot;extra&quot;\\n    value {\\n      s: &quot;agg_op {\\\\n  op {\\\\n    function_name: \\\\&quot;count\\\\&quot; inputs { } expected_type { basic_type: INT }\\\\n  }\\\\n}&quot;\\n    }\\n  }\\n  attr {\\n    key: &quot;type&quot;\\n    value {\\n      s: &quot;int&quot;\\n    }\\n  }\\n}\\nnode {\\n  name: &quot;cast_double_3&quot;\\n  op: &quot;org.spark.LocalStructuredTransform&quot;\\n  input: &quot;count_2&quot;\\n  device: &quot;/spark:0&quot;\\n  attr {\\n    key: &quot;extra&quot;\\n    value {\\n      s: &quot;col_op {\\\\n  function {\\\\n    function_name: \\\\&quot;cast_double\\\\&quot;\\\\n    inputs { broadcast { } }\\\\n    expected_type { basic_type: DOUBLE }\\\\n  }\\\\n}&quot;\\n    }\\n  }\\n  attr {\\n    key: &quot;type&quot;\\n    value {\\n      s: &quot;double&quot;\\n    }\\n  }\\n}\\nnode {\\n  name: &quot;divide_4&quot;\\n  op: &quot;org.spark.LocalStructuredTransform&quot;\\n  input: &quot;sum_1&quot;\\n  input: &quot;cast_double_3&quot;\\n  device: &quot;/spark:0&quot;\\n  attr {\\n    key: &quot;extra&quot;\\n    value {\\n      s: &quot;col_op {\\\\n  function {\\\\n    function_name: \\\\&quot;divide\\\\&quot;\\\\n    inputs { broadcast { } }\\\\n    inputs { broadcast { observable_index: 1 } }\\\\n    expected_type { basic_type: DOUBLE }\\\\n  }\\\\n}&quot;\\n    }\\n  }\\n  attr {\\n    key: &quot;type&quot;\\n    value {\\n      s: &quot;double&quot;\\n    }\\n  }\\n}\\n';\n",
       "          }\n",
       "        </script>\n",
       "        <link rel=&quot;import&quot; href=&quot;https://tensorboard.appspot.com/tf-graph-basic.build.html&quot; onload=load()>\n",
       "        <div style=&quot;height:600px&quot;>\n",
       "          <tf-graph-basic id=&quot;graph0.22160915441139806&quot;></tf-graph-basic>\n",
       "        </div>\n",
       "    \"></iframe>\n",
       "    "
      ],
      "text/plain": [
       "<IPython.core.display.HTML object>"
      ]
     },
     "metadata": {},
     "output_type": "display_data"
    }
   ],
   "source": [
    "show_phase(comp, \"initial\")"
   ]
  },
  {
   "cell_type": "code",
   "execution_count": 7,
   "metadata": {},
   "outputs": [
    {
     "data": {
      "text/html": [
       "\n",
       "        <iframe seamless style=\"width:1000px;height:620px;border:0\" srcdoc=\"\n",
       "        <script src=&quot;//cdnjs.cloudflare.com/ajax/libs/polymer/0.3.3/platform.js&quot;></script>\n",
       "        <script>\n",
       "          function load() {\n",
       "            document.getElementById(&quot;graph0.0972839275630697&quot;).pbtxt = 'node {\\n  name: &quot;my_input&quot;\\n  op: &quot;org.spark.DistributedLiteral&quot;\\n  device: &quot;/spark:0&quot;\\n  attr {\\n    key: &quot;extra&quot;\\n    value {\\n      s: &quot;cell {\\\\n  array_value {\\\\n    values { double_value: 1.0 } values { double_value: 2.0 }\\\\n  }\\\\n}\\\\ncell_type { array_type { basic_type: DOUBLE } }&quot;\\n    }\\n  }\\n  attr {\\n    key: &quot;type&quot;\\n    value {\\n      s: &quot;double&quot;\\n    }\\n  }\\n}\\nnode {\\n  name: &quot;autocache_0&quot;\\n  op: &quot;org.spark.Autocache&quot;\\n  input: &quot;my_input&quot;\\n  device: &quot;/spark:0&quot;\\n  attr {\\n    key: &quot;extra&quot;\\n    value {\\n      s: &quot;&quot;\\n    }\\n  }\\n  attr {\\n    key: &quot;type&quot;\\n    value {\\n      s: &quot;double&quot;\\n    }\\n  }\\n}\\nnode {\\n  name: &quot;sum_1&quot;\\n  op: &quot;org.spark.StructuredReduce&quot;\\n  input: &quot;autocache_0&quot;\\n  device: &quot;/spark:0&quot;\\n  attr {\\n    key: &quot;extra&quot;\\n    value {\\n      s: &quot;agg_op {\\\\n  op {\\\\n    function_name: \\\\&quot;sum\\\\&quot;\\\\n    inputs { }\\\\n    expected_type { basic_type: DOUBLE }\\\\n  }\\\\n}&quot;\\n    }\\n  }\\n  attr {\\n    key: &quot;type&quot;\\n    value {\\n      s: &quot;double&quot;\\n    }\\n  }\\n}\\nnode {\\n  name: &quot;count_2&quot;\\n  op: &quot;org.spark.StructuredReduce&quot;\\n  input: &quot;autocache_0&quot;\\n  device: &quot;/spark:0&quot;\\n  attr {\\n    key: &quot;extra&quot;\\n    value {\\n      s: &quot;agg_op {\\\\n  op {\\\\n    function_name: \\\\&quot;count\\\\&quot; inputs { } expected_type { basic_type: INT }\\\\n  }\\\\n}&quot;\\n    }\\n  }\\n  attr {\\n    key: &quot;type&quot;\\n    value {\\n      s: &quot;int&quot;\\n    }\\n  }\\n}\\nnode {\\n  name: &quot;cast_double_3&quot;\\n  op: &quot;org.spark.LocalStructuredTransform&quot;\\n  input: &quot;count_2&quot;\\n  device: &quot;/spark:0&quot;\\n  attr {\\n    key: &quot;extra&quot;\\n    value {\\n      s: &quot;col_op {\\\\n  function {\\\\n    function_name: \\\\&quot;cast_double\\\\&quot;\\\\n    inputs { extraction { } }\\\\n    expected_type { basic_type: DOUBLE }\\\\n  }\\\\n}&quot;\\n    }\\n  }\\n  attr {\\n    key: &quot;type&quot;\\n    value {\\n      s: &quot;double&quot;\\n    }\\n  }\\n}\\nnode {\\n  name: &quot;divide_4_karps_localpack&quot;\\n  op: &quot;org.spark.LocalPack&quot;\\n  input: &quot;sum_1&quot;\\n  input: &quot;cast_double_3&quot;\\n  device: &quot;/spark:0&quot;\\n  attr {\\n    key: &quot;extra&quot;\\n    value {\\n      s: &quot;&quot;\\n    }\\n  }\\n  attr {\\n    key: &quot;type&quot;\\n    value {\\n      s: &quot;{_1:double _2:double}&quot;\\n    }\\n  }\\n}\\nnode {\\n  name: &quot;divide_4&quot;\\n  op: &quot;org.spark.LocalStructuredTransform&quot;\\n  input: &quot;divide_4_karps_localpack&quot;\\n  device: &quot;/spark:0&quot;\\n  attr {\\n    key: &quot;extra&quot;\\n    value {\\n      s: &quot;col_op {\\\\n  function {\\\\n    function_name: \\\\&quot;divide\\\\&quot;\\\\n    inputs { extraction { path: \\\\&quot;_1\\\\&quot; } }\\\\n    inputs { extraction { path: \\\\&quot;_2\\\\&quot; } }\\\\n    expected_type { basic_type: DOUBLE }\\\\n  }\\\\n}&quot;\\n    }\\n  }\\n  attr {\\n    key: &quot;type&quot;\\n    value {\\n      s: &quot;double&quot;\\n    }\\n  }\\n}\\n';\n",
       "          }\n",
       "        </script>\n",
       "        <link rel=&quot;import&quot; href=&quot;https://tensorboard.appspot.com/tf-graph-basic.build.html&quot; onload=load()>\n",
       "        <div style=&quot;height:600px&quot;>\n",
       "          <tf-graph-basic id=&quot;graph0.0972839275630697&quot;></tf-graph-basic>\n",
       "        </div>\n",
       "    \"></iframe>\n",
       "    "
      ],
      "text/plain": [
       "<IPython.core.display.HTML object>"
      ]
     },
     "metadata": {},
     "output_type": "display_data"
    }
   ],
   "source": [
    "show_phase(comp, \"REMOVE_OBSERVABLE_BROADCASTS\")"
   ]
  },
  {
   "cell_type": "code",
   "execution_count": 8,
   "metadata": {},
   "outputs": [
    {
     "data": {
      "text/html": [
       "\n",
       "        <iframe seamless style=\"width:1000px;height:620px;border:0\" srcdoc=\"\n",
       "        <script src=&quot;//cdnjs.cloudflare.com/ajax/libs/polymer/0.3.3/platform.js&quot;></script>\n",
       "        <script>\n",
       "          function load() {\n",
       "            document.getElementById(&quot;graph0.6658597036834429&quot;).pbtxt = 'node {\\n  name: &quot;my_input&quot;\\n  op: &quot;org.spark.DistributedLiteral&quot;\\n  device: &quot;/spark:0&quot;\\n  attr {\\n    key: &quot;extra&quot;\\n    value {\\n      s: &quot;cell {\\\\n  array_value {\\\\n    values { double_value: 1.0 } values { double_value: 2.0 }\\\\n  }\\\\n}\\\\ncell_type { array_type { basic_type: DOUBLE } }&quot;\\n    }\\n  }\\n  attr {\\n    key: &quot;type&quot;\\n    value {\\n      s: &quot;double&quot;\\n    }\\n  }\\n}\\nnode {\\n  name: &quot;autocache_0&quot;\\n  op: &quot;org.spark.Autocache&quot;\\n  input: &quot;my_input&quot;\\n  device: &quot;/spark:0&quot;\\n  attr {\\n    key: &quot;extra&quot;\\n    value {\\n      s: &quot;&quot;\\n    }\\n  }\\n  attr {\\n    key: &quot;type&quot;\\n    value {\\n      s: &quot;double&quot;\\n    }\\n  }\\n}\\nnode {\\n  name: &quot;autocache_0_karps_merged_agg&quot;\\n  op: &quot;org.spark.StructuredReduce&quot;\\n  input: &quot;autocache_0&quot;\\n  device: &quot;/spark:0&quot;\\n  attr {\\n    key: &quot;extra&quot;\\n    value {\\n      s: &quot;agg_op {\\\\n  struct {\\\\n    fields {\\\\n      op {\\\\n        function_name: \\\\&quot;sum\\\\&quot;\\\\n        inputs { }\\\\n        expected_type { basic_type: DOUBLE }\\\\n      }\\\\n      field_name: \\\\&quot;_1\\\\&quot;\\\\n    }\\\\n    fields {\\\\n      op {\\\\n        function_name: \\\\&quot;count\\\\&quot; inputs { } expected_type { basic_type: INT }\\\\n      }\\\\n      field_name: \\\\&quot;_2\\\\&quot;\\\\n    }\\\\n  }\\\\n}&quot;\\n    }\\n  }\\n  attr {\\n    key: &quot;type&quot;\\n    value {\\n      s: &quot;{_1:double _2:int}&quot;\\n    }\\n  }\\n}\\nnode {\\n  name: &quot;sum_1&quot;\\n  op: &quot;org.spark.LocalStructuredTransform&quot;\\n  input: &quot;autocache_0_karps_merged_agg&quot;\\n  device: &quot;/spark:0&quot;\\n  attr {\\n    key: &quot;extra&quot;\\n    value {\\n      s: &quot;col_op { extraction { path: \\\\&quot;_1\\\\&quot; } }&quot;\\n    }\\n  }\\n  attr {\\n    key: &quot;type&quot;\\n    value {\\n      s: &quot;double&quot;\\n    }\\n  }\\n}\\nnode {\\n  name: &quot;count_2&quot;\\n  op: &quot;org.spark.LocalStructuredTransform&quot;\\n  input: &quot;autocache_0_karps_merged_agg&quot;\\n  device: &quot;/spark:0&quot;\\n  attr {\\n    key: &quot;extra&quot;\\n    value {\\n      s: &quot;col_op { extraction { path: \\\\&quot;_2\\\\&quot; } }&quot;\\n    }\\n  }\\n  attr {\\n    key: &quot;type&quot;\\n    value {\\n      s: &quot;int&quot;\\n    }\\n  }\\n}\\nnode {\\n  name: &quot;cast_double_3&quot;\\n  op: &quot;org.spark.LocalStructuredTransform&quot;\\n  input: &quot;count_2&quot;\\n  device: &quot;/spark:0&quot;\\n  attr {\\n    key: &quot;extra&quot;\\n    value {\\n      s: &quot;col_op {\\\\n  function {\\\\n    function_name: \\\\&quot;cast_double\\\\&quot;\\\\n    inputs { extraction { } }\\\\n    expected_type { basic_type: DOUBLE }\\\\n  }\\\\n}&quot;\\n    }\\n  }\\n  attr {\\n    key: &quot;type&quot;\\n    value {\\n      s: &quot;double&quot;\\n    }\\n  }\\n}\\nnode {\\n  name: &quot;divide_4_karps_localpack&quot;\\n  op: &quot;org.spark.LocalPack&quot;\\n  input: &quot;sum_1&quot;\\n  input: &quot;cast_double_3&quot;\\n  device: &quot;/spark:0&quot;\\n  attr {\\n    key: &quot;extra&quot;\\n    value {\\n      s: &quot;&quot;\\n    }\\n  }\\n  attr {\\n    key: &quot;type&quot;\\n    value {\\n      s: &quot;{_1:double _2:double}&quot;\\n    }\\n  }\\n}\\nnode {\\n  name: &quot;divide_4&quot;\\n  op: &quot;org.spark.LocalStructuredTransform&quot;\\n  input: &quot;divide_4_karps_localpack&quot;\\n  device: &quot;/spark:0&quot;\\n  attr {\\n    key: &quot;extra&quot;\\n    value {\\n      s: &quot;col_op {\\\\n  function {\\\\n    function_name: \\\\&quot;divide\\\\&quot;\\\\n    inputs { extraction { path: \\\\&quot;_1\\\\&quot; } }\\\\n    inputs { extraction { path: \\\\&quot;_2\\\\&quot; } }\\\\n    expected_type { basic_type: DOUBLE }\\\\n  }\\\\n}&quot;\\n    }\\n  }\\n  attr {\\n    key: &quot;type&quot;\\n    value {\\n      s: &quot;double&quot;\\n    }\\n  }\\n}\\n';\n",
       "          }\n",
       "        </script>\n",
       "        <link rel=&quot;import&quot; href=&quot;https://tensorboard.appspot.com/tf-graph-basic.build.html&quot; onload=load()>\n",
       "        <div style=&quot;height:600px&quot;>\n",
       "          <tf-graph-basic id=&quot;graph0.6658597036834429&quot;></tf-graph-basic>\n",
       "        </div>\n",
       "    \"></iframe>\n",
       "    "
      ],
      "text/plain": [
       "<IPython.core.display.HTML object>"
      ]
     },
     "metadata": {},
     "output_type": "display_data"
    }
   ],
   "source": [
    "show_phase(comp, \"MERGE_AGGREGATIONS\")"
   ]
  },
  {
   "cell_type": "code",
   "execution_count": 9,
   "metadata": {},
   "outputs": [
    {
     "data": {
      "text/html": [
       "\n",
       "        <iframe seamless style=\"width:1000px;height:620px;border:0\" srcdoc=\"\n",
       "        <script src=&quot;//cdnjs.cloudflare.com/ajax/libs/polymer/0.3.3/platform.js&quot;></script>\n",
       "        <script>\n",
       "          function load() {\n",
       "            document.getElementById(&quot;graph0.6851306839326651&quot;).pbtxt = 'node {\\n  name: &quot;my_input&quot;\\n  op: &quot;org.spark.DistributedLiteral&quot;\\n  device: &quot;/spark:0&quot;\\n  attr {\\n    key: &quot;extra&quot;\\n    value {\\n      s: &quot;cell {\\\\n  array_value {\\\\n    values { double_value: 1.0 } values { double_value: 2.0 }\\\\n  }\\\\n}\\\\ncell_type { array_type { basic_type: DOUBLE } }&quot;\\n    }\\n  }\\n  attr {\\n    key: &quot;type&quot;\\n    value {\\n      s: &quot;double&quot;\\n    }\\n  }\\n}\\nnode {\\n  name: &quot;autocache_0_karps_merged_agg&quot;\\n  op: &quot;org.spark.StructuredReduce&quot;\\n  input: &quot;my_input&quot;\\n  device: &quot;/spark:0&quot;\\n  attr {\\n    key: &quot;extra&quot;\\n    value {\\n      s: &quot;agg_op {\\\\n  struct {\\\\n    fields {\\\\n      op {\\\\n        function_name: \\\\&quot;sum\\\\&quot;\\\\n        inputs { }\\\\n        expected_type { basic_type: DOUBLE }\\\\n      }\\\\n      field_name: \\\\&quot;_1\\\\&quot;\\\\n    }\\\\n    fields {\\\\n      op {\\\\n        function_name: \\\\&quot;count\\\\&quot; inputs { } expected_type { basic_type: INT }\\\\n      }\\\\n      field_name: \\\\&quot;_2\\\\&quot;\\\\n    }\\\\n  }\\\\n}&quot;\\n    }\\n  }\\n  attr {\\n    key: &quot;type&quot;\\n    value {\\n      s: &quot;{_1:double _2:int}&quot;\\n    }\\n  }\\n}\\nnode {\\n  name: &quot;sum_1&quot;\\n  op: &quot;org.spark.LocalStructuredTransform&quot;\\n  input: &quot;autocache_0_karps_merged_agg&quot;\\n  device: &quot;/spark:0&quot;\\n  attr {\\n    key: &quot;extra&quot;\\n    value {\\n      s: &quot;col_op { extraction { path: \\\\&quot;_1\\\\&quot; } }&quot;\\n    }\\n  }\\n  attr {\\n    key: &quot;type&quot;\\n    value {\\n      s: &quot;double&quot;\\n    }\\n  }\\n}\\nnode {\\n  name: &quot;count_2&quot;\\n  op: &quot;org.spark.LocalStructuredTransform&quot;\\n  input: &quot;autocache_0_karps_merged_agg&quot;\\n  device: &quot;/spark:0&quot;\\n  attr {\\n    key: &quot;extra&quot;\\n    value {\\n      s: &quot;col_op { extraction { path: \\\\&quot;_2\\\\&quot; } }&quot;\\n    }\\n  }\\n  attr {\\n    key: &quot;type&quot;\\n    value {\\n      s: &quot;int&quot;\\n    }\\n  }\\n}\\nnode {\\n  name: &quot;cast_double_3&quot;\\n  op: &quot;org.spark.LocalStructuredTransform&quot;\\n  input: &quot;count_2&quot;\\n  device: &quot;/spark:0&quot;\\n  attr {\\n    key: &quot;extra&quot;\\n    value {\\n      s: &quot;col_op {\\\\n  function {\\\\n    function_name: \\\\&quot;cast_double\\\\&quot;\\\\n    inputs { extraction { } }\\\\n    expected_type { basic_type: DOUBLE }\\\\n  }\\\\n}&quot;\\n    }\\n  }\\n  attr {\\n    key: &quot;type&quot;\\n    value {\\n      s: &quot;double&quot;\\n    }\\n  }\\n}\\nnode {\\n  name: &quot;divide_4_karps_localpack&quot;\\n  op: &quot;org.spark.LocalPack&quot;\\n  input: &quot;sum_1&quot;\\n  input: &quot;cast_double_3&quot;\\n  device: &quot;/spark:0&quot;\\n  attr {\\n    key: &quot;extra&quot;\\n    value {\\n      s: &quot;&quot;\\n    }\\n  }\\n  attr {\\n    key: &quot;type&quot;\\n    value {\\n      s: &quot;{_1:double _2:double}&quot;\\n    }\\n  }\\n}\\nnode {\\n  name: &quot;divide_4&quot;\\n  op: &quot;org.spark.LocalStructuredTransform&quot;\\n  input: &quot;divide_4_karps_localpack&quot;\\n  device: &quot;/spark:0&quot;\\n  attr {\\n    key: &quot;extra&quot;\\n    value {\\n      s: &quot;col_op {\\\\n  function {\\\\n    function_name: \\\\&quot;divide\\\\&quot;\\\\n    inputs { extraction { path: \\\\&quot;_1\\\\&quot; } }\\\\n    inputs { extraction { path: \\\\&quot;_2\\\\&quot; } }\\\\n    expected_type { basic_type: DOUBLE }\\\\n  }\\\\n}&quot;\\n    }\\n  }\\n  attr {\\n    key: &quot;type&quot;\\n    value {\\n      s: &quot;double&quot;\\n    }\\n  }\\n}\\n';\n",
       "          }\n",
       "        </script>\n",
       "        <link rel=&quot;import&quot; href=&quot;https://tensorboard.appspot.com/tf-graph-basic.build.html&quot; onload=load()>\n",
       "        <div style=&quot;height:600px&quot;>\n",
       "          <tf-graph-basic id=&quot;graph0.6851306839326651&quot;></tf-graph-basic>\n",
       "        </div>\n",
       "    \"></iframe>\n",
       "    "
      ],
      "text/plain": [
       "<IPython.core.display.HTML object>"
      ]
     },
     "metadata": {},
     "output_type": "display_data"
    }
   ],
   "source": [
    "show_phase(comp, \"final\")"
   ]
  },
  {
   "cell_type": "code",
   "execution_count": 10,
   "metadata": {},
   "outputs": [
    {
     "data": {
      "text/plain": [
       "(double, double_value: 1.5\n",
       ")"
      ]
     },
     "execution_count": 10,
     "metadata": {},
     "output_type": "execute_result"
    }
   ],
   "source": [
    "comp.values()"
   ]
  },
  {
   "cell_type": "code",
   "execution_count": 12,
   "metadata": {},
   "outputs": [
    {
     "data": {
      "text/plain": [
       "(double, double_value: 1.5\n",
       ")"
      ]
     },
     "execution_count": 12,
     "metadata": {},
     "output_type": "execute_result"
    }
   ],
   "source": [
    "s.run(the_mean)"
   ]
  },
  {
   "cell_type": "code",
   "execution_count": null,
   "metadata": {
    "collapsed": true
   },
   "outputs": [],
   "source": []
  }
 ],
 "metadata": {
  "kernelspec": {
   "display_name": "Python 3",
   "language": "python",
   "name": "python3"
  },
  "language_info": {
   "codemirror_mode": {
    "name": "ipython",
    "version": 3
   },
   "file_extension": ".py",
   "mimetype": "text/x-python",
   "name": "python",
   "nbconvert_exporter": "python",
   "pygments_lexer": "ipython3",
   "version": "3.5.2"
  }
 },
 "nbformat": 4,
 "nbformat_minor": 2
}
