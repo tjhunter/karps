{
 "cells": [
  {
   "cell_type": "markdown",
   "metadata": {},
   "source": [
    "# Example 1 - writing UDAFs the simple way\n",
    "\n",
    "This small example shows how simple it could be to write a UDAF in Spark with moderate additions to the existing API. It takes the example published in the [Databricks blog](https://databricks.com/blog/2015/09/16/apache-spark-1-5-dataframe-api-highlights.html) to add an operator for the [harmonic mean](https://en.wikipedia.org/wiki/Harmonic_mean).\n",
    "\n",
    "Let's get done with some imports first:"
   ]
  },
  {
   "cell_type": "code",
   "execution_count": 1,
   "metadata": {},
   "outputs": [],
   "source": [
    "# The main function\n",
    "import karps as ks\n",
    "# The standard library\n",
    "import karps.functions as f\n",
    "# Some tools to display the computation process:\n",
    "from karps.display import show_phase"
   ]
  },
  {
   "cell_type": "markdown",
   "metadata": {},
   "source": [
    "Here is the definition of the harmonic mean, which is a simple function. Given a column containing floating point values, it is defined as such:"
   ]
  },
  {
   "cell_type": "code",
   "execution_count": 2,
   "metadata": {},
   "outputs": [],
   "source": [
    "def harmonic_mean(col):\n",
    "    count = f.as_double(f.count(col))\n",
    "    inv_sum = 1.0/f.sum(1.0/col)\n",
    "    return inv_sum * count"
   ]
  },
  {
   "cell_type": "markdown",
   "metadata": {},
   "source": [
    "This is exactly how one would want to code it in numpy, pandas, and using basic Spark constructs. In fact, you can run this code straight inside Pandas:"
   ]
  },
  {
   "cell_type": "code",
   "execution_count": 3,
   "metadata": {},
   "outputs": [
    {
     "data": {
      "text/plain": [
       "1.3333333333333333"
      ]
     },
     "execution_count": 3,
     "metadata": {},
     "output_type": "execute_result"
    }
   ],
   "source": [
    "# Using Pandas to evaluate our function:\n",
    "import pandas as pd\n",
    "pandas_df = pd.DataFrame([1.0, 2.0])\n",
    "harmonic_mean(pandas_df)"
   ]
  },
  {
   "cell_type": "markdown",
   "metadata": {},
   "source": [
    " This code has a number of problems if you want to use it in Spark however:\n",
    " - reusability: this function works great on the column of a dataframe or of a column, but it cannot be reused with `groupby` for instance.\n",
    " - performance: most Spark tutorials will teach you that as it stands, this function has crappy performance. It will recompute the input twice, which may be very expensive in some cases.\n",
    "\n",
    "This is why if one wants to use it, it is immediately advised to use the `cache` function of Spark, which still requires all the data to stay materialized. Karps provides the convenient `autocache` operator which automatically decide if caching is appropriate. We are going to use it on this simple example:"
   ]
  },
  {
   "cell_type": "code",
   "execution_count": 4,
   "metadata": {},
   "outputs": [
    {
     "data": {
      "text/plain": [
       "/my_input@org.spark.DistributedLiteral:double"
      ]
     },
     "execution_count": 4,
     "metadata": {},
     "output_type": "execute_result"
    }
   ],
   "source": [
    "# Create a HUGE dataframe\n",
    "df = ks.dataframe([1.0, 2.0], name=\"my_input\")\n",
    "df"
   ]
  },
  {
   "cell_type": "code",
   "execution_count": 5,
   "metadata": {},
   "outputs": [
    {
     "data": {
      "text/plain": [
       "/multiply6!org.spark.LocalStructuredTransform:double"
      ]
     },
     "execution_count": 5,
     "metadata": {},
     "output_type": "execute_result"
    }
   ],
   "source": [
    "# And apply our function:\n",
    "cached_df = f.autocache(df)\n",
    "hmean = harmonic_mean(cached_df)\n",
    "hmean"
   ]
  },
  {
   "cell_type": "markdown",
   "metadata": {
    "collapsed": true
   },
   "source": [
    "Something to immediately note is that the computation is lazy: nothing gets computed and all you get is an object called `multiply6` of type `double`. Let's compute it. Thanks to lazy evaluation, the Karps compiler can rearrange the computations to make them run faster:"
   ]
  },
  {
   "cell_type": "code",
   "execution_count": 6,
   "metadata": {},
   "outputs": [],
   "source": [
    "# All computations happen within a session, which keeps track of the state in Spark.\n",
    "s = ks.session(\"demo1\")"
   ]
  },
  {
   "cell_type": "markdown",
   "metadata": {},
   "source": [
    "The `compute` function not only triggest the computation, but also provides more debugging information into what is happening. We are going to introspect the compiler passes to see how things get transformed."
   ]
  },
  {
   "cell_type": "code",
   "execution_count": 7,
   "metadata": {},
   "outputs": [],
   "source": [
    "comp = s.compute(hmean)"
   ]
  },
  {
   "cell_type": "markdown",
   "metadata": {},
   "source": [
    "Here is the initial graph of computation, as we built it. Click on the nodes to have more detailed information.\n",
    "\n",
    "It is very clear that two computations are going to be run in parallel from the same dataset, and that caching will happen right before forking these computations.\n"
   ]
  },
  {
   "cell_type": "code",
   "execution_count": 8,
   "metadata": {},
   "outputs": [
    {
     "data": {
      "text/html": [
       "\n",
       "        <iframe seamless style=\"width:1000px;height:620px;border:0\" srcdoc=\"\n",
       "        <script src=&quot;//cdnjs.cloudflare.com/ajax/libs/polymer/0.3.3/platform.js&quot;></script>\n",
       "        <script>\n",
       "          function load() {\n",
       "            document.getElementById(&quot;graph0.0467489290724461&quot;).pbtxt = 'node {\\n  name: &quot;my_input&quot;\\n  op: &quot;org.spark.DistributedLiteral&quot;\\n  device: &quot;/spark:0&quot;\\n  attr {\\n    key: &quot;locality&quot;\\n    value {\\n      s: &quot;Distributed&quot;\\n    }\\n  }\\n  attr {\\n    key: &quot;type&quot;\\n    value {\\n      s: &quot;double&quot;\\n    }\\n  }\\n  attr {\\n    key: &quot;zextra&quot;\\n    value {\\n      s: &quot;cell {  array_value {    values { double_value: 1.0 } values { double_value: 2.0 }  }}cell_type { array_type { basic_type: DOUBLE } }&quot;\\n    }\\n  }\\n}\\nnode {\\n  name: &quot;autocache0&quot;\\n  op: &quot;org.spark.Autocache&quot;\\n  input: &quot;my_input&quot;\\n  device: &quot;/spark:0&quot;\\n  attr {\\n    key: &quot;locality&quot;\\n    value {\\n      s: &quot;Distributed&quot;\\n    }\\n  }\\n  attr {\\n    key: &quot;type&quot;\\n    value {\\n      s: &quot;double&quot;\\n    }\\n  }\\n  attr {\\n    key: &quot;zextra&quot;\\n    value {\\n      s: &quot;&quot;\\n    }\\n  }\\n}\\nnode {\\n  name: &quot;inverse3&quot;\\n  op: &quot;org.spark.StructuredTransform&quot;\\n  input: &quot;autocache0&quot;\\n  device: &quot;/spark:0&quot;\\n  attr {\\n    key: &quot;locality&quot;\\n    value {\\n      s: &quot;Distributed&quot;\\n    }\\n  }\\n  attr {\\n    key: &quot;type&quot;\\n    value {\\n      s: &quot;double&quot;\\n    }\\n  }\\n  attr {\\n    key: &quot;zextra&quot;\\n    value {\\n      s: &quot;col_op {  function {    function_name: .inverse.    inputs { extraction { } }    expected_type { basic_type: DOUBLE }  }}&quot;\\n    }\\n  }\\n}\\nnode {\\n  name: &quot;sum4&quot;\\n  op: &quot;org.spark.StructuredReduce&quot;\\n  input: &quot;inverse3&quot;\\n  device: &quot;/spark:0&quot;\\n  attr {\\n    key: &quot;locality&quot;\\n    value {\\n      s: &quot;Local&quot;\\n    }\\n  }\\n  attr {\\n    key: &quot;type&quot;\\n    value {\\n      s: &quot;double&quot;\\n    }\\n  }\\n  attr {\\n    key: &quot;zextra&quot;\\n    value {\\n      s: &quot;agg_op {  op {    function_name: .sum.    inputs { }    expected_type { basic_type: DOUBLE }  }}&quot;\\n    }\\n  }\\n}\\nnode {\\n  name: &quot;inverse5&quot;\\n  op: &quot;org.spark.LocalStructuredTransform&quot;\\n  input: &quot;sum4&quot;\\n  device: &quot;/spark:0&quot;\\n  attr {\\n    key: &quot;locality&quot;\\n    value {\\n      s: &quot;Local&quot;\\n    }\\n  }\\n  attr {\\n    key: &quot;type&quot;\\n    value {\\n      s: &quot;double&quot;\\n    }\\n  }\\n  attr {\\n    key: &quot;zextra&quot;\\n    value {\\n      s: &quot;col_op {  function {    function_name: .inverse.    inputs { extraction { } }    expected_type { basic_type: DOUBLE }  }}&quot;\\n    }\\n  }\\n}\\nnode {\\n  name: &quot;count1&quot;\\n  op: &quot;org.spark.StructuredReduce&quot;\\n  input: &quot;autocache0&quot;\\n  device: &quot;/spark:0&quot;\\n  attr {\\n    key: &quot;locality&quot;\\n    value {\\n      s: &quot;Local&quot;\\n    }\\n  }\\n  attr {\\n    key: &quot;type&quot;\\n    value {\\n      s: &quot;int&quot;\\n    }\\n  }\\n  attr {\\n    key: &quot;zextra&quot;\\n    value {\\n      s: &quot;agg_op {  op {    function_name: .count. inputs { } expected_type { basic_type: INT }  }}&quot;\\n    }\\n  }\\n}\\nnode {\\n  name: &quot;cast_double2&quot;\\n  op: &quot;org.spark.LocalStructuredTransform&quot;\\n  input: &quot;count1&quot;\\n  device: &quot;/spark:0&quot;\\n  attr {\\n    key: &quot;locality&quot;\\n    value {\\n      s: &quot;Local&quot;\\n    }\\n  }\\n  attr {\\n    key: &quot;type&quot;\\n    value {\\n      s: &quot;double&quot;\\n    }\\n  }\\n  attr {\\n    key: &quot;zextra&quot;\\n    value {\\n      s: &quot;col_op {  function {    function_name: .cast_double.    inputs { extraction { } }    expected_type { basic_type: DOUBLE }  }}&quot;\\n    }\\n  }\\n}\\nnode {\\n  name: &quot;multiply6&quot;\\n  op: &quot;org.spark.LocalStructuredTransform&quot;\\n  input: &quot;inverse5&quot;\\n  input: &quot;cast_double2&quot;\\n  device: &quot;/spark:0&quot;\\n  attr {\\n    key: &quot;locality&quot;\\n    value {\\n      s: &quot;Local&quot;\\n    }\\n  }\\n  attr {\\n    key: &quot;type&quot;\\n    value {\\n      s: &quot;double&quot;\\n    }\\n  }\\n  attr {\\n    key: &quot;zextra&quot;\\n    value {\\n      s: &quot;col_op {  function {    function_name: .multiply.    inputs { broadcast { } }    inputs { broadcast { observable_index: 1 } }    expected_type { basic_type: DOUBLE }  }}&quot;\\n    }\\n  }\\n}\\n';\n",
       "          }\n",
       "        </script>\n",
       "        <link rel=&quot;import&quot; href=&quot;https://tensorboard.appspot.com/tf-graph-basic.build.html&quot; onload=load()>\n",
       "        <div style=&quot;height:600px&quot;>\n",
       "          <tf-graph-basic id=&quot;graph0.0467489290724461&quot;></tf-graph-basic>\n",
       "        </div>\n",
       "    \"></iframe>\n",
       "    "
      ],
      "text/plain": [
       "<IPython.core.display.HTML object>"
      ]
     },
     "metadata": {},
     "output_type": "display_data"
    }
   ],
   "source": [
    "show_phase(comp, \"initial\")"
   ]
  },
  {
   "cell_type": "code",
   "execution_count": 9,
   "metadata": {},
   "outputs": [
    {
     "data": {
      "text/html": [
       "\n",
       "        <iframe seamless style=\"width:1000px;height:620px;border:0\" srcdoc=\"\n",
       "        <script src=&quot;//cdnjs.cloudflare.com/ajax/libs/polymer/0.3.3/platform.js&quot;></script>\n",
       "        <script>\n",
       "          function load() {\n",
       "            document.getElementById(&quot;graph0.8319764204171901&quot;).pbtxt = 'node {\\n  name: &quot;my_input&quot;\\n  op: &quot;org.spark.DistributedLiteral&quot;\\n  device: &quot;/spark:0&quot;\\n  attr {\\n    key: &quot;locality&quot;\\n    value {\\n      s: &quot;Distributed&quot;\\n    }\\n  }\\n  attr {\\n    key: &quot;type&quot;\\n    value {\\n      s: &quot;double&quot;\\n    }\\n  }\\n  attr {\\n    key: &quot;zextra&quot;\\n    value {\\n      s: &quot;cell {  array_value {    values { double_value: 1.0 } values { double_value: 2.0 }  }}cell_type { array_type { basic_type: DOUBLE } }&quot;\\n    }\\n  }\\n}\\nnode {\\n  name: &quot;autocache0&quot;\\n  op: &quot;org.spark.Autocache&quot;\\n  input: &quot;my_input&quot;\\n  device: &quot;/spark:0&quot;\\n  attr {\\n    key: &quot;locality&quot;\\n    value {\\n      s: &quot;Distributed&quot;\\n    }\\n  }\\n  attr {\\n    key: &quot;type&quot;\\n    value {\\n      s: &quot;double&quot;\\n    }\\n  }\\n  attr {\\n    key: &quot;zextra&quot;\\n    value {\\n      s: &quot;&quot;\\n    }\\n  }\\n}\\nnode {\\n  name: &quot;autocache0_ks_aggstruct&quot;\\n  op: &quot;org.spark.StructuredTransform&quot;\\n  input: &quot;autocache0&quot;\\n  device: &quot;/spark:0&quot;\\n  attr {\\n    key: &quot;locality&quot;\\n    value {\\n      s: &quot;Distributed&quot;\\n    }\\n  }\\n  attr {\\n    key: &quot;type&quot;\\n    value {\\n      s: &quot;{_1:double _2:double}&quot;\\n    }\\n  }\\n  attr {\\n    key: &quot;zextra&quot;\\n    value {\\n      s: &quot;col_op {  struct {    fields { extraction { } field_name: ._1. }    fields {      function {        function_name: .inverse.        inputs { extraction { } }        expected_type { basic_type: DOUBLE }      }      field_name: ._2.    }  }}&quot;\\n    }\\n  }\\n}\\nnode {\\n  name: &quot;sum4&quot;\\n  op: &quot;org.spark.StructuredReduce&quot;\\n  input: &quot;autocache0_ks_aggstruct&quot;\\n  device: &quot;/spark:0&quot;\\n  attr {\\n    key: &quot;locality&quot;\\n    value {\\n      s: &quot;Local&quot;\\n    }\\n  }\\n  attr {\\n    key: &quot;type&quot;\\n    value {\\n      s: &quot;double&quot;\\n    }\\n  }\\n  attr {\\n    key: &quot;zextra&quot;\\n    value {\\n      s: &quot;agg_op {  op {    function_name: .sum.    inputs { path: ._2. }    expected_type { basic_type: DOUBLE }  }}&quot;\\n    }\\n  }\\n}\\nnode {\\n  name: &quot;inverse5&quot;\\n  op: &quot;org.spark.LocalStructuredTransform&quot;\\n  input: &quot;sum4&quot;\\n  device: &quot;/spark:0&quot;\\n  attr {\\n    key: &quot;locality&quot;\\n    value {\\n      s: &quot;Local&quot;\\n    }\\n  }\\n  attr {\\n    key: &quot;type&quot;\\n    value {\\n      s: &quot;double&quot;\\n    }\\n  }\\n  attr {\\n    key: &quot;zextra&quot;\\n    value {\\n      s: &quot;col_op {  function {    function_name: .inverse.    inputs { extraction { } }    expected_type { basic_type: DOUBLE }  }}&quot;\\n    }\\n  }\\n}\\nnode {\\n  name: &quot;count1&quot;\\n  op: &quot;org.spark.StructuredReduce&quot;\\n  input: &quot;autocache0_ks_aggstruct&quot;\\n  device: &quot;/spark:0&quot;\\n  attr {\\n    key: &quot;locality&quot;\\n    value {\\n      s: &quot;Local&quot;\\n    }\\n  }\\n  attr {\\n    key: &quot;type&quot;\\n    value {\\n      s: &quot;int&quot;\\n    }\\n  }\\n  attr {\\n    key: &quot;zextra&quot;\\n    value {\\n      s: &quot;agg_op {  op {    function_name: .count.    inputs { path: ._1. }    expected_type { basic_type: INT }  }}&quot;\\n    }\\n  }\\n}\\nnode {\\n  name: &quot;cast_double2&quot;\\n  op: &quot;org.spark.LocalStructuredTransform&quot;\\n  input: &quot;count1&quot;\\n  device: &quot;/spark:0&quot;\\n  attr {\\n    key: &quot;locality&quot;\\n    value {\\n      s: &quot;Local&quot;\\n    }\\n  }\\n  attr {\\n    key: &quot;type&quot;\\n    value {\\n      s: &quot;double&quot;\\n    }\\n  }\\n  attr {\\n    key: &quot;zextra&quot;\\n    value {\\n      s: &quot;col_op {  function {    function_name: .cast_double.    inputs { extraction { } }    expected_type { basic_type: DOUBLE }  }}&quot;\\n    }\\n  }\\n}\\nnode {\\n  name: &quot;multiply6_karps_localpack&quot;\\n  op: &quot;org.spark.LocalPack&quot;\\n  input: &quot;inverse5&quot;\\n  input: &quot;cast_double2&quot;\\n  device: &quot;/spark:0&quot;\\n  attr {\\n    key: &quot;locality&quot;\\n    value {\\n      s: &quot;Local&quot;\\n    }\\n  }\\n  attr {\\n    key: &quot;type&quot;\\n    value {\\n      s: &quot;{_1:double _2:double}&quot;\\n    }\\n  }\\n  attr {\\n    key: &quot;zextra&quot;\\n    value {\\n      s: &quot;&quot;\\n    }\\n  }\\n}\\nnode {\\n  name: &quot;multiply6&quot;\\n  op: &quot;org.spark.LocalStructuredTransform&quot;\\n  input: &quot;multiply6_karps_localpack&quot;\\n  device: &quot;/spark:0&quot;\\n  attr {\\n    key: &quot;locality&quot;\\n    value {\\n      s: &quot;Local&quot;\\n    }\\n  }\\n  attr {\\n    key: &quot;type&quot;\\n    value {\\n      s: &quot;double&quot;\\n    }\\n  }\\n  attr {\\n    key: &quot;zextra&quot;\\n    value {\\n      s: &quot;col_op {  function {    function_name: .multiply.    inputs { extraction { path: ._1. } }    inputs { extraction { path: ._2. } }    expected_type { basic_type: DOUBLE }  }}&quot;\\n    }\\n  }\\n}\\n';\n",
       "          }\n",
       "        </script>\n",
       "        <link rel=&quot;import&quot; href=&quot;https://tensorboard.appspot.com/tf-graph-basic.build.html&quot; onload=load()>\n",
       "        <div style=&quot;height:600px&quot;>\n",
       "          <tf-graph-basic id=&quot;graph0.8319764204171901&quot;></tf-graph-basic>\n",
       "        </div>\n",
       "    \"></iframe>\n",
       "    "
      ],
      "text/plain": [
       "<IPython.core.display.HTML object>"
      ]
     },
     "metadata": {},
     "output_type": "display_data"
    }
   ],
   "source": [
    "show_phase(comp, \"MERGE_PREAGG_AGGREGATIONS\")"
   ]
  },
  {
   "cell_type": "markdown",
   "metadata": {},
   "source": [
    "The important part to notice though is that after the `count1` and the `sum4` nodes, all the other nodes are observables (local values). They do not involve distributed datasets anymore, so they are very cheap to compute. The Karps compiler is going to optimize the distributed part to reduce the amount of computations, everything after that is not important for now.\n",
    "\n",
    "One of the first phases merges the `inverse3` node into a single lineage, and then fuses the aggregations `sum4` and `count1` into a single joint aggregation. If you look at the graph below, the new nodes `sum4` and `count1` are in fact dummy projections that operate on local data. All the hard work is being done in a new node with a horrible name: `autocache0_ks_aggstruct...`."
   ]
  },
  {
   "cell_type": "code",
   "execution_count": 10,
   "metadata": {},
   "outputs": [
    {
     "data": {
      "text/html": [
       "\n",
       "        <iframe seamless style=\"width:1000px;height:620px;border:0\" srcdoc=\"\n",
       "        <script src=&quot;//cdnjs.cloudflare.com/ajax/libs/polymer/0.3.3/platform.js&quot;></script>\n",
       "        <script>\n",
       "          function load() {\n",
       "            document.getElementById(&quot;graph0.21732382664273664&quot;).pbtxt = 'node {\\n  name: &quot;my_input&quot;\\n  op: &quot;org.spark.DistributedLiteral&quot;\\n  device: &quot;/spark:0&quot;\\n  attr {\\n    key: &quot;locality&quot;\\n    value {\\n      s: &quot;Distributed&quot;\\n    }\\n  }\\n  attr {\\n    key: &quot;type&quot;\\n    value {\\n      s: &quot;double&quot;\\n    }\\n  }\\n  attr {\\n    key: &quot;zextra&quot;\\n    value {\\n      s: &quot;cell {  array_value {    values { double_value: 1.0 } values { double_value: 2.0 }  }}cell_type { array_type { basic_type: DOUBLE } }&quot;\\n    }\\n  }\\n}\\nnode {\\n  name: &quot;autocache0&quot;\\n  op: &quot;org.spark.Autocache&quot;\\n  input: &quot;my_input&quot;\\n  device: &quot;/spark:0&quot;\\n  attr {\\n    key: &quot;locality&quot;\\n    value {\\n      s: &quot;Distributed&quot;\\n    }\\n  }\\n  attr {\\n    key: &quot;type&quot;\\n    value {\\n      s: &quot;double&quot;\\n    }\\n  }\\n  attr {\\n    key: &quot;zextra&quot;\\n    value {\\n      s: &quot;&quot;\\n    }\\n  }\\n}\\nnode {\\n  name: &quot;autocache0_ks_aggstruct&quot;\\n  op: &quot;org.spark.StructuredTransform&quot;\\n  input: &quot;autocache0&quot;\\n  device: &quot;/spark:0&quot;\\n  attr {\\n    key: &quot;locality&quot;\\n    value {\\n      s: &quot;Distributed&quot;\\n    }\\n  }\\n  attr {\\n    key: &quot;type&quot;\\n    value {\\n      s: &quot;{_1:double _2:double}&quot;\\n    }\\n  }\\n  attr {\\n    key: &quot;zextra&quot;\\n    value {\\n      s: &quot;col_op {  struct {    fields { extraction { } field_name: ._1. }    fields {      function {        function_name: .inverse.        inputs { extraction { } }        expected_type { basic_type: DOUBLE }      }      field_name: ._2.    }  }}&quot;\\n    }\\n  }\\n}\\nnode {\\n  name: &quot;autocache0_ks_aggstruct_karps_merged_agg&quot;\\n  op: &quot;org.spark.StructuredReduce&quot;\\n  input: &quot;autocache0_ks_aggstruct&quot;\\n  device: &quot;/spark:0&quot;\\n  attr {\\n    key: &quot;locality&quot;\\n    value {\\n      s: &quot;Local&quot;\\n    }\\n  }\\n  attr {\\n    key: &quot;type&quot;\\n    value {\\n      s: &quot;{_1:int _2:double}&quot;\\n    }\\n  }\\n  attr {\\n    key: &quot;zextra&quot;\\n    value {\\n      s: &quot;agg_op {  struct {    fields {      op {        function_name: .count.        inputs { path: ._1. }        expected_type { basic_type: INT }      }      field_name: ._1.    }    fields {      op {        function_name: .sum.        inputs { path: ._2. }        expected_type { basic_type: DOUBLE }      }      field_name: ._2.    }  }}&quot;\\n    }\\n  }\\n}\\nnode {\\n  name: &quot;sum4&quot;\\n  op: &quot;org.spark.LocalStructuredTransform&quot;\\n  input: &quot;autocache0_ks_aggstruct_karps_merged_agg&quot;\\n  device: &quot;/spark:0&quot;\\n  attr {\\n    key: &quot;locality&quot;\\n    value {\\n      s: &quot;Local&quot;\\n    }\\n  }\\n  attr {\\n    key: &quot;type&quot;\\n    value {\\n      s: &quot;double&quot;\\n    }\\n  }\\n  attr {\\n    key: &quot;zextra&quot;\\n    value {\\n      s: &quot;col_op { extraction { path: ._2. } }&quot;\\n    }\\n  }\\n}\\nnode {\\n  name: &quot;inverse5&quot;\\n  op: &quot;org.spark.LocalStructuredTransform&quot;\\n  input: &quot;sum4&quot;\\n  device: &quot;/spark:0&quot;\\n  attr {\\n    key: &quot;locality&quot;\\n    value {\\n      s: &quot;Local&quot;\\n    }\\n  }\\n  attr {\\n    key: &quot;type&quot;\\n    value {\\n      s: &quot;double&quot;\\n    }\\n  }\\n  attr {\\n    key: &quot;zextra&quot;\\n    value {\\n      s: &quot;col_op {  function {    function_name: .inverse.    inputs { extraction { } }    expected_type { basic_type: DOUBLE }  }}&quot;\\n    }\\n  }\\n}\\nnode {\\n  name: &quot;count1&quot;\\n  op: &quot;org.spark.LocalStructuredTransform&quot;\\n  input: &quot;autocache0_ks_aggstruct_karps_merged_agg&quot;\\n  device: &quot;/spark:0&quot;\\n  attr {\\n    key: &quot;locality&quot;\\n    value {\\n      s: &quot;Local&quot;\\n    }\\n  }\\n  attr {\\n    key: &quot;type&quot;\\n    value {\\n      s: &quot;int&quot;\\n    }\\n  }\\n  attr {\\n    key: &quot;zextra&quot;\\n    value {\\n      s: &quot;col_op { extraction { path: ._1. } }&quot;\\n    }\\n  }\\n}\\nnode {\\n  name: &quot;cast_double2&quot;\\n  op: &quot;org.spark.LocalStructuredTransform&quot;\\n  input: &quot;count1&quot;\\n  device: &quot;/spark:0&quot;\\n  attr {\\n    key: &quot;locality&quot;\\n    value {\\n      s: &quot;Local&quot;\\n    }\\n  }\\n  attr {\\n    key: &quot;type&quot;\\n    value {\\n      s: &quot;double&quot;\\n    }\\n  }\\n  attr {\\n    key: &quot;zextra&quot;\\n    value {\\n      s: &quot;col_op {  function {    function_name: .cast_double.    inputs { extraction { } }    expected_type { basic_type: DOUBLE }  }}&quot;\\n    }\\n  }\\n}\\nnode {\\n  name: &quot;multiply6_karps_localpack&quot;\\n  op: &quot;org.spark.LocalPack&quot;\\n  input: &quot;inverse5&quot;\\n  input: &quot;cast_double2&quot;\\n  device: &quot;/spark:0&quot;\\n  attr {\\n    key: &quot;locality&quot;\\n    value {\\n      s: &quot;Local&quot;\\n    }\\n  }\\n  attr {\\n    key: &quot;type&quot;\\n    value {\\n      s: &quot;{_1:double _2:double}&quot;\\n    }\\n  }\\n  attr {\\n    key: &quot;zextra&quot;\\n    value {\\n      s: &quot;&quot;\\n    }\\n  }\\n}\\nnode {\\n  name: &quot;multiply6&quot;\\n  op: &quot;org.spark.LocalStructuredTransform&quot;\\n  input: &quot;multiply6_karps_localpack&quot;\\n  device: &quot;/spark:0&quot;\\n  attr {\\n    key: &quot;locality&quot;\\n    value {\\n      s: &quot;Local&quot;\\n    }\\n  }\\n  attr {\\n    key: &quot;type&quot;\\n    value {\\n      s: &quot;double&quot;\\n    }\\n  }\\n  attr {\\n    key: &quot;zextra&quot;\\n    value {\\n      s: &quot;col_op {  function {    function_name: .multiply.    inputs { extraction { path: ._1. } }    inputs { extraction { path: ._2. } }    expected_type { basic_type: DOUBLE }  }}&quot;\\n    }\\n  }\\n}\\n';\n",
       "          }\n",
       "        </script>\n",
       "        <link rel=&quot;import&quot; href=&quot;https://tensorboard.appspot.com/tf-graph-basic.build.html&quot; onload=load()>\n",
       "        <div style=&quot;height:600px&quot;>\n",
       "          <tf-graph-basic id=&quot;graph0.21732382664273664&quot;></tf-graph-basic>\n",
       "        </div>\n",
       "    \"></iframe>\n",
       "    "
      ],
      "text/plain": [
       "<IPython.core.display.HTML object>"
      ]
     },
     "metadata": {},
     "output_type": "display_data"
    }
   ],
   "source": [
    "show_phase(comp, \"MERGE_AGGREGATIONS\")"
   ]
  },
  {
   "cell_type": "markdown",
   "metadata": {},
   "source": [
    "Now that we only perform a single aggregation, do we still need to cache the data? We don't! The next compiler phase is going to inspect the autocache nodes, and see how many times they get to be aggregated, and remove them if possible. In this case, it correctly infers that we do not need this `autocache0` operator. Here is the final graph that gets executed:"
   ]
  },
  {
   "cell_type": "code",
   "execution_count": 11,
   "metadata": {},
   "outputs": [
    {
     "data": {
      "text/html": [
       "\n",
       "        <iframe seamless style=\"width:1000px;height:620px;border:0\" srcdoc=\"\n",
       "        <script src=&quot;//cdnjs.cloudflare.com/ajax/libs/polymer/0.3.3/platform.js&quot;></script>\n",
       "        <script>\n",
       "          function load() {\n",
       "            document.getElementById(&quot;graph0.61441209890617&quot;).pbtxt = 'node {\\n  name: &quot;my_input&quot;\\n  op: &quot;org.spark.DistributedLiteral&quot;\\n  device: &quot;/spark:0&quot;\\n  attr {\\n    key: &quot;locality&quot;\\n    value {\\n      s: &quot;Distributed&quot;\\n    }\\n  }\\n  attr {\\n    key: &quot;type&quot;\\n    value {\\n      s: &quot;double&quot;\\n    }\\n  }\\n  attr {\\n    key: &quot;zextra&quot;\\n    value {\\n      s: &quot;cell {  array_value {    values { double_value: 1.0 } values { double_value: 2.0 }  }}cell_type { array_type { basic_type: DOUBLE } }&quot;\\n    }\\n  }\\n}\\nnode {\\n  name: &quot;autocache0_ks_aggstruct&quot;\\n  op: &quot;org.spark.StructuredTransform&quot;\\n  input: &quot;my_input&quot;\\n  device: &quot;/spark:0&quot;\\n  attr {\\n    key: &quot;locality&quot;\\n    value {\\n      s: &quot;Distributed&quot;\\n    }\\n  }\\n  attr {\\n    key: &quot;type&quot;\\n    value {\\n      s: &quot;{_1:double _2:double}&quot;\\n    }\\n  }\\n  attr {\\n    key: &quot;zextra&quot;\\n    value {\\n      s: &quot;col_op {  struct {    fields { extraction { } field_name: ._1. }    fields {      function {        function_name: .inverse.        inputs { extraction { } }        expected_type { basic_type: DOUBLE }      }      field_name: ._2.    }  }}&quot;\\n    }\\n  }\\n}\\nnode {\\n  name: &quot;autocache0_ks_aggstruct_karps_merged_agg&quot;\\n  op: &quot;org.spark.StructuredReduce&quot;\\n  input: &quot;autocache0_ks_aggstruct&quot;\\n  device: &quot;/spark:0&quot;\\n  attr {\\n    key: &quot;locality&quot;\\n    value {\\n      s: &quot;Local&quot;\\n    }\\n  }\\n  attr {\\n    key: &quot;type&quot;\\n    value {\\n      s: &quot;{_1:int _2:double}&quot;\\n    }\\n  }\\n  attr {\\n    key: &quot;zextra&quot;\\n    value {\\n      s: &quot;agg_op {  struct {    fields {      op {        function_name: .count.        inputs { path: ._1. }        expected_type { basic_type: INT }      }      field_name: ._1.    }    fields {      op {        function_name: .sum.        inputs { path: ._2. }        expected_type { basic_type: DOUBLE }      }      field_name: ._2.    }  }}&quot;\\n    }\\n  }\\n}\\nnode {\\n  name: &quot;sum4&quot;\\n  op: &quot;org.spark.LocalStructuredTransform&quot;\\n  input: &quot;autocache0_ks_aggstruct_karps_merged_agg&quot;\\n  device: &quot;/spark:0&quot;\\n  attr {\\n    key: &quot;locality&quot;\\n    value {\\n      s: &quot;Local&quot;\\n    }\\n  }\\n  attr {\\n    key: &quot;type&quot;\\n    value {\\n      s: &quot;double&quot;\\n    }\\n  }\\n  attr {\\n    key: &quot;zextra&quot;\\n    value {\\n      s: &quot;col_op { extraction { path: ._2. } }&quot;\\n    }\\n  }\\n}\\nnode {\\n  name: &quot;inverse5&quot;\\n  op: &quot;org.spark.LocalStructuredTransform&quot;\\n  input: &quot;sum4&quot;\\n  device: &quot;/spark:0&quot;\\n  attr {\\n    key: &quot;locality&quot;\\n    value {\\n      s: &quot;Local&quot;\\n    }\\n  }\\n  attr {\\n    key: &quot;type&quot;\\n    value {\\n      s: &quot;double&quot;\\n    }\\n  }\\n  attr {\\n    key: &quot;zextra&quot;\\n    value {\\n      s: &quot;col_op {  function {    function_name: .inverse.    inputs { extraction { } }    expected_type { basic_type: DOUBLE }  }}&quot;\\n    }\\n  }\\n}\\nnode {\\n  name: &quot;count1&quot;\\n  op: &quot;org.spark.LocalStructuredTransform&quot;\\n  input: &quot;autocache0_ks_aggstruct_karps_merged_agg&quot;\\n  device: &quot;/spark:0&quot;\\n  attr {\\n    key: &quot;locality&quot;\\n    value {\\n      s: &quot;Local&quot;\\n    }\\n  }\\n  attr {\\n    key: &quot;type&quot;\\n    value {\\n      s: &quot;int&quot;\\n    }\\n  }\\n  attr {\\n    key: &quot;zextra&quot;\\n    value {\\n      s: &quot;col_op { extraction { path: ._1. } }&quot;\\n    }\\n  }\\n}\\nnode {\\n  name: &quot;cast_double2&quot;\\n  op: &quot;org.spark.LocalStructuredTransform&quot;\\n  input: &quot;count1&quot;\\n  device: &quot;/spark:0&quot;\\n  attr {\\n    key: &quot;locality&quot;\\n    value {\\n      s: &quot;Local&quot;\\n    }\\n  }\\n  attr {\\n    key: &quot;type&quot;\\n    value {\\n      s: &quot;double&quot;\\n    }\\n  }\\n  attr {\\n    key: &quot;zextra&quot;\\n    value {\\n      s: &quot;col_op {  function {    function_name: .cast_double.    inputs { extraction { } }    expected_type { basic_type: DOUBLE }  }}&quot;\\n    }\\n  }\\n}\\nnode {\\n  name: &quot;multiply6_karps_localpack&quot;\\n  op: &quot;org.spark.LocalPack&quot;\\n  input: &quot;inverse5&quot;\\n  input: &quot;cast_double2&quot;\\n  device: &quot;/spark:0&quot;\\n  attr {\\n    key: &quot;locality&quot;\\n    value {\\n      s: &quot;Local&quot;\\n    }\\n  }\\n  attr {\\n    key: &quot;type&quot;\\n    value {\\n      s: &quot;{_1:double _2:double}&quot;\\n    }\\n  }\\n  attr {\\n    key: &quot;zextra&quot;\\n    value {\\n      s: &quot;&quot;\\n    }\\n  }\\n}\\nnode {\\n  name: &quot;multiply6&quot;\\n  op: &quot;org.spark.LocalStructuredTransform&quot;\\n  input: &quot;multiply6_karps_localpack&quot;\\n  device: &quot;/spark:0&quot;\\n  attr {\\n    key: &quot;locality&quot;\\n    value {\\n      s: &quot;Local&quot;\\n    }\\n  }\\n  attr {\\n    key: &quot;type&quot;\\n    value {\\n      s: &quot;double&quot;\\n    }\\n  }\\n  attr {\\n    key: &quot;zextra&quot;\\n    value {\\n      s: &quot;col_op {  function {    function_name: .multiply.    inputs { extraction { path: ._1. } }    inputs { extraction { path: ._2. } }    expected_type { basic_type: DOUBLE }  }}&quot;\\n    }\\n  }\\n}\\n';\n",
       "          }\n",
       "        </script>\n",
       "        <link rel=&quot;import&quot; href=&quot;https://tensorboard.appspot.com/tf-graph-basic.build.html&quot; onload=load()>\n",
       "        <div style=&quot;height:600px&quot;>\n",
       "          <tf-graph-basic id=&quot;graph0.61441209890617&quot;></tf-graph-basic>\n",
       "        </div>\n",
       "    \"></iframe>\n",
       "    "
      ],
      "text/plain": [
       "<IPython.core.display.HTML object>"
      ]
     },
     "metadata": {},
     "output_type": "display_data"
    }
   ],
   "source": [
    "show_phase(comp, \"final\")"
   ]
  },
  {
   "cell_type": "markdown",
   "metadata": {},
   "source": [
    "More work could be done to simplify the local nodes, but this is outside the scope of this first project.\n",
    "\n",
    "As a conclusion, we wrote some minimalistic, poorly performing code in python. Karps turned it into high-performance operations that can then be optimized easily by the Spark SQL engine. In fact, this code in practice is faster than a UDAF because it can directly understood by Tungsten. In addition, this function can be reused inside aggregations with no change, as we will see.\n",
    "\n",
    "As a summary, karps lets you write the code you want to write, and turns it into a program that is:\n",
    " - faster (sometimes as fast or faster than manually crafted code)\n",
    " - reusable and easy to compose\n",
    " - easy to introspect thanks to tensorboard\n",
    " - easy to test independently\n"
   ]
  },
  {
   "cell_type": "markdown",
   "metadata": {},
   "source": [
    "And to get the actual values:"
   ]
  },
  {
   "cell_type": "code",
   "execution_count": 12,
   "metadata": {},
   "outputs": [
    {
     "data": {
      "text/plain": [
       "(double, double_value: 1.3333333333333333\n",
       ")"
      ]
     },
     "execution_count": 12,
     "metadata": {},
     "output_type": "execute_result"
    }
   ],
   "source": [
    "comp.values()"
   ]
  },
  {
   "cell_type": "markdown",
   "metadata": {},
   "source": [
    "Or in short if you do not want to see what is happening:"
   ]
  },
  {
   "cell_type": "code",
   "execution_count": 13,
   "metadata": {},
   "outputs": [
    {
     "data": {
      "text/plain": [
       "1.3333333333333333"
      ]
     },
     "execution_count": 13,
     "metadata": {},
     "output_type": "execute_result"
    }
   ],
   "source": [
    "s.eval(hmean)"
   ]
  },
  {
   "cell_type": "code",
   "execution_count": 14,
   "metadata": {},
   "outputs": [
    {
     "data": {
      "text/html": [
       "\n",
       "        <iframe seamless style=\"width:1000px;height:620px;border:0\" srcdoc=\"\n",
       "        <script src=&quot;//cdnjs.cloudflare.com/ajax/libs/polymer/0.3.3/platform.js&quot;></script>\n",
       "        <script>\n",
       "          function load() {\n",
       "            document.getElementById(&quot;graph0.8537679166300148&quot;).pbtxt = 'node {\\n  name: &quot;my_input/Project_0&quot;\\n  op: &quot;Project&quot;\\n  input: &quot;my_input/LocalRelation_1&quot;\\n  attr {\\n    key: &quot;hash&quot;\\n    value {\\n      s: &quot;-24245870&quot;\\n    }\\n  }\\n  attr {\\n    key: &quot;id&quot;\\n    value {\\n      s: &quot;1033908092&quot;\\n    }\\n  }\\n  attr {\\n    key: &quot;schema&quot;\\n    value {\\n      s: &quot;root\\\\n |-- value: double (nullable = false)\\\\n&quot;\\n    }\\n  }\\n  attr {\\n    key: &quot;simple&quot;\\n    value {\\n      s: &quot;Project [_1#0 AS value#3]&quot;\\n    }\\n  }\\n  attr {\\n    key: &quot;verbose&quot;\\n    value {\\n      s: &quot;Project [_1#0 AS value#3]&quot;\\n    }\\n  }\\n}\\nnode {\\n  name: &quot;my_input/LocalRelation_1&quot;\\n  op: &quot;LocalRelation&quot;\\n  attr {\\n    key: &quot;hash&quot;\\n    value {\\n      s: &quot;-1099035952&quot;\\n    }\\n  }\\n  attr {\\n    key: &quot;id&quot;\\n    value {\\n      s: &quot;240810464&quot;\\n    }\\n  }\\n  attr {\\n    key: &quot;schema&quot;\\n    value {\\n      s: &quot;root\\\\n |-- _1: double (nullable = false)\\\\n&quot;\\n    }\\n  }\\n  attr {\\n    key: &quot;simple&quot;\\n    value {\\n      s: &quot;LocalRelation [_1#0]&quot;\\n    }\\n  }\\n  attr {\\n    key: &quot;verbose&quot;\\n    value {\\n      s: &quot;LocalRelation [_1#0]&quot;\\n    }\\n  }\\n}\\nnode {\\n  name: &quot;autocache0_ks_aggstruct/LogicalRDD_0&quot;\\n  op: &quot;LogicalRDD&quot;\\n  input: &quot;^my_input/Project_0&quot;\\n  attr {\\n    key: &quot;hash&quot;\\n    value {\\n      s: &quot;-1457381824&quot;\\n    }\\n  }\\n  attr {\\n    key: &quot;id&quot;\\n    value {\\n      s: &quot;772624127&quot;\\n    }\\n  }\\n  attr {\\n    key: &quot;schema&quot;\\n    value {\\n      s: &quot;root\\\\n |-- _1: double (nullable = false)\\\\n |-- _2: double (nullable = true)\\\\n&quot;\\n    }\\n  }\\n  attr {\\n    key: &quot;simple&quot;\\n    value {\\n      s: &quot;LogicalRDD [_1#22, _2#23]&quot;\\n    }\\n  }\\n  attr {\\n    key: &quot;verbose&quot;\\n    value {\\n      s: &quot;LogicalRDD [_1#22, _2#23]&quot;\\n    }\\n  }\\n}\\nnode {\\n  name: &quot;autocache0_ks_aggstruct_karps_merged_agg/LogicalRDD_0&quot;\\n  op: &quot;LogicalRDD&quot;\\n  input: &quot;^autocache0_ks_aggstruct/LogicalRDD_0&quot;\\n  attr {\\n    key: &quot;hash&quot;\\n    value {\\n      s: &quot;-1631979342&quot;\\n    }\\n  }\\n  attr {\\n    key: &quot;id&quot;\\n    value {\\n      s: &quot;2006692238&quot;\\n    }\\n  }\\n  attr {\\n    key: &quot;schema&quot;\\n    value {\\n      s: &quot;root\\\\n |-- _1: long (nullable = false)\\\\n |-- _2: double (nullable = true)\\\\n&quot;\\n    }\\n  }\\n  attr {\\n    key: &quot;simple&quot;\\n    value {\\n      s: &quot;LogicalRDD [_1#60L, _2#61]&quot;\\n    }\\n  }\\n  attr {\\n    key: &quot;verbose&quot;\\n    value {\\n      s: &quot;LogicalRDD [_1#60L, _2#61]&quot;\\n    }\\n  }\\n}\\nnode {\\n  name: &quot;sum4/Project_0&quot;\\n  op: &quot;Project&quot;\\n  input: &quot;sum4/Project_1&quot;\\n  input: &quot;^autocache0_ks_aggstruct_karps_merged_agg/LogicalRDD_0&quot;\\n  attr {\\n    key: &quot;hash&quot;\\n    value {\\n      s: &quot;109363025&quot;\\n    }\\n  }\\n  attr {\\n    key: &quot;id&quot;\\n    value {\\n      s: &quot;1265684886&quot;\\n    }\\n  }\\n  attr {\\n    key: &quot;schema&quot;\\n    value {\\n      s: &quot;root\\\\n |-- value: double (nullable = false)\\\\n&quot;\\n    }\\n  }\\n  attr {\\n    key: &quot;simple&quot;\\n    value {\\n      s: &quot;Project [named_struct(_1, _1, _2, _2)._2#72 AS value#75]&quot;\\n    }\\n  }\\n  attr {\\n    key: &quot;verbose&quot;\\n    value {\\n      s: &quot;Project [named_struct(_1, _1, _2, _2)._2#72 AS value#75]&quot;\\n    }\\n  }\\n}\\nnode {\\n  name: &quot;sum4/Project_1&quot;\\n  op: &quot;Project&quot;\\n  input: &quot;sum4/LocalRelation_2&quot;\\n  input: &quot;^autocache0_ks_aggstruct_karps_merged_agg/LogicalRDD_0&quot;\\n  attr {\\n    key: &quot;hash&quot;\\n    value {\\n      s: &quot;1764124464&quot;\\n    }\\n  }\\n  attr {\\n    key: &quot;id&quot;\\n    value {\\n      s: &quot;1570945995&quot;\\n    }\\n  }\\n  attr {\\n    key: &quot;schema&quot;\\n    value {\\n      s: &quot;root\\\\n |-- named_struct(_1, _1, _2, _2)._2: double (nullable = false)\\\\n&quot;\\n    }\\n  }\\n  attr {\\n    key: &quot;simple&quot;\\n    value {\\n      s: &quot;Project [named_struct(_1, _1#67, _2, _2#68)._2 AS named_struct(_1, _1, _2, _2)._2#72]&quot;\\n    }\\n  }\\n  attr {\\n    key: &quot;verbose&quot;\\n    value {\\n      s: &quot;Project [named_struct(_1, _1#67, _2, _2#68)._2 AS named_struct(_1, _1, _2, _2)._2#72]&quot;\\n    }\\n  }\\n}\\nnode {\\n  name: &quot;sum4/LocalRelation_2&quot;\\n  op: &quot;LocalRelation&quot;\\n  input: &quot;^autocache0_ks_aggstruct_karps_merged_agg/LogicalRDD_0&quot;\\n  attr {\\n    key: &quot;hash&quot;\\n    value {\\n      s: &quot;784424197&quot;\\n    }\\n  }\\n  attr {\\n    key: &quot;id&quot;\\n    value {\\n      s: &quot;829219858&quot;\\n    }\\n  }\\n  attr {\\n    key: &quot;schema&quot;\\n    value {\\n      s: &quot;root\\\\n |-- _1: integer (nullable = false)\\\\n |-- _2: double (nullable = false)\\\\n&quot;\\n    }\\n  }\\n  attr {\\n    key: &quot;simple&quot;\\n    value {\\n      s: &quot;LocalRelation [_1#67, _2#68]&quot;\\n    }\\n  }\\n  attr {\\n    key: &quot;verbose&quot;\\n    value {\\n      s: &quot;LocalRelation [_1#67, _2#68]&quot;\\n    }\\n  }\\n}\\nnode {\\n  name: &quot;count1/Project_0&quot;\\n  op: &quot;Project&quot;\\n  input: &quot;count1/Project_1&quot;\\n  input: &quot;^autocache0_ks_aggstruct_karps_merged_agg/LogicalRDD_0&quot;\\n  attr {\\n    key: &quot;hash&quot;\\n    value {\\n      s: &quot;-211990229&quot;\\n    }\\n  }\\n  attr {\\n    key: &quot;id&quot;\\n    value {\\n      s: &quot;1680865319&quot;\\n    }\\n  }\\n  attr {\\n    key: &quot;schema&quot;\\n    value {\\n      s: &quot;root\\\\n |-- value: integer (nullable = false)\\\\n&quot;\\n    }\\n  }\\n  attr {\\n    key: &quot;simple&quot;\\n    value {\\n      s: &quot;Project [named_struct(_1, _1, _2, _2)._1#85 AS value#88]&quot;\\n    }\\n  }\\n  attr {\\n    key: &quot;verbose&quot;\\n    value {\\n      s: &quot;Project [named_struct(_1, _1, _2, _2)._1#85 AS value#88]&quot;\\n    }\\n  }\\n}\\nnode {\\n  name: &quot;count1/Project_1&quot;\\n  op: &quot;Project&quot;\\n  input: &quot;count1/LocalRelation_2&quot;\\n  input: &quot;^autocache0_ks_aggstruct_karps_merged_agg/LogicalRDD_0&quot;\\n  attr {\\n    key: &quot;hash&quot;\\n    value {\\n      s: &quot;785874916&quot;\\n    }\\n  }\\n  attr {\\n    key: &quot;id&quot;\\n    value {\\n      s: &quot;560341972&quot;\\n    }\\n  }\\n  attr {\\n    key: &quot;schema&quot;\\n    value {\\n      s: &quot;root\\\\n |-- named_struct(_1, _1, _2, _2)._1: integer (nullable = false)\\\\n&quot;\\n    }\\n  }\\n  attr {\\n    key: &quot;simple&quot;\\n    value {\\n      s: &quot;Project [named_struct(_1, _1#80, _2, _2#81)._1 AS named_struct(_1, _1, _2, _2)._1#85]&quot;\\n    }\\n  }\\n  attr {\\n    key: &quot;verbose&quot;\\n    value {\\n      s: &quot;Project [named_struct(_1, _1#80, _2, _2#81)._1 AS named_struct(_1, _1, _2, _2)._1#85]&quot;\\n    }\\n  }\\n}\\nnode {\\n  name: &quot;count1/LocalRelation_2&quot;\\n  op: &quot;LocalRelation&quot;\\n  input: &quot;^autocache0_ks_aggstruct_karps_merged_agg/LogicalRDD_0&quot;\\n  attr {\\n    key: &quot;hash&quot;\\n    value {\\n      s: &quot;480187001&quot;\\n    }\\n  }\\n  attr {\\n    key: &quot;id&quot;\\n    value {\\n      s: &quot;83424856&quot;\\n    }\\n  }\\n  attr {\\n    key: &quot;schema&quot;\\n    value {\\n      s: &quot;root\\\\n |-- _1: integer (nullable = false)\\\\n |-- _2: double (nullable = false)\\\\n&quot;\\n    }\\n  }\\n  attr {\\n    key: &quot;simple&quot;\\n    value {\\n      s: &quot;LocalRelation [_1#80, _2#81]&quot;\\n    }\\n  }\\n  attr {\\n    key: &quot;verbose&quot;\\n    value {\\n      s: &quot;LocalRelation [_1#80, _2#81]&quot;\\n    }\\n  }\\n}\\nnode {\\n  name: &quot;inverse5/Project_0&quot;\\n  op: &quot;Project&quot;\\n  input: &quot;inverse5/Project_1&quot;\\n  input: &quot;^sum4/Project_0&quot;\\n  attr {\\n    key: &quot;hash&quot;\\n    value {\\n      s: &quot;-1348630810&quot;\\n    }\\n  }\\n  attr {\\n    key: &quot;id&quot;\\n    value {\\n      s: &quot;1361548584&quot;\\n    }\\n  }\\n  attr {\\n    key: &quot;schema&quot;\\n    value {\\n      s: &quot;root\\\\n |-- value: double (nullable = true)\\\\n&quot;\\n    }\\n  }\\n  attr {\\n    key: &quot;simple&quot;\\n    value {\\n      s: &quot;Project [(1.0 / value)#102 AS value#105]&quot;\\n    }\\n  }\\n  attr {\\n    key: &quot;verbose&quot;\\n    value {\\n      s: &quot;Project [(1.0 / value)#102 AS value#105]&quot;\\n    }\\n  }\\n}\\nnode {\\n  name: &quot;inverse5/Project_1&quot;\\n  op: &quot;Project&quot;\\n  input: &quot;inverse5/Project_2&quot;\\n  input: &quot;^sum4/Project_0&quot;\\n  attr {\\n    key: &quot;hash&quot;\\n    value {\\n      s: &quot;1969619291&quot;\\n    }\\n  }\\n  attr {\\n    key: &quot;id&quot;\\n    value {\\n      s: &quot;1244884417&quot;\\n    }\\n  }\\n  attr {\\n    key: &quot;schema&quot;\\n    value {\\n      s: &quot;root\\\\n |-- (1.0 / value): double (nullable = true)\\\\n&quot;\\n    }\\n  }\\n  attr {\\n    key: &quot;simple&quot;\\n    value {\\n      s: &quot;Project [(1.0 / value#96) AS (1.0 / value)#102]&quot;\\n    }\\n  }\\n  attr {\\n    key: &quot;verbose&quot;\\n    value {\\n      s: &quot;Project [(1.0 / value#96) AS (1.0 / value)#102]&quot;\\n    }\\n  }\\n}\\nnode {\\n  name: &quot;inverse5/Project_2&quot;\\n  op: &quot;Project&quot;\\n  input: &quot;inverse5/LocalRelation_3&quot;\\n  input: &quot;^sum4/Project_0&quot;\\n  attr {\\n    key: &quot;hash&quot;\\n    value {\\n      s: &quot;1343004374&quot;\\n    }\\n  }\\n  attr {\\n    key: &quot;id&quot;\\n    value {\\n      s: &quot;540637190&quot;\\n    }\\n  }\\n  attr {\\n    key: &quot;schema&quot;\\n    value {\\n      s: &quot;root\\\\n |-- value: double (nullable = false)\\\\n&quot;\\n    }\\n  }\\n  attr {\\n    key: &quot;simple&quot;\\n    value {\\n      s: &quot;Project [_1#93 AS value#96]&quot;\\n    }\\n  }\\n  attr {\\n    key: &quot;verbose&quot;\\n    value {\\n      s: &quot;Project [_1#93 AS value#96]&quot;\\n    }\\n  }\\n}\\nnode {\\n  name: &quot;inverse5/LocalRelation_3&quot;\\n  op: &quot;LocalRelation&quot;\\n  input: &quot;^sum4/Project_0&quot;\\n  attr {\\n    key: &quot;hash&quot;\\n    value {\\n      s: &quot;1013308200&quot;\\n    }\\n  }\\n  attr {\\n    key: &quot;id&quot;\\n    value {\\n      s: &quot;611544884&quot;\\n    }\\n  }\\n  attr {\\n    key: &quot;schema&quot;\\n    value {\\n      s: &quot;root\\\\n |-- _1: double (nullable = false)\\\\n&quot;\\n    }\\n  }\\n  attr {\\n    key: &quot;simple&quot;\\n    value {\\n      s: &quot;LocalRelation [_1#93]&quot;\\n    }\\n  }\\n  attr {\\n    key: &quot;verbose&quot;\\n    value {\\n      s: &quot;LocalRelation [_1#93]&quot;\\n    }\\n  }\\n}\\nnode {\\n  name: &quot;cast_double2/Project_0&quot;\\n  op: &quot;Project&quot;\\n  input: &quot;cast_double2/Project_1&quot;\\n  input: &quot;^count1/Project_0&quot;\\n  attr {\\n    key: &quot;hash&quot;\\n    value {\\n      s: &quot;-717663795&quot;\\n    }\\n  }\\n  attr {\\n    key: &quot;id&quot;\\n    value {\\n      s: &quot;1712286452&quot;\\n    }\\n  }\\n  attr {\\n    key: &quot;schema&quot;\\n    value {\\n      s: &quot;root\\\\n |-- value: double (nullable = false)\\\\n&quot;\\n    }\\n  }\\n  attr {\\n    key: &quot;simple&quot;\\n    value {\\n      s: &quot;Project [cast(value#113 as double) AS value#119]&quot;\\n    }\\n  }\\n  attr {\\n    key: &quot;verbose&quot;\\n    value {\\n      s: &quot;Project [cast(value#113 as double) AS value#119]&quot;\\n    }\\n  }\\n}\\nnode {\\n  name: &quot;cast_double2/Project_1&quot;\\n  op: &quot;Project&quot;\\n  input: &quot;cast_double2/LocalRelation_2&quot;\\n  input: &quot;^count1/Project_0&quot;\\n  attr {\\n    key: &quot;hash&quot;\\n    value {\\n      s: &quot;1344003485&quot;\\n    }\\n  }\\n  attr {\\n    key: &quot;id&quot;\\n    value {\\n      s: &quot;1441840123&quot;\\n    }\\n  }\\n  attr {\\n    key: &quot;schema&quot;\\n    value {\\n      s: &quot;root\\\\n |-- value: integer (nullable = false)\\\\n&quot;\\n    }\\n  }\\n  attr {\\n    key: &quot;simple&quot;\\n    value {\\n      s: &quot;Project [_1#110 AS value#113]&quot;\\n    }\\n  }\\n  attr {\\n    key: &quot;verbose&quot;\\n    value {\\n      s: &quot;Project [_1#110 AS value#113]&quot;\\n    }\\n  }\\n}\\nnode {\\n  name: &quot;cast_double2/LocalRelation_2&quot;\\n  op: &quot;LocalRelation&quot;\\n  input: &quot;^count1/Project_0&quot;\\n  attr {\\n    key: &quot;hash&quot;\\n    value {\\n      s: &quot;496774456&quot;\\n    }\\n  }\\n  attr {\\n    key: &quot;id&quot;\\n    value {\\n      s: &quot;2011424896&quot;\\n    }\\n  }\\n  attr {\\n    key: &quot;schema&quot;\\n    value {\\n      s: &quot;root\\\\n |-- _1: integer (nullable = false)\\\\n&quot;\\n    }\\n  }\\n  attr {\\n    key: &quot;simple&quot;\\n    value {\\n      s: &quot;LocalRelation [_1#110]&quot;\\n    }\\n  }\\n  attr {\\n    key: &quot;verbose&quot;\\n    value {\\n      s: &quot;LocalRelation [_1#110]&quot;\\n    }\\n  }\\n}\\nnode {\\n  name: &quot;multiply6_karps_localpack/LocalRelation_0&quot;\\n  op: &quot;LocalRelation&quot;\\n  input: &quot;^inverse5/Project_0&quot;\\n  input: &quot;^cast_double2/Project_0&quot;\\n  attr {\\n    key: &quot;hash&quot;\\n    value {\\n      s: &quot;1138217697&quot;\\n    }\\n  }\\n  attr {\\n    key: &quot;id&quot;\\n    value {\\n      s: &quot;1583552342&quot;\\n    }\\n  }\\n  attr {\\n    key: &quot;schema&quot;\\n    value {\\n      s: &quot;root\\\\n |-- _1: double (nullable = false)\\\\n |-- _2: double (nullable = false)\\\\n&quot;\\n    }\\n  }\\n  attr {\\n    key: &quot;simple&quot;\\n    value {\\n      s: &quot;LocalRelation [_1#125, _2#126]&quot;\\n    }\\n  }\\n  attr {\\n    key: &quot;verbose&quot;\\n    value {\\n      s: &quot;LocalRelation [_1#125, _2#126]&quot;\\n    }\\n  }\\n}\\nnode {\\n  name: &quot;multiply6/Project_0&quot;\\n  op: &quot;Project&quot;\\n  input: &quot;multiply6/Project_1&quot;\\n  input: &quot;^multiply6_karps_localpack/LocalRelation_0&quot;\\n  attr {\\n    key: &quot;hash&quot;\\n    value {\\n      s: &quot;-395299769&quot;\\n    }\\n  }\\n  attr {\\n    key: &quot;id&quot;\\n    value {\\n      s: &quot;1139798751&quot;\\n    }\\n  }\\n  attr {\\n    key: &quot;schema&quot;\\n    value {\\n      s: &quot;root\\\\n |-- value: double (nullable = false)\\\\n&quot;\\n    }\\n  }\\n  attr {\\n    key: &quot;simple&quot;\\n    value {\\n      s: &quot;Project [(named_struct(_1, _1, _2, _2)[\\\\\\'_1\\\\\\'] * named_struct(_1, _1, _2, _2)[\\\\\\'_2\\\\\\'])#140 AS value#143]&quot;\\n    }\\n  }\\n  attr {\\n    key: &quot;verbose&quot;\\n    value {\\n      s: &quot;Project [(named_struct(_1, _1, _2, _2)[\\\\\\'_1\\\\\\'] * named_struct(_1, _1, _2, _2)[\\\\\\'_2\\\\\\'])#140 AS value#143]&quot;\\n    }\\n  }\\n}\\nnode {\\n  name: &quot;multiply6/Project_1&quot;\\n  op: &quot;Project&quot;\\n  input: &quot;multiply6/LocalRelation_2&quot;\\n  input: &quot;^multiply6_karps_localpack/LocalRelation_0&quot;\\n  attr {\\n    key: &quot;hash&quot;\\n    value {\\n      s: &quot;-1745888751&quot;\\n    }\\n  }\\n  attr {\\n    key: &quot;id&quot;\\n    value {\\n      s: &quot;789912001&quot;\\n    }\\n  }\\n  attr {\\n    key: &quot;schema&quot;\\n    value {\\n      s: &quot;root\\\\n |-- (named_struct(_1, _1, _2, _2)[\\\\\\'_1\\\\\\'] * named_struct(_1, _1, _2, _2)[\\\\\\'_2\\\\\\']): double (nullable = false)\\\\n&quot;\\n    }\\n  }\\n  attr {\\n    key: &quot;simple&quot;\\n    value {\\n      s: &quot;Project [(named_struct(_1, _1#132, _2, _2#133)._1 * named_struct(_1, _1#132, _2, _2#133)._2) AS (named_struct(_1, _1, _2, _2)[\\\\\\'_1\\\\\\'] * named_struct(_1, _1, _2, _2)[\\\\\\'_2\\\\\\'])#140]&quot;\\n    }\\n  }\\n  attr {\\n    key: &quot;verbose&quot;\\n    value {\\n      s: &quot;Project [(named_struct(_1, _1#132, _2, _2#133)._1 * named_struct(_1, _1#132, _2, _2#133)._2) AS (named_struct(_1, _1, _2, _2)[\\\\\\'_1\\\\\\'] * named_struct(_1, _1, _2, _2)[\\\\\\'_2\\\\\\'])#140]&quot;\\n    }\\n  }\\n}\\nnode {\\n  name: &quot;multiply6/LocalRelation_2&quot;\\n  op: &quot;LocalRelation&quot;\\n  input: &quot;^multiply6_karps_localpack/LocalRelation_0&quot;\\n  attr {\\n    key: &quot;hash&quot;\\n    value {\\n      s: &quot;241877942&quot;\\n    }\\n  }\\n  attr {\\n    key: &quot;id&quot;\\n    value {\\n      s: &quot;1309198226&quot;\\n    }\\n  }\\n  attr {\\n    key: &quot;schema&quot;\\n    value {\\n      s: &quot;root\\\\n |-- _1: double (nullable = false)\\\\n |-- _2: double (nullable = false)\\\\n&quot;\\n    }\\n  }\\n  attr {\\n    key: &quot;simple&quot;\\n    value {\\n      s: &quot;LocalRelation [_1#132, _2#133]&quot;\\n    }\\n  }\\n  attr {\\n    key: &quot;verbose&quot;\\n    value {\\n      s: &quot;LocalRelation [_1#132, _2#133]&quot;\\n    }\\n  }\\n}\\n';\n",
       "          }\n",
       "        </script>\n",
       "        <link rel=&quot;import&quot; href=&quot;https://tensorboard.appspot.com/tf-graph-basic.build.html&quot; onload=load()>\n",
       "        <div style=&quot;height:600px&quot;>\n",
       "          <tf-graph-basic id=&quot;graph0.8537679166300148&quot;></tf-graph-basic>\n",
       "        </div>\n",
       "    \"></iframe>\n",
       "    "
      ],
      "text/plain": [
       "<IPython.core.display.HTML object>"
      ]
     },
     "metadata": {},
     "output_type": "display_data"
    }
   ],
   "source": [
    "show_phase(comp, \"parsed\")"
   ]
  },
  {
   "cell_type": "code",
   "execution_count": 15,
   "metadata": {},
   "outputs": [
    {
     "data": {
      "text/html": [
       "\n",
       "        <iframe seamless style=\"width:1000px;height:620px;border:0\" srcdoc=\"\n",
       "        <script src=&quot;//cdnjs.cloudflare.com/ajax/libs/polymer/0.3.3/platform.js&quot;></script>\n",
       "        <script>\n",
       "          function load() {\n",
       "            document.getElementById(&quot;graph0.6628418198958687&quot;).pbtxt = 'node {\\n  name: &quot;my_input/LocalTableScan_0&quot;\\n  op: &quot;LocalTableScan&quot;\\n  attr {\\n    key: &quot;hash&quot;\\n    value {\\n      s: &quot;-304454744&quot;\\n    }\\n  }\\n  attr {\\n    key: &quot;id&quot;\\n    value {\\n      s: &quot;588026783&quot;\\n    }\\n  }\\n  attr {\\n    key: &quot;schema&quot;\\n    value {\\n      s: &quot;root\\\\n |-- value: double (nullable = false)\\\\n&quot;\\n    }\\n  }\\n  attr {\\n    key: &quot;simple&quot;\\n    value {\\n      s: &quot;LocalTableScan [value#3]&quot;\\n    }\\n  }\\n  attr {\\n    key: &quot;verbose&quot;\\n    value {\\n      s: &quot;LocalTableScan [value#3]&quot;\\n    }\\n  }\\n}\\nnode {\\n  name: &quot;autocache0_ks_aggstruct/Scan_ExistingRDD_0&quot;\\n  op: &quot;Scan_ExistingRDD&quot;\\n  input: &quot;^my_input/LocalTableScan_0&quot;\\n  attr {\\n    key: &quot;hash&quot;\\n    value {\\n      s: &quot;-1568557383&quot;\\n    }\\n  }\\n  attr {\\n    key: &quot;id&quot;\\n    value {\\n      s: &quot;173925134&quot;\\n    }\\n  }\\n  attr {\\n    key: &quot;schema&quot;\\n    value {\\n      s: &quot;root\\\\n |-- _1: double (nullable = false)\\\\n |-- _2: double (nullable = true)\\\\n&quot;\\n    }\\n  }\\n  attr {\\n    key: &quot;simple&quot;\\n    value {\\n      s: &quot;Scan ExistingRDD[_1#22,_2#23]&quot;\\n    }\\n  }\\n  attr {\\n    key: &quot;verbose&quot;\\n    value {\\n      s: &quot;Scan ExistingRDD[_1#22,_2#23]&quot;\\n    }\\n  }\\n}\\nnode {\\n  name: &quot;autocache0_ks_aggstruct_karps_merged_agg/Scan_ExistingRDD_0&quot;\\n  op: &quot;Scan_ExistingRDD&quot;\\n  input: &quot;^autocache0_ks_aggstruct/Scan_ExistingRDD_0&quot;\\n  attr {\\n    key: &quot;hash&quot;\\n    value {\\n      s: &quot;779933196&quot;\\n    }\\n  }\\n  attr {\\n    key: &quot;id&quot;\\n    value {\\n      s: &quot;376640317&quot;\\n    }\\n  }\\n  attr {\\n    key: &quot;schema&quot;\\n    value {\\n      s: &quot;root\\\\n |-- _1: long (nullable = false)\\\\n |-- _2: double (nullable = true)\\\\n&quot;\\n    }\\n  }\\n  attr {\\n    key: &quot;simple&quot;\\n    value {\\n      s: &quot;Scan ExistingRDD[_1#60L,_2#61]&quot;\\n    }\\n  }\\n  attr {\\n    key: &quot;verbose&quot;\\n    value {\\n      s: &quot;Scan ExistingRDD[_1#60L,_2#61]&quot;\\n    }\\n  }\\n}\\nnode {\\n  name: &quot;sum4/LocalTableScan_0&quot;\\n  op: &quot;LocalTableScan&quot;\\n  input: &quot;^autocache0_ks_aggstruct_karps_merged_agg/Scan_ExistingRDD_0&quot;\\n  attr {\\n    key: &quot;hash&quot;\\n    value {\\n      s: &quot;-609544841&quot;\\n    }\\n  }\\n  attr {\\n    key: &quot;id&quot;\\n    value {\\n      s: &quot;1950140473&quot;\\n    }\\n  }\\n  attr {\\n    key: &quot;schema&quot;\\n    value {\\n      s: &quot;root\\\\n |-- value: double (nullable = false)\\\\n&quot;\\n    }\\n  }\\n  attr {\\n    key: &quot;simple&quot;\\n    value {\\n      s: &quot;LocalTableScan [value#75]&quot;\\n    }\\n  }\\n  attr {\\n    key: &quot;verbose&quot;\\n    value {\\n      s: &quot;LocalTableScan [value#75]&quot;\\n    }\\n  }\\n}\\nnode {\\n  name: &quot;count1/LocalTableScan_0&quot;\\n  op: &quot;LocalTableScan&quot;\\n  input: &quot;^autocache0_ks_aggstruct_karps_merged_agg/Scan_ExistingRDD_0&quot;\\n  attr {\\n    key: &quot;hash&quot;\\n    value {\\n      s: &quot;-1667162295&quot;\\n    }\\n  }\\n  attr {\\n    key: &quot;id&quot;\\n    value {\\n      s: &quot;2046443384&quot;\\n    }\\n  }\\n  attr {\\n    key: &quot;schema&quot;\\n    value {\\n      s: &quot;root\\\\n |-- value: integer (nullable = false)\\\\n&quot;\\n    }\\n  }\\n  attr {\\n    key: &quot;simple&quot;\\n    value {\\n      s: &quot;LocalTableScan [value#88]&quot;\\n    }\\n  }\\n  attr {\\n    key: &quot;verbose&quot;\\n    value {\\n      s: &quot;LocalTableScan [value#88]&quot;\\n    }\\n  }\\n}\\nnode {\\n  name: &quot;inverse5/LocalTableScan_0&quot;\\n  op: &quot;LocalTableScan&quot;\\n  input: &quot;^sum4/LocalTableScan_0&quot;\\n  attr {\\n    key: &quot;hash&quot;\\n    value {\\n      s: &quot;1012522415&quot;\\n    }\\n  }\\n  attr {\\n    key: &quot;id&quot;\\n    value {\\n      s: &quot;1225797703&quot;\\n    }\\n  }\\n  attr {\\n    key: &quot;schema&quot;\\n    value {\\n      s: &quot;root\\\\n |-- value: double (nullable = true)\\\\n&quot;\\n    }\\n  }\\n  attr {\\n    key: &quot;simple&quot;\\n    value {\\n      s: &quot;LocalTableScan [value#105]&quot;\\n    }\\n  }\\n  attr {\\n    key: &quot;verbose&quot;\\n    value {\\n      s: &quot;LocalTableScan [value#105]&quot;\\n    }\\n  }\\n}\\nnode {\\n  name: &quot;cast_double2/LocalTableScan_0&quot;\\n  op: &quot;LocalTableScan&quot;\\n  input: &quot;^count1/LocalTableScan_0&quot;\\n  attr {\\n    key: &quot;hash&quot;\\n    value {\\n      s: &quot;-152675258&quot;\\n    }\\n  }\\n  attr {\\n    key: &quot;id&quot;\\n    value {\\n      s: &quot;1004384140&quot;\\n    }\\n  }\\n  attr {\\n    key: &quot;schema&quot;\\n    value {\\n      s: &quot;root\\\\n |-- value: double (nullable = false)\\\\n&quot;\\n    }\\n  }\\n  attr {\\n    key: &quot;simple&quot;\\n    value {\\n      s: &quot;LocalTableScan [value#119]&quot;\\n    }\\n  }\\n  attr {\\n    key: &quot;verbose&quot;\\n    value {\\n      s: &quot;LocalTableScan [value#119]&quot;\\n    }\\n  }\\n}\\nnode {\\n  name: &quot;multiply6_karps_localpack/LocalTableScan_0&quot;\\n  op: &quot;LocalTableScan&quot;\\n  input: &quot;^inverse5/LocalTableScan_0&quot;\\n  input: &quot;^cast_double2/LocalTableScan_0&quot;\\n  attr {\\n    key: &quot;hash&quot;\\n    value {\\n      s: &quot;1138217697&quot;\\n    }\\n  }\\n  attr {\\n    key: &quot;id&quot;\\n    value {\\n      s: &quot;102466250&quot;\\n    }\\n  }\\n  attr {\\n    key: &quot;schema&quot;\\n    value {\\n      s: &quot;root\\\\n |-- _1: double (nullable = false)\\\\n |-- _2: double (nullable = false)\\\\n&quot;\\n    }\\n  }\\n  attr {\\n    key: &quot;simple&quot;\\n    value {\\n      s: &quot;LocalTableScan [_1#125, _2#126]&quot;\\n    }\\n  }\\n  attr {\\n    key: &quot;verbose&quot;\\n    value {\\n      s: &quot;LocalTableScan [_1#125, _2#126]&quot;\\n    }\\n  }\\n}\\nnode {\\n  name: &quot;multiply6/LocalTableScan_0&quot;\\n  op: &quot;LocalTableScan&quot;\\n  input: &quot;^multiply6_karps_localpack/LocalTableScan_0&quot;\\n  attr {\\n    key: &quot;hash&quot;\\n    value {\\n      s: &quot;1662887401&quot;\\n    }\\n  }\\n  attr {\\n    key: &quot;id&quot;\\n    value {\\n      s: &quot;790820364&quot;\\n    }\\n  }\\n  attr {\\n    key: &quot;schema&quot;\\n    value {\\n      s: &quot;root\\\\n |-- value: double (nullable = false)\\\\n&quot;\\n    }\\n  }\\n  attr {\\n    key: &quot;simple&quot;\\n    value {\\n      s: &quot;LocalTableScan [value#143]&quot;\\n    }\\n  }\\n  attr {\\n    key: &quot;verbose&quot;\\n    value {\\n      s: &quot;LocalTableScan [value#143]&quot;\\n    }\\n  }\\n}\\n';\n",
       "          }\n",
       "        </script>\n",
       "        <link rel=&quot;import&quot; href=&quot;https://tensorboard.appspot.com/tf-graph-basic.build.html&quot; onload=load()>\n",
       "        <div style=&quot;height:600px&quot;>\n",
       "          <tf-graph-basic id=&quot;graph0.6628418198958687&quot;></tf-graph-basic>\n",
       "        </div>\n",
       "    \"></iframe>\n",
       "    "
      ],
      "text/plain": [
       "<IPython.core.display.HTML object>"
      ]
     },
     "metadata": {},
     "output_type": "display_data"
    }
   ],
   "source": [
    "show_phase(comp, \"physical\")"
   ]
  },
  {
   "cell_type": "code",
   "execution_count": 16,
   "metadata": {},
   "outputs": [
    {
     "data": {
      "text/html": [
       "\n",
       "        <iframe seamless style=\"width:1000px;height:620px;border:0\" srcdoc=\"\n",
       "        <script src=&quot;//cdnjs.cloudflare.com/ajax/libs/polymer/0.3.3/platform.js&quot;></script>\n",
       "        <script>\n",
       "          function load() {\n",
       "            document.getElementById(&quot;graph0.7268585281227636&quot;).pbtxt = 'node {\\n  name: &quot;my_input/ParallelCollectionRDD_0&quot;\\n  op: &quot;ParallelCollectionRDD&quot;\\n  attr {\\n    key: &quot;name&quot;\\n    value {\\n      s: &quot;ParallelCollectionRDD&quot;\\n    }\\n  }\\n}\\nnode {\\n  name: &quot;my_input/MapPartitionsRDD_1&quot;\\n  op: &quot;MapPartitionsRDD&quot;\\n  input: &quot;my_input/ParallelCollectionRDD_0&quot;\\n  attr {\\n    key: &quot;name&quot;\\n    value {\\n      s: &quot;MapPartitionsRDD&quot;\\n    }\\n  }\\n}\\nnode {\\n  name: &quot;autocache0_ks_aggstruct/ParallelCollectionRDD_2&quot;\\n  op: &quot;ParallelCollectionRDD&quot;\\n  input: &quot;^my_input/MapPartitionsRDD_1&quot;\\n  attr {\\n    key: &quot;name&quot;\\n    value {\\n      s: &quot;ParallelCollectionRDD&quot;\\n    }\\n  }\\n}\\nnode {\\n  name: &quot;autocache0_ks_aggstruct/MapPartitionsRDD_3&quot;\\n  op: &quot;MapPartitionsRDD&quot;\\n  input: &quot;autocache0_ks_aggstruct/ParallelCollectionRDD_2&quot;\\n  attr {\\n    key: &quot;name&quot;\\n    value {\\n      s: &quot;MapPartitionsRDD&quot;\\n    }\\n  }\\n}\\nnode {\\n  name: &quot;autocache0_ks_aggstruct/MapPartitionsRDD_4&quot;\\n  op: &quot;MapPartitionsRDD&quot;\\n  input: &quot;autocache0_ks_aggstruct/MapPartitionsRDD_3&quot;\\n  attr {\\n    key: &quot;name&quot;\\n    value {\\n      s: &quot;MapPartitionsRDD&quot;\\n    }\\n  }\\n}\\nnode {\\n  name: &quot;autocache0_ks_aggstruct/MapPartitionsRDD_5&quot;\\n  op: &quot;MapPartitionsRDD&quot;\\n  input: &quot;autocache0_ks_aggstruct/MapPartitionsRDD_4&quot;\\n  attr {\\n    key: &quot;name&quot;\\n    value {\\n      s: &quot;MapPartitionsRDD&quot;\\n    }\\n  }\\n}\\nnode {\\n  name: &quot;autocache0_ks_aggstruct/MapPartitionsRDD_6&quot;\\n  op: &quot;MapPartitionsRDD&quot;\\n  input: &quot;autocache0_ks_aggstruct/MapPartitionsRDD_5&quot;\\n  attr {\\n    key: &quot;name&quot;\\n    value {\\n      s: &quot;MapPartitionsRDD&quot;\\n    }\\n  }\\n}\\nnode {\\n  name: &quot;autocache0_ks_aggstruct/MapPartitionsRDD_7&quot;\\n  op: &quot;MapPartitionsRDD&quot;\\n  input: &quot;autocache0_ks_aggstruct/MapPartitionsRDD_6&quot;\\n  attr {\\n    key: &quot;name&quot;\\n    value {\\n      s: &quot;MapPartitionsRDD&quot;\\n    }\\n  }\\n}\\nnode {\\n  name: &quot;autocache0_ks_aggstruct_karps_merged_agg/MapPartitionsRDD_8&quot;\\n  op: &quot;MapPartitionsRDD&quot;\\n  input: &quot;autocache0_ks_aggstruct/MapPartitionsRDD_6&quot;\\n  input: &quot;^autocache0_ks_aggstruct/MapPartitionsRDD_7&quot;\\n  attr {\\n    key: &quot;name&quot;\\n    value {\\n      s: &quot;MapPartitionsRDD&quot;\\n    }\\n  }\\n}\\nnode {\\n  name: &quot;autocache0_ks_aggstruct_karps_merged_agg/MapPartitionsRDD_9&quot;\\n  op: &quot;MapPartitionsRDD&quot;\\n  input: &quot;autocache0_ks_aggstruct_karps_merged_agg/MapPartitionsRDD_8&quot;\\n  attr {\\n    key: &quot;name&quot;\\n    value {\\n      s: &quot;MapPartitionsRDD&quot;\\n    }\\n  }\\n}\\nnode {\\n  name: &quot;autocache0_ks_aggstruct_karps_merged_agg/MapPartitionsRDD_10&quot;\\n  op: &quot;MapPartitionsRDD&quot;\\n  input: &quot;autocache0_ks_aggstruct_karps_merged_agg/MapPartitionsRDD_9&quot;\\n  attr {\\n    key: &quot;name&quot;\\n    value {\\n      s: &quot;MapPartitionsRDD&quot;\\n    }\\n  }\\n}\\nnode {\\n  name: &quot;autocache0_ks_aggstruct_karps_merged_agg/ShuffledRowRDD_11&quot;\\n  op: &quot;ShuffledRowRDD&quot;\\n  input: &quot;autocache0_ks_aggstruct_karps_merged_agg/MapPartitionsRDD_10&quot;\\n  attr {\\n    key: &quot;name&quot;\\n    value {\\n      s: &quot;ShuffledRowRDD&quot;\\n    }\\n  }\\n}\\nnode {\\n  name: &quot;autocache0_ks_aggstruct_karps_merged_agg/MapPartitionsRDD_12&quot;\\n  op: &quot;MapPartitionsRDD&quot;\\n  input: &quot;autocache0_ks_aggstruct_karps_merged_agg/ShuffledRowRDD_11&quot;\\n  attr {\\n    key: &quot;name&quot;\\n    value {\\n      s: &quot;MapPartitionsRDD&quot;\\n    }\\n  }\\n}\\nnode {\\n  name: &quot;autocache0_ks_aggstruct_karps_merged_agg/MapPartitionsRDD_13&quot;\\n  op: &quot;MapPartitionsRDD&quot;\\n  input: &quot;autocache0_ks_aggstruct_karps_merged_agg/MapPartitionsRDD_12&quot;\\n  attr {\\n    key: &quot;name&quot;\\n    value {\\n      s: &quot;MapPartitionsRDD&quot;\\n    }\\n  }\\n}\\nnode {\\n  name: &quot;autocache0_ks_aggstruct_karps_merged_agg/MapPartitionsRDD_14&quot;\\n  op: &quot;MapPartitionsRDD&quot;\\n  input: &quot;autocache0_ks_aggstruct_karps_merged_agg/MapPartitionsRDD_13&quot;\\n  attr {\\n    key: &quot;name&quot;\\n    value {\\n      s: &quot;MapPartitionsRDD&quot;\\n    }\\n  }\\n}\\nnode {\\n  name: &quot;autocache0_ks_aggstruct_karps_merged_agg/MapPartitionsRDD_15&quot;\\n  op: &quot;MapPartitionsRDD&quot;\\n  input: &quot;autocache0_ks_aggstruct_karps_merged_agg/MapPartitionsRDD_14&quot;\\n  attr {\\n    key: &quot;name&quot;\\n    value {\\n      s: &quot;MapPartitionsRDD&quot;\\n    }\\n  }\\n}\\nnode {\\n  name: &quot;autocache0_ks_aggstruct_karps_merged_agg/MapPartitionsRDD_16&quot;\\n  op: &quot;MapPartitionsRDD&quot;\\n  input: &quot;autocache0_ks_aggstruct_karps_merged_agg/MapPartitionsRDD_15&quot;\\n  attr {\\n    key: &quot;name&quot;\\n    value {\\n      s: &quot;MapPartitionsRDD&quot;\\n    }\\n  }\\n}\\nnode {\\n  name: &quot;sum4/ParallelCollectionRDD_17&quot;\\n  op: &quot;ParallelCollectionRDD&quot;\\n  input: &quot;^autocache0_ks_aggstruct_karps_merged_agg/MapPartitionsRDD_16&quot;\\n  attr {\\n    key: &quot;name&quot;\\n    value {\\n      s: &quot;ParallelCollectionRDD&quot;\\n    }\\n  }\\n}\\nnode {\\n  name: &quot;sum4/MapPartitionsRDD_18&quot;\\n  op: &quot;MapPartitionsRDD&quot;\\n  input: &quot;sum4/ParallelCollectionRDD_17&quot;\\n  attr {\\n    key: &quot;name&quot;\\n    value {\\n      s: &quot;MapPartitionsRDD&quot;\\n    }\\n  }\\n}\\nnode {\\n  name: &quot;count1/ParallelCollectionRDD_19&quot;\\n  op: &quot;ParallelCollectionRDD&quot;\\n  input: &quot;^autocache0_ks_aggstruct_karps_merged_agg/MapPartitionsRDD_16&quot;\\n  attr {\\n    key: &quot;name&quot;\\n    value {\\n      s: &quot;ParallelCollectionRDD&quot;\\n    }\\n  }\\n}\\nnode {\\n  name: &quot;count1/MapPartitionsRDD_20&quot;\\n  op: &quot;MapPartitionsRDD&quot;\\n  input: &quot;count1/ParallelCollectionRDD_19&quot;\\n  attr {\\n    key: &quot;name&quot;\\n    value {\\n      s: &quot;MapPartitionsRDD&quot;\\n    }\\n  }\\n}\\nnode {\\n  name: &quot;inverse5/ParallelCollectionRDD_21&quot;\\n  op: &quot;ParallelCollectionRDD&quot;\\n  input: &quot;^sum4/MapPartitionsRDD_18&quot;\\n  attr {\\n    key: &quot;name&quot;\\n    value {\\n      s: &quot;ParallelCollectionRDD&quot;\\n    }\\n  }\\n}\\nnode {\\n  name: &quot;inverse5/MapPartitionsRDD_22&quot;\\n  op: &quot;MapPartitionsRDD&quot;\\n  input: &quot;inverse5/ParallelCollectionRDD_21&quot;\\n  attr {\\n    key: &quot;name&quot;\\n    value {\\n      s: &quot;MapPartitionsRDD&quot;\\n    }\\n  }\\n}\\nnode {\\n  name: &quot;cast_double2/ParallelCollectionRDD_23&quot;\\n  op: &quot;ParallelCollectionRDD&quot;\\n  input: &quot;^count1/MapPartitionsRDD_20&quot;\\n  attr {\\n    key: &quot;name&quot;\\n    value {\\n      s: &quot;ParallelCollectionRDD&quot;\\n    }\\n  }\\n}\\nnode {\\n  name: &quot;cast_double2/MapPartitionsRDD_24&quot;\\n  op: &quot;MapPartitionsRDD&quot;\\n  input: &quot;cast_double2/ParallelCollectionRDD_23&quot;\\n  attr {\\n    key: &quot;name&quot;\\n    value {\\n      s: &quot;MapPartitionsRDD&quot;\\n    }\\n  }\\n}\\nnode {\\n  name: &quot;multiply6_karps_localpack/ParallelCollectionRDD_25&quot;\\n  op: &quot;ParallelCollectionRDD&quot;\\n  input: &quot;^inverse5/MapPartitionsRDD_22&quot;\\n  input: &quot;^cast_double2/MapPartitionsRDD_24&quot;\\n  attr {\\n    key: &quot;name&quot;\\n    value {\\n      s: &quot;ParallelCollectionRDD&quot;\\n    }\\n  }\\n}\\nnode {\\n  name: &quot;multiply6_karps_localpack/MapPartitionsRDD_26&quot;\\n  op: &quot;MapPartitionsRDD&quot;\\n  input: &quot;multiply6_karps_localpack/ParallelCollectionRDD_25&quot;\\n  attr {\\n    key: &quot;name&quot;\\n    value {\\n      s: &quot;MapPartitionsRDD&quot;\\n    }\\n  }\\n}\\nnode {\\n  name: &quot;multiply6/ParallelCollectionRDD_27&quot;\\n  op: &quot;ParallelCollectionRDD&quot;\\n  input: &quot;^multiply6_karps_localpack/MapPartitionsRDD_26&quot;\\n  attr {\\n    key: &quot;name&quot;\\n    value {\\n      s: &quot;ParallelCollectionRDD&quot;\\n    }\\n  }\\n}\\nnode {\\n  name: &quot;multiply6/MapPartitionsRDD_28&quot;\\n  op: &quot;MapPartitionsRDD&quot;\\n  input: &quot;multiply6/ParallelCollectionRDD_27&quot;\\n  attr {\\n    key: &quot;name&quot;\\n    value {\\n      s: &quot;MapPartitionsRDD&quot;\\n    }\\n  }\\n}\\n';\n",
       "          }\n",
       "        </script>\n",
       "        <link rel=&quot;import&quot; href=&quot;https://tensorboard.appspot.com/tf-graph-basic.build.html&quot; onload=load()>\n",
       "        <div style=&quot;height:600px&quot;>\n",
       "          <tf-graph-basic id=&quot;graph0.7268585281227636&quot;></tf-graph-basic>\n",
       "        </div>\n",
       "    \"></iframe>\n",
       "    "
      ],
      "text/plain": [
       "<IPython.core.display.HTML object>"
      ]
     },
     "metadata": {},
     "output_type": "display_data"
    }
   ],
   "source": [
    "show_phase(comp, \"rdd\")"
   ]
  },
  {
   "cell_type": "code",
   "execution_count": 17,
   "metadata": {},
   "outputs": [],
   "source": [
    "trace_data = comp.profiling_trace()\n"
   ]
  },
  {
   "cell_type": "code",
   "execution_count": 18,
   "metadata": {},
   "outputs": [],
   "source": [
    "comp.dump_profile(\"/Users/tjhunter/Downloads/test.json\")"
   ]
  },
  {
   "cell_type": "code",
   "execution_count": 19,
   "metadata": {},
   "outputs": [
    {
     "data": {
      "text/plain": [
       "chrome_events {\n",
       "  name: \"count1\"\n",
       "  ph: \"B\"\n",
       "  ts: 31224887341\n",
       "  pid: \"demo1:1\"\n",
       "  tid: \"0\"\n",
       "}\n",
       "chrome_events {\n",
       "  name: \"count1\"\n",
       "  ph: \"E\"\n",
       "  ts: 31224933901\n",
       "  pid: \"demo1:1\"\n",
       "  tid: \"0\"\n",
       "}\n",
       "chrome_events {\n",
       "  name: \"autocache0_ks_aggstruct_karps_merged_agg\"\n",
       "  ph: \"B\"\n",
       "  ts: 31223817150\n",
       "  pid: \"demo1:1\"\n",
       "  tid: \"0\"\n",
       "}\n",
       "chrome_events {\n",
       "  name: \"autocache0_ks_aggstruct_karps_merged_agg\"\n",
       "  ph: \"E\"\n",
       "  ts: 31224828628\n",
       "  pid: \"demo1:1\"\n",
       "  tid: \"0\"\n",
       "}\n",
       "chrome_events {\n",
       "  name: \"multiply6\"\n",
       "  ph: \"B\"\n",
       "  ts: 31225073996\n",
       "  pid: \"demo1:1\"\n",
       "  tid: \"0\"\n",
       "}\n",
       "chrome_events {\n",
       "  name: \"multiply6\"\n",
       "  ph: \"E\"\n",
       "  ts: 31225119660\n",
       "  pid: \"demo1:1\"\n",
       "  tid: \"0\"\n",
       "}\n",
       "chrome_events {\n",
       "  name: \"cast_double2\"\n",
       "  ph: \"B\"\n",
       "  ts: 31224989167\n",
       "  pid: \"demo1:1\"\n",
       "  tid: \"0\"\n",
       "}\n",
       "chrome_events {\n",
       "  name: \"cast_double2\"\n",
       "  ph: \"E\"\n",
       "  ts: 31225030515\n",
       "  pid: \"demo1:1\"\n",
       "  tid: \"0\"\n",
       "}\n",
       "chrome_events {\n",
       "  name: \"multiply6_karps_localpack\"\n",
       "  ph: \"B\"\n",
       "  ts: 31225031519\n",
       "  pid: \"demo1:1\"\n",
       "  tid: \"0\"\n",
       "}\n",
       "chrome_events {\n",
       "  name: \"multiply6_karps_localpack\"\n",
       "  ph: \"E\"\n",
       "  ts: 31225072557\n",
       "  pid: \"demo1:1\"\n",
       "  tid: \"0\"\n",
       "}\n",
       "chrome_events {\n",
       "  name: \"my_input\"\n",
       "  ph: \"B\"\n",
       "  ts: 31221730352\n",
       "  pid: \"demo1:1\"\n",
       "  tid: \"0\"\n",
       "}\n",
       "chrome_events {\n",
       "  name: \"my_input\"\n",
       "  ph: \"E\"\n",
       "  ts: 31223629870\n",
       "  pid: \"demo1:1\"\n",
       "  tid: \"0\"\n",
       "}\n",
       "chrome_events {\n",
       "  name: \"inverse5\"\n",
       "  ph: \"B\"\n",
       "  ts: 31224935205\n",
       "  pid: \"demo1:1\"\n",
       "  tid: \"0\"\n",
       "}\n",
       "chrome_events {\n",
       "  name: \"inverse5\"\n",
       "  ph: \"E\"\n",
       "  ts: 31224988674\n",
       "  pid: \"demo1:1\"\n",
       "  tid: \"0\"\n",
       "}\n",
       "chrome_events {\n",
       "  name: \"autocache0_ks_aggstruct\"\n",
       "  ph: \"B\"\n",
       "  ts: 31223633450\n",
       "  pid: \"demo1:1\"\n",
       "  tid: \"0\"\n",
       "}\n",
       "chrome_events {\n",
       "  name: \"autocache0_ks_aggstruct\"\n",
       "  ph: \"E\"\n",
       "  ts: 31223814662\n",
       "  pid: \"demo1:1\"\n",
       "  tid: \"0\"\n",
       "}\n",
       "chrome_events {\n",
       "  name: \"sum4\"\n",
       "  ph: \"B\"\n",
       "  ts: 31224838445\n",
       "  pid: \"demo1:1\"\n",
       "  tid: \"0\"\n",
       "}\n",
       "chrome_events {\n",
       "  name: \"sum4\"\n",
       "  ph: \"E\"\n",
       "  ts: 31224886082\n",
       "  pid: \"demo1:1\"\n",
       "  tid: \"0\"\n",
       "}\n",
       "computation_events {\n",
       "  local_path {\n",
       "    path: \"my_input\"\n",
       "  }\n",
       "  timestamp: 31221730352511\n",
       "  begin_computation {\n",
       "  }\n",
       "}\n",
       "computation_events {\n",
       "  local_path {\n",
       "    path: \"my_input\"\n",
       "  }\n",
       "  timestamp: 31223607034578\n",
       "  end_computation {\n",
       "  }\n",
       "}\n",
       "computation_events {\n",
       "  local_path {\n",
       "    path: \"my_input\"\n",
       "  }\n",
       "  timestamp: 31223629870581\n",
       "  end_computation {\n",
       "  }\n",
       "}\n",
       "computation_events {\n",
       "  local_path {\n",
       "    path: \"autocache0_ks_aggstruct\"\n",
       "  }\n",
       "  timestamp: 31223633450749\n",
       "  begin_computation {\n",
       "  }\n",
       "}\n",
       "computation_events {\n",
       "  local_path {\n",
       "    path: \"autocache0_ks_aggstruct\"\n",
       "  }\n",
       "  timestamp: 31223812358912\n",
       "  end_computation {\n",
       "  }\n",
       "}\n",
       "computation_events {\n",
       "  local_path {\n",
       "    path: \"autocache0_ks_aggstruct\"\n",
       "  }\n",
       "  timestamp: 31223814662145\n",
       "  end_computation {\n",
       "  }\n",
       "}\n",
       "computation_events {\n",
       "  local_path {\n",
       "    path: \"autocache0_ks_aggstruct_karps_merged_agg\"\n",
       "  }\n",
       "  timestamp: 31223817150638\n",
       "  begin_computation {\n",
       "  }\n",
       "}\n",
       "computation_events {\n",
       "  local_path {\n",
       "    path: \"autocache0_ks_aggstruct_karps_merged_agg\"\n",
       "  }\n",
       "  timestamp: 31224136102539\n",
       "  end_computation {\n",
       "  }\n",
       "}\n",
       "computation_events {\n",
       "  local_path {\n",
       "    path: \"autocache0_ks_aggstruct_karps_merged_agg\"\n",
       "  }\n",
       "  timestamp: 31224828628281\n",
       "  end_computation {\n",
       "  }\n",
       "}\n",
       "computation_events {\n",
       "  local_path {\n",
       "    path: \"sum4\"\n",
       "  }\n",
       "  timestamp: 31224838445120\n",
       "  begin_computation {\n",
       "  }\n",
       "}\n",
       "computation_events {\n",
       "  local_path {\n",
       "    path: \"sum4\"\n",
       "  }\n",
       "  timestamp: 31224863829247\n",
       "  end_computation {\n",
       "  }\n",
       "}\n",
       "computation_events {\n",
       "  local_path {\n",
       "    path: \"sum4\"\n",
       "  }\n",
       "  timestamp: 31224886082246\n",
       "  end_computation {\n",
       "  }\n",
       "}\n",
       "computation_events {\n",
       "  local_path {\n",
       "    path: \"count1\"\n",
       "  }\n",
       "  timestamp: 31224887341350\n",
       "  begin_computation {\n",
       "  }\n",
       "}\n",
       "computation_events {\n",
       "  local_path {\n",
       "    path: \"count1\"\n",
       "  }\n",
       "  timestamp: 31224909787118\n",
       "  end_computation {\n",
       "  }\n",
       "}\n",
       "computation_events {\n",
       "  local_path {\n",
       "    path: \"count1\"\n",
       "  }\n",
       "  timestamp: 31224933901313\n",
       "  end_computation {\n",
       "  }\n",
       "}\n",
       "computation_events {\n",
       "  local_path {\n",
       "    path: \"inverse5\"\n",
       "  }\n",
       "  timestamp: 31224935205742\n",
       "  begin_computation {\n",
       "  }\n",
       "}\n",
       "computation_events {\n",
       "  local_path {\n",
       "    path: \"inverse5\"\n",
       "  }\n",
       "  timestamp: 31224967897926\n",
       "  end_computation {\n",
       "  }\n",
       "}\n",
       "computation_events {\n",
       "  local_path {\n",
       "    path: \"inverse5\"\n",
       "  }\n",
       "  timestamp: 31224988674918\n",
       "  end_computation {\n",
       "  }\n",
       "}\n",
       "computation_events {\n",
       "  local_path {\n",
       "    path: \"cast_double2\"\n",
       "  }\n",
       "  timestamp: 31224989167658\n",
       "  begin_computation {\n",
       "  }\n",
       "}\n",
       "computation_events {\n",
       "  local_path {\n",
       "    path: \"cast_double2\"\n",
       "  }\n",
       "  timestamp: 31225010678397\n",
       "  end_computation {\n",
       "  }\n",
       "}\n",
       "computation_events {\n",
       "  local_path {\n",
       "    path: \"cast_double2\"\n",
       "  }\n",
       "  timestamp: 31225030515680\n",
       "  end_computation {\n",
       "  }\n",
       "}\n",
       "computation_events {\n",
       "  local_path {\n",
       "    path: \"multiply6_karps_localpack\"\n",
       "  }\n",
       "  timestamp: 31225031519037\n",
       "  begin_computation {\n",
       "  }\n",
       "}\n",
       "computation_events {\n",
       "  local_path {\n",
       "    path: \"multiply6_karps_localpack\"\n",
       "  }\n",
       "  timestamp: 31225050619718\n",
       "  end_computation {\n",
       "  }\n",
       "}\n",
       "computation_events {\n",
       "  local_path {\n",
       "    path: \"multiply6_karps_localpack\"\n",
       "  }\n",
       "  timestamp: 31225072557862\n",
       "  end_computation {\n",
       "  }\n",
       "}\n",
       "computation_events {\n",
       "  local_path {\n",
       "    path: \"multiply6\"\n",
       "  }\n",
       "  timestamp: 31225073996718\n",
       "  begin_computation {\n",
       "  }\n",
       "}\n",
       "computation_events {\n",
       "  local_path {\n",
       "    path: \"multiply6\"\n",
       "  }\n",
       "  timestamp: 31225099061824\n",
       "  end_computation {\n",
       "  }\n",
       "}\n",
       "computation_events {\n",
       "  local_path {\n",
       "    path: \"multiply6\"\n",
       "  }\n",
       "  timestamp: 31225119660558\n",
       "  end_computation {\n",
       "  }\n",
       "}"
      ]
     },
     "execution_count": 19,
     "metadata": {},
     "output_type": "execute_result"
    }
   ],
   "source": [
    "trace_data"
   ]
  },
  {
   "cell_type": "code",
   "execution_count": null,
   "metadata": {},
   "outputs": [],
   "source": []
  },
  {
   "cell_type": "code",
   "execution_count": null,
   "metadata": {},
   "outputs": [],
   "source": []
  }
 ],
 "metadata": {
  "kernelspec": {
   "display_name": "Python 3",
   "language": "python",
   "name": "python3"
  },
  "language_info": {
   "codemirror_mode": {
    "name": "ipython",
    "version": 3
   },
   "file_extension": ".py",
   "mimetype": "text/x-python",
   "name": "python",
   "nbconvert_exporter": "python",
   "pygments_lexer": "ipython3",
   "version": "3.5.2"
  }
 },
 "nbformat": 4,
 "nbformat_minor": 2
}
