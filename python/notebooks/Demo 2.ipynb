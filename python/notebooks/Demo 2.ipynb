{
 "cells": [
  {
   "cell_type": "code",
   "execution_count": 1,
   "metadata": {
    "collapsed": true
   },
   "outputs": [],
   "source": [
    "import karps as ks\n",
    "import karps.functions as f\n",
    "from karps.display import show_phase"
   ]
  },
  {
   "cell_type": "code",
   "execution_count": 2,
   "metadata": {},
   "outputs": [
    {
     "data": {
      "text/plain": [
       "/employees@org.spark.DistributedLiteral:{company_name:string, employee_name:string, dob:string, shoe_size:double}"
      ]
     },
     "execution_count": 2,
     "metadata": {},
     "output_type": "execute_result"
    }
   ],
   "source": [
    "employees = ks.dataframe([\n",
    "    (\"ACME\", \"John\", \"12/01\", 12.0),\n",
    "    (\"ACME\", \"Kate\", \"09/04\", 11.4),\n",
    "], schema=[\"company_name\", \"employee_name\", \"dob\", \"shoe_size\"],\n",
    "name=\"employees\")\n",
    "employees"
   ]
  },
  {
   "cell_type": "code",
   "execution_count": 3,
   "metadata": {},
   "outputs": [],
   "source": [
    "# Group employees by date of birth, and count how many employees per calendar date.\n",
    "#df2 = employees.groupby(employees.dob).agg({\"count\", f.count})\n",
    "# Count how many dates have more than one employee.\n",
    "#num_collisions = f.count(df2[df2.count >= 2], name=\"num_collisions\")\n",
    "\n",
    "#print(\"number of days with more than one b-day\", s.run(num_collisions))"
   ]
  },
  {
   "cell_type": "code",
   "execution_count": 4,
   "metadata": {},
   "outputs": [],
   "source": [
    "# Group employees by date of birth, and count how many employees per calendar date.\n",
    "#df2 = df.groupby(df.employees_dob).agg({\"count\", f.count})\n",
    "# Count how many dates have more than one employee.\n",
    "#num_collisions = f.count(f.filter(df2.count >= 2, df2.employees_dob), name=\"num_collisions\")\n",
    "\n",
    "#print(\"number of days with more than one b-day\", s.run(num_collisions))"
   ]
  },
  {
   "cell_type": "code",
   "execution_count": 7,
   "metadata": {
    "collapsed": true
   },
   "outputs": [],
   "source": [
    "# Put that into a function:\n",
    "def num_collisions(dob_col):\n",
    "    by_dob = dob_col.groupby(dob_col)\n",
    "    count_dob = by_dob.agg({\"count\": f.count}, name=\"count_by_dob\")\n",
    "    num_collisions = f.count(\n",
    "        count_dob[count_dob.count >= 2],\n",
    "        name=\"num_collisions\")\n",
    "    return num_collisions"
   ]
  },
  {
   "cell_type": "code",
   "execution_count": 8,
   "metadata": {},
   "outputs": [
    {
     "ename": "TypeError",
     "evalue": "'module' object is not callable",
     "output_type": "error",
     "traceback": [
      "\u001b[0;31m---------------------------------------------------------------------------\u001b[0m",
      "\u001b[0;31mTypeError\u001b[0m                                 Traceback (most recent call last)",
      "\u001b[0;32m<ipython-input-8-ed3dffe00216>\u001b[0m in \u001b[0;36m<module>\u001b[0;34m()\u001b[0m\n\u001b[1;32m      1\u001b[0m \u001b[0;31m# Let's check that it works against a small amount of data\u001b[0m\u001b[0;34m\u001b[0m\u001b[0;34m\u001b[0m\u001b[0m\n\u001b[1;32m      2\u001b[0m \u001b[0msample_dobs\u001b[0m \u001b[0;34m=\u001b[0m \u001b[0mks\u001b[0m\u001b[0;34m.\u001b[0m\u001b[0mdataframe\u001b[0m\u001b[0;34m(\u001b[0m\u001b[0;34m[\u001b[0m\u001b[0;34m\"12/1\"\u001b[0m\u001b[0;34m,\u001b[0m \u001b[0;34m\"1/4\"\u001b[0m\u001b[0;34m,\u001b[0m \u001b[0;34m\"12/1\"\u001b[0m\u001b[0;34m]\u001b[0m\u001b[0;34m)\u001b[0m\u001b[0;34m\u001b[0m\u001b[0m\n\u001b[0;32m----> 3\u001b[0;31m \u001b[0mks\u001b[0m\u001b[0;34m.\u001b[0m\u001b[0mdisplay\u001b[0m\u001b[0;34m(\u001b[0m\u001b[0mnum_collisions\u001b[0m\u001b[0;34m(\u001b[0m\u001b[0msample_dobs\u001b[0m\u001b[0;34m)\u001b[0m\u001b[0;34m)\u001b[0m\u001b[0;34m\u001b[0m\u001b[0m\n\u001b[0m",
      "\u001b[0;31mTypeError\u001b[0m: 'module' object is not callable"
     ]
    }
   ],
   "source": [
    "# Let's check that it works against a small amount of data\n",
    "sample_dobs = ks.dataframe([\"12/1\", \"1/4\", \"12/1\"])\n",
    "ks.display(num_collisions(sample_dobs))"
   ]
  },
  {
   "cell_type": "code",
   "execution_count": null,
   "metadata": {
    "collapsed": true
   },
   "outputs": [],
   "source": [
    "# We can also use this function as an aggregation function!\n",
    "collisions_by_company =\n",
    "    (employees.employees_dob\n",
    "     .groupby(employees.company)\n",
    "     .agg({\"num_collisions\": num_collisions}))"
   ]
  },
  {
   "cell_type": "code",
   "execution_count": null,
   "metadata": {
    "collapsed": true
   },
   "outputs": [],
   "source": [
    "# We can also use this function as an aggregation function!\n",
    "collisions_by_company =\n",
    "    (employees\n",
    "     .groupby(employees.company)\n",
    "     .agg({\n",
    "         \"num_collisions\": num_collisions, # Functional\n",
    "         \"shoe_size\": f.mean(employee.shoe_size) # Direct call to a column of the data being grouped.\n",
    "         # lambda col: f.mean(col.shoe_size)\n",
    "     }))"
   ]
  },
  {
   "cell_type": "code",
   "execution_count": null,
   "metadata": {
    "collapsed": true
   },
   "outputs": [],
   "source": [
    "s = ks.session(\"test3\")\n",
    "comp = s.compute(the_mean)"
   ]
  },
  {
   "cell_type": "code",
   "execution_count": null,
   "metadata": {
    "collapsed": true
   },
   "outputs": [],
   "source": [
    "show_phase(comp, \"initial\")"
   ]
  },
  {
   "cell_type": "code",
   "execution_count": null,
   "metadata": {
    "collapsed": true
   },
   "outputs": [],
   "source": [
    "show_phase(comp, \"REMOVE_OBSERVABLE_BROADCASTS\")"
   ]
  },
  {
   "cell_type": "code",
   "execution_count": null,
   "metadata": {
    "collapsed": true
   },
   "outputs": [],
   "source": [
    "show_phase(comp, \"MERGE_AGGREGATIONS\")"
   ]
  },
  {
   "cell_type": "code",
   "execution_count": null,
   "metadata": {
    "collapsed": true
   },
   "outputs": [],
   "source": [
    "show_phase(comp, \"final\")"
   ]
  },
  {
   "cell_type": "code",
   "execution_count": null,
   "metadata": {
    "collapsed": true
   },
   "outputs": [],
   "source": [
    "comp.values()"
   ]
  },
  {
   "cell_type": "code",
   "execution_count": null,
   "metadata": {
    "collapsed": true
   },
   "outputs": [],
   "source": [
    "s.run(the_mean)"
   ]
  },
  {
   "cell_type": "code",
   "execution_count": null,
   "metadata": {
    "collapsed": true
   },
   "outputs": [],
   "source": []
  }
 ],
 "metadata": {
  "kernelspec": {
   "display_name": "Python 3",
   "language": "python",
   "name": "python3"
  },
  "language_info": {
   "codemirror_mode": {
    "name": "ipython",
    "version": 3
   },
   "file_extension": ".py",
   "mimetype": "text/x-python",
   "name": "python",
   "nbconvert_exporter": "python",
   "pygments_lexer": "ipython3",
   "version": "3.5.2"
  }
 },
 "nbformat": 4,
 "nbformat_minor": 2
}
