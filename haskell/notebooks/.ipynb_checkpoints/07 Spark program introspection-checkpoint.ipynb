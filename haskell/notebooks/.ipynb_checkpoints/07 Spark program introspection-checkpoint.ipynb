{
 "cells": [
  {
   "cell_type": "code",
   "execution_count": 1,
   "metadata": {
    "collapsed": false
   },
   "outputs": [],
   "source": [
    ":load KrapshDisplays KrapshDagDisplay"
   ]
  },
  {
   "cell_type": "code",
   "execution_count": 2,
   "metadata": {
    "collapsed": true
   },
   "outputs": [],
   "source": [
    ":extension DeriveGeneric\n",
    ":extension FlexibleContexts\n",
    ":extension OverloadedStrings\n",
    ":extension GeneralizedNewtypeDeriving\n",
    ":extension FlexibleInstances\n",
    ":extension MultiParamTypeClasses"
   ]
  },
  {
   "cell_type": "code",
   "execution_count": 3,
   "metadata": {
    "collapsed": true
   },
   "outputs": [],
   "source": [
    "import Spark.Core.Dataset\n",
    "import Spark.Core.Context\n",
    "import Spark.Core.Column\n",
    "import Spark.Core.ColumnFunctions\n",
    "import Spark.Core.Functions\n",
    "import Spark.Core.Row\n",
    "import Spark.Core.Types\n",
    "import Spark.Core.Try\n",
    "\n",
    "import qualified Data.Vector as V\n",
    "import qualified Data.Text as T\n",
    "import GHC.Generics\n",
    "import IHaskell.Display"
   ]
  },
  {
   "cell_type": "code",
   "execution_count": 4,
   "metadata": {
    "collapsed": true
   },
   "outputs": [],
   "source": [
    "import Spark.Core.StructuresInternal(ComputationID(..))"
   ]
  },
  {
   "cell_type": "code",
   "execution_count": 5,
   "metadata": {
    "collapsed": false
   },
   "outputs": [
    {
     "data": {
      "text/plain": [
       "[Debug] Creating spark session at url: http://localhost:8081/sessions/cache_sum1 @(<unknown>:<unknown> <unknown>:0:0)"
      ]
     },
     "metadata": {},
     "output_type": "display_data"
    }
   ],
   "source": [
    "\n",
    "conf = defaultConf {\n",
    "        confEndPoint = \"http://localhost\",\n",
    "        confRequestedSessionName = \"cache_sum1\" }\n",
    "\n",
    "createSparkSessionDef conf\n"
   ]
  },
  {
   "cell_type": "code",
   "execution_count": 6,
   "metadata": {
    "collapsed": false
   },
   "outputs": [
    {
     "data": {
      "text/plain": [
       "[Debug] computationStats: stats for ComputationID {unComputationID = \"0\"} @(<unknown>:<unknown> <unknown>:0:0)\n",
       "[Debug] Sending computations stats request at url: http://localhost:8081/computations_status/cache_sum1/0/ @(<unknown>:<unknown> <unknown>:0:0)"
      ]
     },
     "metadata": {},
     "output_type": "display_data"
    }
   ],
   "source": [
    "stats <- computationStatsDef (ComputationID \"0\")"
   ]
  },
  {
   "cell_type": "code",
   "execution_count": 7,
   "metadata": {
    "collapsed": false
   },
   "outputs": [],
   "source": [
    "let ns = statsToExportNodes stats"
   ]
  },
  {
   "cell_type": "code",
   "execution_count": 8,
   "metadata": {
    "collapsed": false
   },
   "outputs": [
    {
     "data": {
      "text/html": [
       "<style>/* Styles used for the Hoogle display in the pager */\n",
       ".hoogle-doc {\n",
       "display: block;\n",
       "padding-bottom: 1.3em;\n",
       "padding-left: 0.4em;\n",
       "}\n",
       ".hoogle-code {\n",
       "display: block;\n",
       "font-family: monospace;\n",
       "white-space: pre;\n",
       "}\n",
       ".hoogle-text {\n",
       "display: block;\n",
       "}\n",
       ".hoogle-name {\n",
       "color: green;\n",
       "font-weight: bold;\n",
       "}\n",
       ".hoogle-head {\n",
       "font-weight: bold;\n",
       "}\n",
       ".hoogle-sub {\n",
       "display: block;\n",
       "margin-left: 0.4em;\n",
       "}\n",
       ".hoogle-package {\n",
       "font-weight: bold;\n",
       "font-style: italic;\n",
       "}\n",
       ".hoogle-module {\n",
       "font-weight: bold;\n",
       "}\n",
       ".hoogle-class {\n",
       "font-weight: bold;\n",
       "}\n",
       ".get-type {\n",
       "color: green;\n",
       "font-weight: bold;\n",
       "font-family: monospace;\n",
       "display: block;\n",
       "white-space: pre-wrap;\n",
       "}\n",
       ".show-type {\n",
       "color: green;\n",
       "font-weight: bold;\n",
       "font-family: monospace;\n",
       "margin-left: 1em;\n",
       "}\n",
       ".mono {\n",
       "font-family: monospace;\n",
       "display: block;\n",
       "}\n",
       ".err-msg {\n",
       "color: red;\n",
       "font-style: italic;\n",
       "font-family: monospace;\n",
       "white-space: pre;\n",
       "display: block;\n",
       "}\n",
       "#unshowable {\n",
       "color: red;\n",
       "font-weight: bold;\n",
       "}\n",
       ".err-msg.in.collapse {\n",
       "padding-top: 0.7em;\n",
       "}\n",
       ".highlight-code {\n",
       "white-space: pre;\n",
       "font-family: monospace;\n",
       "}\n",
       ".suggestion-warning { \n",
       "font-weight: bold;\n",
       "color: rgb(200, 130, 0);\n",
       "}\n",
       ".suggestion-error { \n",
       "font-weight: bold;\n",
       "color: red;\n",
       "}\n",
       ".suggestion-name {\n",
       "font-weight: bold;\n",
       "}\n",
       "</style><iframe seamless style='width:900px;height:620px;border:0' srcdoc='<script>function load() {{  document.getElementById(\"1844290812090642339\").pbtxt = \"node {\\n  name: \\\"select_2ba89f/ParallelCollectionRDD-2\\\"\\n  op: \\\"ParallelCollectionRDD\\\"\\n  attr {\\n    key: \\\"name\\\"\\n    value {\\n      val: \\\"ParallelCollectionRDD[2] at persist at SparkRegistry.scala:189\\\"\\n    }\\n  }\\n}\\nnode {\\n  name: \\\"select_2ba89f/MapPartitionsRDD-3\\\"\\n  op: \\\"MapPartitionsRDD\\\"\\n  input: \\\"select_2ba89f/ParallelCollectionRDD-2\\\"\\n  attr {\\n    key: \\\"name\\\"\\n    value {\\n      val: \\\"MapPartitionsRDD[3] at persist at SparkRegistry.scala:189\\\"\\n    }\\n  }\\n}\\nnode {\\n  name: \\\"select_2ba89f/MapPartitionsRDD-4\\\"\\n  op: \\\"MapPartitionsRDD\\\"\\n  input: \\\"select_2ba89f/MapPartitionsRDD-3\\\"\\n  attr {\\n    key: \\\"name\\\"\\n    value {\\n      val: \\\"LocalTableScan [_1#0]\\\\n MapPartitionsRDD[4] at persist at SparkRegistry.scala:189\\\"\\n    }\\n  }\\n}\\nnode {\\n  name: \\\"select_2ba89f/MapPartitionsRDD-12\\\"\\n  op: \\\"MapPartitionsRDD\\\"\\n  input: \\\"select_2ba89f/MapPartitionsRDD-4\\\"\\n  attr {\\n    key: \\\"name\\\"\\n    value {\\n      val: \\\"MapPartitionsRDD[12] at execute at ExecutionItem.scala:122\\\"\\n    }\\n  }\\n}\\nnode {\\n  name: \\\"distributedliteral_1ba31e/ParallelCollectionRDD-0\\\"\\n  op: \\\"ParallelCollectionRDD\\\"\\n  attr {\\n    key: \\\"name\\\"\\n    value {\\n      val: \\\"ParallelCollectionRDD[0] at execute at ExecutionItem.scala:122\\\"\\n    }\\n  }\\n}\\nnode {\\n  name: \\\"distributedliteral_1ba31e/MapPartitionsRDD-1\\\"\\n  op: \\\"MapPartitionsRDD\\\"\\n  input: \\\"distributedliteral_1ba31e/ParallelCollectionRDD-0\\\"\\n  input: \\\"unpersist_5f85cd/ParallelCollectionRDD-0\\\"\\n  attr {\\n    key: \\\"name\\\"\\n    value {\\n      val: \\\"MapPartitionsRDD[1] at execute at ExecutionItem.scala:122\\\"\\n    }\\n  }\\n}\\nnode {\\n  name: \\\"count_abc591/MapPartitionsRDD-47\\\"\\n  op: \\\"MapPartitionsRDD\\\"\\n  attr {\\n    key: \\\"name\\\"\\n    value {\\n      val: \\\"MapPartitionsRDD[47] at execute at ExecutionItem.scala:122\\\"\\n    }\\n  }\\n}\\nnode {\\n  name: \\\"count_abc591/MapPartitionsRDD-48\\\"\\n  op: \\\"MapPartitionsRDD\\\"\\n  input: \\\"count_abc591/MapPartitionsRDD-47\\\"\\n  attr {\\n    key: \\\"name\\\"\\n    value {\\n      val: \\\"MapPartitionsRDD[48] at execute at ExecutionItem.scala:122\\\"\\n    }\\n  }\\n}\\nnode {\\n  name: \\\"count_abc591/MapPartitionsRDD-49\\\"\\n  op: \\\"MapPartitionsRDD\\\"\\n  input: \\\"count_abc591/MapPartitionsRDD-48\\\"\\n  attr {\\n    key: \\\"name\\\"\\n    value {\\n      val: \\\"MapPartitionsRDD[49] at execute at ExecutionItem.scala:122\\\"\\n    }\\n  }\\n}\\nnode {\\n  name: \\\"count_abc591/ShuffledRowRDD-50\\\"\\n  op: \\\"ShuffledRowRDD\\\"\\n  input: \\\"count_abc591/MapPartitionsRDD-49\\\"\\n  attr {\\n    key: \\\"name\\\"\\n    value {\\n      val: \\\"ShuffledRowRDD[50] at execute at ExecutionItem.scala:122\\\"\\n    }\\n  }\\n}\\nnode {\\n  name: \\\"count_abc591/MapPartitionsRDD-51\\\"\\n  op: \\\"MapPartitionsRDD\\\"\\n  input: \\\"count_abc591/ShuffledRowRDD-50\\\"\\n  attr {\\n    key: \\\"name\\\"\\n    value {\\n      val: \\\"MapPartitionsRDD[51] at execute at ExecutionItem.scala:122\\\"\\n    }\\n  }\\n}\\nnode {\\n  name: \\\"autocache_70493c/MapPartitionsRDD-11\\\"\\n  op: \\\"MapPartitionsRDD\\\"\\n  input: \\\"distributedliteral_1ba31e/ParallelCollectionRDD-0\\\"\\n  input: \\\"unpersist_5f85cd/ParallelCollectionRDD-0\\\"\\n  attr {\\n    key: \\\"name\\\"\\n    value {\\n      val: \\\"MapPartitionsRDD[11] at execute at ExecutionItem.scala:122\\\"\\n    }\\n  }\\n}\\nnode {\\n  name: \\\"sum_d52323/MapPartitionsRDD-39\\\"\\n  op: \\\"MapPartitionsRDD\\\"\\n  attr {\\n    key: \\\"name\\\"\\n    value {\\n      val: \\\"MapPartitionsRDD[39] at execute at ExecutionItem.scala:122\\\"\\n    }\\n  }\\n}\\nnode {\\n  name: \\\"sum_d52323/MapPartitionsRDD-40\\\"\\n  op: \\\"MapPartitionsRDD\\\"\\n  input: \\\"sum_d52323/MapPartitionsRDD-39\\\"\\n  attr {\\n    key: \\\"name\\\"\\n    value {\\n      val: \\\"MapPartitionsRDD[40] at execute at ExecutionItem.scala:122\\\"\\n    }\\n  }\\n}\\nnode {\\n  name: \\\"sum_d52323/MapPartitionsRDD-41\\\"\\n  op: \\\"MapPartitionsRDD\\\"\\n  input: \\\"sum_d52323/MapPartitionsRDD-40\\\"\\n  attr {\\n    key: \\\"name\\\"\\n    value {\\n      val: \\\"MapPartitionsRDD[41] at execute at ExecutionItem.scala:122\\\"\\n    }\\n  }\\n}\\nnode {\\n  name: \\\"sum_d52323/ShuffledRowRDD-42\\\"\\n  op: \\\"ShuffledRowRDD\\\"\\n  input: \\\"sum_d52323/MapPartitionsRDD-41\\\"\\n  attr {\\n    key: \\\"name\\\"\\n    value {\\n      val: \\\"ShuffledRowRDD[42] at execute at ExecutionItem.scala:122\\\"\\n    }\\n  }\\n}\\nnode {\\n  name: \\\"sum_d52323/MapPartitionsRDD-43\\\"\\n  op: \\\"MapPartitionsRDD\\\"\\n  input: \\\"sum_d52323/ShuffledRowRDD-42\\\"\\n  attr {\\n    key: \\\"name\\\"\\n    value {\\n      val: \\\"MapPartitionsRDD[43] at execute at ExecutionItem.scala:122\\\"\\n    }\\n  }\\n}\\nnode {\\n  name: \\\"distributedliteral_1ba31e/ParallelCollectionRDD-0\\\"\\n  op: \\\"ParallelCollectionRDD\\\"\\n  attr {\\n    key: \\\"name\\\"\\n    value {\\n      val: \\\"ParallelCollectionRDD[0] at execute at ExecutionItem.scala:122\\\"\\n    }\\n  }\\n}\\nnode {\\n  name: \\\"unpersist_5f85cd/MapPartitionsRDD-23\\\"\\n  op: \\\"MapPartitionsRDD\\\"\\n  input: \\\"distributedliteral_1ba31e/ParallelCollectionRDD-0\\\"\\n  input: \\\"unpersist_5f85cd/ParallelCollectionRDD-0\\\"\\n  attr {\\n    key: \\\"name\\\"\\n    value {\\n      val: \\\"MapPartitionsRDD[23] at execute at ExecutionItem.scala:122\\\"\\n    }\\n  }\\n}\\nnode {\\n  name: \\\"localplus_23aca6/ParallelCollectionRDD-56\\\"\\n  op: \\\"ParallelCollectionRDD\\\"\\n  attr {\\n    key: \\\"name\\\"\\n    value {\\n      val: \\\"ParallelCollectionRDD[56] at execute at ExecutionItem.scala:122\\\"\\n    }\\n  }\\n}\\nnode {\\n  name: \\\"localplus_23aca6/MapPartitionsRDD-57\\\"\\n  op: \\\"MapPartitionsRDD\\\"\\n  input: \\\"localplus_23aca6/ParallelCollectionRDD-56\\\"\\n  attr {\\n    key: \\\"name\\\"\\n    value {\\n      val: \\\"MapPartitionsRDD[57] at execute at ExecutionItem.scala:122\\\"\\n    }\\n  }\\n}\\nnode {\\n  name: \\\"localidentity_21dd12/ParallelCollectionRDD-52\\\"\\n  op: \\\"ParallelCollectionRDD\\\"\\n  attr {\\n    key: \\\"name\\\"\\n    value {\\n      val: \\\"ParallelCollectionRDD[52] at execute at ExecutionItem.scala:122\\\"\\n    }\\n  }\\n}\\nnode {\\n  name: \\\"localidentity_21dd12/MapPartitionsRDD-53\\\"\\n  op: \\\"MapPartitionsRDD\\\"\\n  input: \\\"localidentity_21dd12/ParallelCollectionRDD-52\\\"\\n  attr {\\n    key: \\\"name\\\"\\n    value {\\n      val: \\\"MapPartitionsRDD[53] at execute at ExecutionItem.scala:122\\\"\\n    }\\n  }\\n}\\nnode {\\n  name: \\\"localidentity_5b45bc/ParallelCollectionRDD-54\\\"\\n  op: \\\"ParallelCollectionRDD\\\"\\n  attr {\\n    key: \\\"name\\\"\\n    value {\\n      val: \\\"ParallelCollectionRDD[54] at execute at ExecutionItem.scala:122\\\"\\n    }\\n  }\\n}\\nnode {\\n  name: \\\"localidentity_5b45bc/MapPartitionsRDD-55\\\"\\n  op: \\\"MapPartitionsRDD\\\"\\n  input: \\\"localidentity_5b45bc/ParallelCollectionRDD-54\\\"\\n  attr {\\n    key: \\\"name\\\"\\n    value {\\n      val: \\\"MapPartitionsRDD[55] at execute at ExecutionItem.scala:122\\\"\\n    }\\n  }\\n}\\n\";}}</script><link rel=\"import\" href=\"https://tensorboard.appspot.com/tf-graph-basic.build.html\" onload=load()><div style=\"height:600px\"><tf-graph-basic id=\"1844290812090642339\"></tf-graph-basic></div>'></iframe>"
      ]
     },
     "metadata": {},
     "output_type": "display_data"
    }
   ],
   "source": [
    "let c = T.unpack (tfIFrame ns)\n",
    "Display [html c]"
   ]
  },
  {
   "cell_type": "code",
   "execution_count": 19,
   "metadata": {
    "collapsed": false
   },
   "outputs": [
    {
     "data": {
      "text/html": [
       "<style>/* Styles used for the Hoogle display in the pager */\n",
       ".hoogle-doc {\n",
       "display: block;\n",
       "padding-bottom: 1.3em;\n",
       "padding-left: 0.4em;\n",
       "}\n",
       ".hoogle-code {\n",
       "display: block;\n",
       "font-family: monospace;\n",
       "white-space: pre;\n",
       "}\n",
       ".hoogle-text {\n",
       "display: block;\n",
       "}\n",
       ".hoogle-name {\n",
       "color: green;\n",
       "font-weight: bold;\n",
       "}\n",
       ".hoogle-head {\n",
       "font-weight: bold;\n",
       "}\n",
       ".hoogle-sub {\n",
       "display: block;\n",
       "margin-left: 0.4em;\n",
       "}\n",
       ".hoogle-package {\n",
       "font-weight: bold;\n",
       "font-style: italic;\n",
       "}\n",
       ".hoogle-module {\n",
       "font-weight: bold;\n",
       "}\n",
       ".hoogle-class {\n",
       "font-weight: bold;\n",
       "}\n",
       ".get-type {\n",
       "color: green;\n",
       "font-weight: bold;\n",
       "font-family: monospace;\n",
       "display: block;\n",
       "white-space: pre-wrap;\n",
       "}\n",
       ".show-type {\n",
       "color: green;\n",
       "font-weight: bold;\n",
       "font-family: monospace;\n",
       "margin-left: 1em;\n",
       "}\n",
       ".mono {\n",
       "font-family: monospace;\n",
       "display: block;\n",
       "}\n",
       ".err-msg {\n",
       "color: red;\n",
       "font-style: italic;\n",
       "font-family: monospace;\n",
       "white-space: pre;\n",
       "display: block;\n",
       "}\n",
       "#unshowable {\n",
       "color: red;\n",
       "font-weight: bold;\n",
       "}\n",
       ".err-msg.in.collapse {\n",
       "padding-top: 0.7em;\n",
       "}\n",
       ".highlight-code {\n",
       "white-space: pre;\n",
       "font-family: monospace;\n",
       "}\n",
       ".suggestion-warning { \n",
       "font-weight: bold;\n",
       "color: rgb(200, 130, 0);\n",
       "}\n",
       ".suggestion-error { \n",
       "font-weight: bold;\n",
       "color: red;\n",
       "}\n",
       ".suggestion-name {\n",
       "font-weight: bold;\n",
       "}\n",
       "</style><span class='err-msg'>Couldn't match expected type `VertexId' with actual type `[(VertexId, [VertexId], ExportNode)]'<br/>In the first argument of `pruneLexicographic', namely `ns2'<br/>In the expression: pruneLexicographic ns2</span>"
      ],
      "text/plain": [
       "Couldn't match expected type `VertexId' with actual type `[(VertexId, [VertexId], ExportNode)]'\n",
       "In the first argument of `pruneLexicographic', namely `ns2'\n",
       "In the expression: pruneLexicographic ns2"
      ]
     },
     "metadata": {},
     "output_type": "display_data"
    }
   ],
   "source": [
    "import qualified Data.ByteString.Char8 as C8\n",
    "import Spark.Core.Internal.DAGFunctions(pruneLexicographic)\n",
    "import Spark.Core.Internal.DAGStructures\n",
    "\n",
    "let vxId = VertexId . C8.pack . T.unpack\n",
    "\n",
    "let f en = (vxId (enName en), vxId <$> enDeps en, en)\n",
    "let ns2 = f <$> ns\n",
    "--pruneLexicographic ns2\n",
    "[n <- enName <$> ns | ]"
   ]
  },
  {
   "cell_type": "code",
   "execution_count": 13,
   "metadata": {
    "collapsed": true
   },
   "outputs": [],
   "source": [
    "import Spark.Core.Internal.DAGFunctions(pruneLexicographic)\n"
   ]
  },
  {
   "cell_type": "code",
   "execution_count": 9,
   "metadata": {
    "collapsed": false
   },
   "outputs": [
    {
     "data": {
      "text/plain": [
       "[ExportNode {enName = \"select_2ba89f/ParallelCollectionRDD-2\", enOp = \"ParallelCollectionRDD\", enDeps = [], enLogicalDeps = [], enAttributes = [(\"name\",\"ParallelCollectionRDD[2] at persist at SparkRegistry.scala:189\")]},ExportNode {enName = \"select_2ba89f/MapPartitionsRDD-3\", enOp = \"MapPartitionsRDD\", enDeps = [\"select_2ba89f/ParallelCollectionRDD-2\"], enLogicalDeps = [], enAttributes = [(\"name\",\"MapPartitionsRDD[3] at persist at SparkRegistry.scala:189\")]},ExportNode {enName = \"select_2ba89f/MapPartitionsRDD-4\", enOp = \"MapPartitionsRDD\", enDeps = [\"select_2ba89f/MapPartitionsRDD-3\"], enLogicalDeps = [], enAttributes = [(\"name\",\"LocalTableScan [_1#0]\\n MapPartitionsRDD[4] at persist at SparkRegistry.scala:189\")]},ExportNode {enName = \"select_2ba89f/MapPartitionsRDD-12\", enOp = \"MapPartitionsRDD\", enDeps = [\"select_2ba89f/MapPartitionsRDD-4\"], enLogicalDeps = [], enAttributes = [(\"name\",\"MapPartitionsRDD[12] at execute at ExecutionItem.scala:122\")]},ExportNode {enName = \"distributedliteral_1ba31e/ParallelCollectionRDD-0\", enOp = \"ParallelCollectionRDD\", enDeps = [], enLogicalDeps = [], enAttributes = [(\"name\",\"ParallelCollectionRDD[0] at execute at ExecutionItem.scala:122\")]},ExportNode {enName = \"distributedliteral_1ba31e/MapPartitionsRDD-1\", enOp = \"MapPartitionsRDD\", enDeps = [\"distributedliteral_1ba31e/ParallelCollectionRDD-0\",\"unpersist_5f85cd/ParallelCollectionRDD-0\"], enLogicalDeps = [], enAttributes = [(\"name\",\"MapPartitionsRDD[1] at execute at ExecutionItem.scala:122\")]},ExportNode {enName = \"count_abc591/MapPartitionsRDD-47\", enOp = \"MapPartitionsRDD\", enDeps = [], enLogicalDeps = [], enAttributes = [(\"name\",\"MapPartitionsRDD[47] at execute at ExecutionItem.scala:122\")]},ExportNode {enName = \"count_abc591/MapPartitionsRDD-48\", enOp = \"MapPartitionsRDD\", enDeps = [\"count_abc591/MapPartitionsRDD-47\"], enLogicalDeps = [], enAttributes = [(\"name\",\"MapPartitionsRDD[48] at execute at ExecutionItem.scala:122\")]},ExportNode {enName = \"count_abc591/MapPartitionsRDD-49\", enOp = \"MapPartitionsRDD\", enDeps = [\"count_abc591/MapPartitionsRDD-48\"], enLogicalDeps = [], enAttributes = [(\"name\",\"MapPartitionsRDD[49] at execute at ExecutionItem.scala:122\")]},ExportNode {enName = \"count_abc591/ShuffledRowRDD-50\", enOp = \"ShuffledRowRDD\", enDeps = [\"count_abc591/MapPartitionsRDD-49\"], enLogicalDeps = [], enAttributes = [(\"name\",\"ShuffledRowRDD[50] at execute at ExecutionItem.scala:122\")]},ExportNode {enName = \"count_abc591/MapPartitionsRDD-51\", enOp = \"MapPartitionsRDD\", enDeps = [\"count_abc591/ShuffledRowRDD-50\"], enLogicalDeps = [], enAttributes = [(\"name\",\"MapPartitionsRDD[51] at execute at ExecutionItem.scala:122\")]},ExportNode {enName = \"autocache_70493c/MapPartitionsRDD-11\", enOp = \"MapPartitionsRDD\", enDeps = [\"distributedliteral_1ba31e/ParallelCollectionRDD-0\",\"unpersist_5f85cd/ParallelCollectionRDD-0\"], enLogicalDeps = [], enAttributes = [(\"name\",\"MapPartitionsRDD[11] at execute at ExecutionItem.scala:122\")]},ExportNode {enName = \"sum_d52323/MapPartitionsRDD-39\", enOp = \"MapPartitionsRDD\", enDeps = [], enLogicalDeps = [], enAttributes = [(\"name\",\"MapPartitionsRDD[39] at execute at ExecutionItem.scala:122\")]},ExportNode {enName = \"sum_d52323/MapPartitionsRDD-40\", enOp = \"MapPartitionsRDD\", enDeps = [\"sum_d52323/MapPartitionsRDD-39\"], enLogicalDeps = [], enAttributes = [(\"name\",\"MapPartitionsRDD[40] at execute at ExecutionItem.scala:122\")]},ExportNode {enName = \"sum_d52323/MapPartitionsRDD-41\", enOp = \"MapPartitionsRDD\", enDeps = [\"sum_d52323/MapPartitionsRDD-40\"], enLogicalDeps = [], enAttributes = [(\"name\",\"MapPartitionsRDD[41] at execute at ExecutionItem.scala:122\")]},ExportNode {enName = \"sum_d52323/ShuffledRowRDD-42\", enOp = \"ShuffledRowRDD\", enDeps = [\"sum_d52323/MapPartitionsRDD-41\"], enLogicalDeps = [], enAttributes = [(\"name\",\"ShuffledRowRDD[42] at execute at ExecutionItem.scala:122\")]},ExportNode {enName = \"sum_d52323/MapPartitionsRDD-43\", enOp = \"MapPartitionsRDD\", enDeps = [\"sum_d52323/ShuffledRowRDD-42\"], enLogicalDeps = [], enAttributes = [(\"name\",\"MapPartitionsRDD[43] at execute at ExecutionItem.scala:122\")]},ExportNode {enName = \"distributedliteral_1ba31e/ParallelCollectionRDD-0\", enOp = \"ParallelCollectionRDD\", enDeps = [], enLogicalDeps = [], enAttributes = [(\"name\",\"ParallelCollectionRDD[0] at execute at ExecutionItem.scala:122\")]},ExportNode {enName = \"unpersist_5f85cd/MapPartitionsRDD-23\", enOp = \"MapPartitionsRDD\", enDeps = [\"distributedliteral_1ba31e/ParallelCollectionRDD-0\",\"unpersist_5f85cd/ParallelCollectionRDD-0\"], enLogicalDeps = [], enAttributes = [(\"name\",\"MapPartitionsRDD[23] at execute at ExecutionItem.scala:122\")]},ExportNode {enName = \"localplus_23aca6/ParallelCollectionRDD-56\", enOp = \"ParallelCollectionRDD\", enDeps = [], enLogicalDeps = [], enAttributes = [(\"name\",\"ParallelCollectionRDD[56] at execute at ExecutionItem.scala:122\")]},ExportNode {enName = \"localplus_23aca6/MapPartitionsRDD-57\", enOp = \"MapPartitionsRDD\", enDeps = [\"localplus_23aca6/ParallelCollectionRDD-56\"], enLogicalDeps = [], enAttributes = [(\"name\",\"MapPartitionsRDD[57] at execute at ExecutionItem.scala:122\")]},ExportNode {enName = \"localidentity_21dd12/ParallelCollectionRDD-52\", enOp = \"ParallelCollectionRDD\", enDeps = [], enLogicalDeps = [], enAttributes = [(\"name\",\"ParallelCollectionRDD[52] at execute at ExecutionItem.scala:122\")]},ExportNode {enName = \"localidentity_21dd12/MapPartitionsRDD-53\", enOp = \"MapPartitionsRDD\", enDeps = [\"localidentity_21dd12/ParallelCollectionRDD-52\"], enLogicalDeps = [], enAttributes = [(\"name\",\"MapPartitionsRDD[53] at execute at ExecutionItem.scala:122\")]},ExportNode {enName = \"localidentity_5b45bc/ParallelCollectionRDD-54\", enOp = \"ParallelCollectionRDD\", enDeps = [], enLogicalDeps = [], enAttributes = [(\"name\",\"ParallelCollectionRDD[54] at execute at ExecutionItem.scala:122\")]},ExportNode {enName = \"localidentity_5b45bc/MapPartitionsRDD-55\", enOp = \"MapPartitionsRDD\", enDeps = [\"localidentity_5b45bc/ParallelCollectionRDD-54\"], enLogicalDeps = [], enAttributes = [(\"name\",\"MapPartitionsRDD[55] at execute at ExecutionItem.scala:122\")]}]"
      ]
     },
     "metadata": {},
     "output_type": "display_data"
    }
   ],
   "source": [
    "ns"
   ]
  },
  {
   "cell_type": "code",
   "execution_count": null,
   "metadata": {
    "collapsed": true
   },
   "outputs": [],
   "source": []
  }
 ],
 "metadata": {
  "kernelspec": {
   "display_name": "Haskell",
   "language": "haskell",
   "name": "haskell"
  },
  "language_info": {
   "codemirror_mode": "ihaskell",
   "file_extension": ".hs",
   "name": "haskell",
   "version": "7.10.2"
  }
 },
 "nbformat": 4,
 "nbformat_minor": 0
}
